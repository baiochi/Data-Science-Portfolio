{
 "cells": [
  {
   "cell_type": "markdown",
   "metadata": {},
   "source": [
    "# Account setup"
   ]
  },
  {
   "cell_type": "markdown",
   "metadata": {},
   "source": [
    "For using this app, first you need to follow thee steps:  \n",
    "\n",
    "- Create a Facebook Developer Account\n",
    "- Have an Instagram Page with Business or Professional features enable\n",
    "- Connect both accounts in Meta Business\n",
    "- In Developers page, create App with category \"Others/None\"\n",
    "- Enable FacebookLogin\n",
    "- Open Graph API Explorer\n",
    "- Generate access token with the following permissions:  \n",
    "\t- read_insights\n",
    "\t- pages_show_list\n",
    "\t- ads_management\n",
    "\t- ads_read\n",
    "\t- instagram_basic\n",
    "\t- instagram_manage_insights\n",
    "\t- pages_read_engagement\n",
    "\t- pages_manage_ads\n",
    "\t- pages_manage_posts"
   ]
  },
  {
   "cell_type": "markdown",
   "metadata": {},
   "source": [
    "## Define IDs and Tokens"
   ]
  },
  {
   "cell_type": "code",
   "execution_count": 1,
   "metadata": {},
   "outputs": [],
   "source": [
    "# Creating API url\n",
    "BASE_URL = 'https://graph.facebook.com/'\n",
    "API_VERSION = 'v14.0/'\n",
    "API_URL = BASE_URL + API_VERSION\n",
    "\n",
    "# Created at Graph API Explorer\n",
    "TOKEN = 'EAAK6QzfxZBmkBAJPs1mmrKuXoU1IaCMP5nQCfIAlqDABhJlsFSrDIXoD0hZBrxPkZBZBwslJX9PZCF68R9XIm0q5ZCkqI3APBMX0KuXGjPR9kRAbkyUtDvTIaaatgZBqa101VvCTSaV6RpPkpM0eEYYga8QXIRZAO8KYLQNGBsBq0GRgYq6SYbF675jntM2YqbfQ2EK2LNk0zZBQpruQPKF7WlaXqwulaYujAlT13pcJGicZCofc9dhFmZAU76sE559jMIZD'\n",
    "\n",
    "# Found in App basic settings at Meta for Developers\n",
    "APP_ID = '767747817601641'\n",
    "APP_SECRET = '6991d4debcd97114e257ad3b8301854f'"
   ]
  },
  {
   "cell_type": "markdown",
   "metadata": {},
   "source": [
    "## Debug Token"
   ]
  },
  {
   "cell_type": "code",
   "execution_count": 2,
   "metadata": {},
   "outputs": [
    {
     "name": "stdout",
     "output_type": "stream",
     "text": [
      "Token expires at: 2022-10-22 00:22:00\n"
     ]
    }
   ],
   "source": [
    "from src.defines import make_api_call, debug_token\n",
    "\n",
    "token_data = debug_token(API_URL, TOKEN)"
   ]
  },
  {
   "cell_type": "markdown",
   "metadata": {},
   "source": [
    "## Get Page ID"
   ]
  },
  {
   "cell_type": "code",
   "execution_count": 3,
   "metadata": {},
   "outputs": [
    {
     "data": {
      "text/plain": [
       "['1498360207056941']"
      ]
     },
     "execution_count": 3,
     "metadata": {},
     "output_type": "execute_result"
    }
   ],
   "source": [
    "from src.defines import get_page_ids\n",
    "\n",
    "page_id = get_page_ids(API_URL, TOKEN)\n",
    "page_id"
   ]
  },
  {
   "cell_type": "markdown",
   "metadata": {},
   "source": [
    "## Get Instagram Business ID"
   ]
  },
  {
   "cell_type": "code",
   "execution_count": 4,
   "metadata": {},
   "outputs": [
    {
     "data": {
      "text/plain": [
       "'17841400570366200'"
      ]
     },
     "execution_count": 4,
     "metadata": {},
     "output_type": "execute_result"
    }
   ],
   "source": [
    "from src.defines import get_ig_business_id\n",
    "\n",
    "instagram_id = get_ig_business_id(page_id[0], API_URL, TOKEN)\n",
    "instagram_id"
   ]
  },
  {
   "cell_type": "markdown",
   "metadata": {},
   "source": [
    "## Account basic informations"
   ]
  },
  {
   "cell_type": "code",
   "execution_count": 5,
   "metadata": {},
   "outputs": [
    {
     "data": {
      "text/plain": [
       "{'username': 'maisqueumbrigadeiro',\n",
       " 'name': 'Mais que um brigadeiro',\n",
       " 'biography': 'Por Nᴀᴛᴀ́ʟɪᴀ Bᴇʀɢᴇs\\n📍Pirassununga- SP\\n • Encomendas e orçamentos ⬇️',\n",
       " 'followers_count': 10492,\n",
       " 'follows_count': 739,\n",
       " 'media_count': 2876,\n",
       " 'profile_picture_url': 'https://scontent.fvcp1-1.fna.fbcdn.net/v/t51.2885-15/121255887_110827327369291_2220368078135354739_n.jpg?_nc_cat=106&ccb=1-7&_nc_sid=86c713&_nc_ohc=UMz474rHQ2YAX_QyQLw&_nc_oc=AQnBUImKeqahs3LcKnkfrmGyIcpvYlZBvJVPiUCYQZxuBV8g2s31hOp0AXsA9iP-Lhg&_nc_ht=scontent.fvcp1-1.fna&edm=AL-3X8kEAAAA&oh=00_AT9nKLcYtBanjh7TxFmNx20kAjeYabQkV3rhw5mkjgk9TQ&oe=62E14E72',\n",
       " 'id': '17841400570366200'}"
      ]
     },
     "execution_count": 5,
     "metadata": {},
     "output_type": "execute_result"
    }
   ],
   "source": [
    "from src.defines import get_account_info\n",
    "\n",
    "account_info = get_account_info(instagram_id, API_URL, TOKEN)\n",
    "account_info"
   ]
  },
  {
   "cell_type": "markdown",
   "metadata": {},
   "source": [
    "## Obtain Long Live Access Token"
   ]
  },
  {
   "cell_type": "code",
   "execution_count": 6,
   "metadata": {},
   "outputs": [],
   "source": [
    "from src.defines import get_long_live_token\n",
    "\n",
    "long_token = get_long_live_token(API_URL, APP_ID, APP_SECRET, TOKEN)"
   ]
  },
  {
   "cell_type": "code",
   "execution_count": 7,
   "metadata": {},
   "outputs": [
    {
     "name": "stdout",
     "output_type": "stream",
     "text": [
      "Token expires at: 2022-10-22 00:22:00\n",
      "Issued at: 2022-07-24 00:06:37\n",
      "Data Access Expires at: 2022-10-22 00:22:00\n"
     ]
    }
   ],
   "source": [
    "# Debug Token\n",
    "long_token_data = debug_token(API_URL, long_token['access_token'])\n",
    "\n",
    "# Check expire date\n",
    "from datetime import datetime\n",
    "print('Issued at: ' + str(datetime.fromtimestamp(long_token_data['data']['issued_at'])))\n",
    "print('Data Access Expires at: ' + str(datetime.fromtimestamp(long_token_data['data']['data_access_expires_at'])))"
   ]
  },
  {
   "cell_type": "markdown",
   "metadata": {},
   "source": [
    "## Create Credentials"
   ]
  },
  {
   "cell_type": "code",
   "execution_count": 8,
   "metadata": {},
   "outputs": [
    {
     "data": {
      "text/plain": [
       "{'access_token': 'EAAK6QzfxZBmkBAIkJpWX5Bz620EUWrhuMXUMYhriNjDXZBusAe7ZCBs2c3RfmZBkJEL1PvnNlc3IKxBl9o5gDDVjiHE2RArLyXjhT7e7DXBCc7UDIkGMwzZAlXbwZBfpNTLiAFyGJuPnpEZBCe0EsoSbzZCSX7OywMoZBASR9lC0sYjVk9FfYHxtodkIBWxpWceQZD',\n",
       " 'client_id': '767747817601641',\n",
       " 'client_secret': '6991d4debcd97114e257ad3b8301854f',\n",
       " 'page_id': '1498360207056941',\n",
       " 'instagram_id': '17841400570366200',\n",
       " 'ig_username': 'maisqueumbrigadeiro',\n",
       " 'graph_domain': 'https://graph.facebook.com/',\n",
       " 'graph_version': 'v14.0/',\n",
       " 'endpoint_base': 'https://graph.facebook.com/v14.0/'}"
      ]
     },
     "execution_count": 8,
     "metadata": {},
     "output_type": "execute_result"
    }
   ],
   "source": [
    "CREDENTIALS = {\n",
    "\t'access_token' : long_token['access_token'] ,\n",
    "\t'client_id' : APP_ID ,\n",
    "\t'client_secret' : APP_SECRET ,\n",
    "\t'page_id' : page_id[0],\n",
    "\t'instagram_id' : instagram_id,\n",
    "\t'ig_username' : account_info['username'],\n",
    "\t'graph_domain' : BASE_URL ,\n",
    "\t'graph_version' : API_VERSION ,\n",
    "\t'endpoint_base' : BASE_URL + API_VERSION ,\n",
    "}\n",
    "CREDENTIALS"
   ]
  },
  {
   "cell_type": "code",
   "execution_count": 9,
   "metadata": {},
   "outputs": [],
   "source": [
    "# Save credentials with pickle object\n",
    "import pickle\n",
    "\n",
    "with open('secrets/credentials.pkl', 'wb') as file:\n",
    "\tpickle.dump(CREDENTIALS, file, protocol=pickle.HIGHEST_PROTOCOL)"
   ]
  }
 ],
 "metadata": {
  "kernelspec": {
   "display_name": "Python 3.9.12 ('base')",
   "language": "python",
   "name": "python3"
  },
  "language_info": {
   "codemirror_mode": {
    "name": "ipython",
    "version": 3
   },
   "file_extension": ".py",
   "mimetype": "text/x-python",
   "name": "python",
   "nbconvert_exporter": "python",
   "pygments_lexer": "ipython3",
   "version": "3.9.12"
  },
  "orig_nbformat": 4,
  "vscode": {
   "interpreter": {
    "hash": "4cc37c5bde6f2c4a9abbb0f88e1ba241d8320ce9d430498035b829e5a00e7fb9"
   }
  }
 },
 "nbformat": 4,
 "nbformat_minor": 2
}
