{
 "cells": [
  {
   "cell_type": "markdown",
   "id": "4dee9621",
   "metadata": {},
   "source": [
    "<p class='main_title'>NPL with Multilabel Classification<p>\n",
    "    <hr>"
   ]
  },
  {
   "cell_type": "markdown",
   "id": "ebf48a0c",
   "metadata": {
    "heading_collapsed": true
   },
   "source": [
    "# Imports"
   ]
  },
  {
   "cell_type": "code",
   "execution_count": 1,
   "id": "fee9fa61",
   "metadata": {
    "ExecuteTime": {
     "end_time": "2022-05-27T02:12:39.483321Z",
     "start_time": "2022-05-27T02:12:33.861643Z"
    },
    "hidden": true,
    "run_control": {
     "marked": true
    }
   },
   "outputs": [
    {
     "name": "stderr",
     "output_type": "stream",
     "text": [
      "\n",
      "Bad key text.latex.preview in file /Users/baiochi/opt/anaconda3/lib/python3.9/site-packages/matplotlib/mpl-data/stylelib/_classic_test.mplstyle, line 123 ('text.latex.preview : False')\n",
      "You probably need to get an updated matplotlibrc file from\n",
      "https://github.com/matplotlib/matplotlib/blob/v3.5.1/matplotlibrc.template\n",
      "or from the matplotlib source distribution\n",
      "\n",
      "Bad key mathtext.fallback_to_cm in file /Users/baiochi/opt/anaconda3/lib/python3.9/site-packages/matplotlib/mpl-data/stylelib/_classic_test.mplstyle, line 155 ('mathtext.fallback_to_cm : True  # When True, use symbols from the Computer Modern')\n",
      "You probably need to get an updated matplotlibrc file from\n",
      "https://github.com/matplotlib/matplotlib/blob/v3.5.1/matplotlibrc.template\n",
      "or from the matplotlib source distribution\n",
      "\n",
      "Bad key savefig.jpeg_quality in file /Users/baiochi/opt/anaconda3/lib/python3.9/site-packages/matplotlib/mpl-data/stylelib/_classic_test.mplstyle, line 418 ('savefig.jpeg_quality: 95       # when a jpeg is saved, the default quality parameter.')\n",
      "You probably need to get an updated matplotlibrc file from\n",
      "https://github.com/matplotlib/matplotlib/blob/v3.5.1/matplotlibrc.template\n",
      "or from the matplotlib source distribution\n",
      "\n",
      "Bad key keymap.all_axes in file /Users/baiochi/opt/anaconda3/lib/python3.9/site-packages/matplotlib/mpl-data/stylelib/_classic_test.mplstyle, line 466 ('keymap.all_axes : a                 # enable all axes')\n",
      "You probably need to get an updated matplotlibrc file from\n",
      "https://github.com/matplotlib/matplotlib/blob/v3.5.1/matplotlibrc.template\n",
      "or from the matplotlib source distribution\n",
      "\n",
      "Bad key animation.avconv_path in file /Users/baiochi/opt/anaconda3/lib/python3.9/site-packages/matplotlib/mpl-data/stylelib/_classic_test.mplstyle, line 477 ('animation.avconv_path: avconv     # Path to avconv binary. Without full path')\n",
      "You probably need to get an updated matplotlibrc file from\n",
      "https://github.com/matplotlib/matplotlib/blob/v3.5.1/matplotlibrc.template\n",
      "or from the matplotlib source distribution\n",
      "\n",
      "Bad key animation.avconv_args in file /Users/baiochi/opt/anaconda3/lib/python3.9/site-packages/matplotlib/mpl-data/stylelib/_classic_test.mplstyle, line 479 ('animation.avconv_args:            # Additional arguments to pass to avconv')\n",
      "You probably need to get an updated matplotlibrc file from\n",
      "https://github.com/matplotlib/matplotlib/blob/v3.5.1/matplotlibrc.template\n",
      "or from the matplotlib source distribution\n"
     ]
    }
   ],
   "source": [
    "import numpy as np\n",
    "import pandas as pd\n",
    "import matplotlib.pyplot as plt\n",
    "import seaborn as sns; sns.set()\n",
    "import plotly.express as px\n",
    "\n",
    "# Plot colors\n",
    "URBAN_PALETTE_CATEGORICAL = pd.DataFrame({\n",
    "    'cyan'    : '#1696d2',\n",
    "    'gray'    : '#d2d2d2',\n",
    "    'magenta' : '#ec008b',\n",
    "    'yellow'  : '#fdbf11',\n",
    "    'dark'    : '#332d2f',\n",
    "    'ocean'   : '#0a4c6a',\n",
    "}, index=['hex_code'])"
   ]
  },
  {
   "cell_type": "markdown",
   "id": "07a84f7d",
   "metadata": {},
   "source": [
    "# Analysis"
   ]
  },
  {
   "cell_type": "markdown",
   "id": "65ae63c3",
   "metadata": {
    "heading_collapsed": true
   },
   "source": [
    "## Reading file"
   ]
  },
  {
   "cell_type": "code",
   "execution_count": 2,
   "id": "676ff801",
   "metadata": {
    "ExecuteTime": {
     "end_time": "2022-05-27T02:12:39.554415Z",
     "start_time": "2022-05-27T02:12:39.486023Z"
    },
    "hidden": true,
    "scrolled": false
   },
   "outputs": [
    {
     "name": "stdout",
     "output_type": "stream",
     "text": [
      "<class 'pandas.core.frame.DataFrame'>\n",
      "RangeIndex: 5408 entries, 0 to 5407\n",
      "Data columns (total 2 columns):\n",
      " #   Column     Non-Null Count  Dtype \n",
      "---  ------     --------------  ----- \n",
      " 0   Perguntas  5408 non-null   object\n",
      " 1   Tags       5408 non-null   object\n",
      "dtypes: object(2)\n",
      "memory usage: 84.6+ KB\n"
     ]
    }
   ],
   "source": [
    "df = pd.read_csv('data/stackoverflow_questions_pt.csv')\n",
    "df.info()"
   ]
  },
  {
   "cell_type": "code",
   "execution_count": 3,
   "id": "356a3fcc",
   "metadata": {
    "ExecuteTime": {
     "end_time": "2022-05-27T02:12:39.586793Z",
     "start_time": "2022-05-27T02:12:39.559101Z"
    },
    "hidden": true,
    "scrolled": true
   },
   "outputs": [
    {
     "data": {
      "text/html": [
       "<div>\n",
       "<style scoped>\n",
       "    .dataframe tbody tr th:only-of-type {\n",
       "        vertical-align: middle;\n",
       "    }\n",
       "\n",
       "    .dataframe tbody tr th {\n",
       "        vertical-align: top;\n",
       "    }\n",
       "\n",
       "    .dataframe thead th {\n",
       "        text-align: right;\n",
       "    }\n",
       "</style>\n",
       "<table border=\"1\" class=\"dataframe\">\n",
       "  <thead>\n",
       "    <tr style=\"text-align: right;\">\n",
       "      <th></th>\n",
       "      <th>Perguntas</th>\n",
       "      <th>Tags</th>\n",
       "    </tr>\n",
       "  </thead>\n",
       "  <tbody>\n",
       "    <tr>\n",
       "      <th>0</th>\n",
       "      <td>Possuo um projeto Node.js porém preciso criar ...</td>\n",
       "      <td>node.js</td>\n",
       "    </tr>\n",
       "    <tr>\n",
       "      <th>1</th>\n",
       "      <td>Gostaria de fazer testes unitários no Node.js,...</td>\n",
       "      <td>node.js</td>\n",
       "    </tr>\n",
       "    <tr>\n",
       "      <th>2</th>\n",
       "      <td>Como inverter a ordem com que o jQuery itera u...</td>\n",
       "      <td>jquery</td>\n",
       "    </tr>\n",
       "    <tr>\n",
       "      <th>3</th>\n",
       "      <td>Eu tenho uma página onde pretendo utilizar um ...</td>\n",
       "      <td>html</td>\n",
       "    </tr>\n",
       "    <tr>\n",
       "      <th>4</th>\n",
       "      <td>Como exibir os dados retornados do FireStore e...</td>\n",
       "      <td>html angular</td>\n",
       "    </tr>\n",
       "  </tbody>\n",
       "</table>\n",
       "</div>"
      ],
      "text/plain": [
       "                                           Perguntas           Tags\n",
       "0  Possuo um projeto Node.js porém preciso criar ...        node.js\n",
       "1  Gostaria de fazer testes unitários no Node.js,...        node.js\n",
       "2  Como inverter a ordem com que o jQuery itera u...         jquery\n",
       "3  Eu tenho uma página onde pretendo utilizar um ...           html\n",
       "4  Como exibir os dados retornados do FireStore e...  html angular "
      ]
     },
     "execution_count": 3,
     "metadata": {},
     "output_type": "execute_result"
    }
   ],
   "source": [
    "df.head()"
   ]
  },
  {
   "cell_type": "markdown",
   "id": "a7926100",
   "metadata": {
    "heading_collapsed": true
   },
   "source": [
    "## Exploratory Data Analysis"
   ]
  },
  {
   "cell_type": "markdown",
   "id": "8d0b2e7d",
   "metadata": {
    "heading_collapsed": true,
    "hidden": true
   },
   "source": [
    "### Counting Multilabels"
   ]
  },
  {
   "cell_type": "code",
   "execution_count": 225,
   "id": "816348b7",
   "metadata": {
    "ExecuteTime": {
     "end_time": "2022-05-27T04:04:00.821905Z",
     "start_time": "2022-05-27T04:04:00.718116Z"
    },
    "hidden": true
   },
   "outputs": [
    {
     "data": {
      "application/vnd.plotly.v1+json": {
       "config": {
        "plotlyServerURL": "https://plot.ly"
       },
       "data": [
        {
         "alignmentgroup": "True",
         "hovertemplate": "variable=Tags<br>index=%{x}<br>value=%{y}<extra></extra>",
         "legendgroup": "Tags",
         "marker": {
          "color": "#1696d2",
          "line": {
           "color": "rgb(8,48,107)",
           "width": 1.5
          },
          "pattern": {
           "shape": ""
          }
         },
         "name": "Tags",
         "offsetgroup": "Tags",
         "opacity": 0.8,
         "orientation": "v",
         "showlegend": true,
         "textposition": "auto",
         "type": "bar",
         "x": [
          "jquery",
          "html",
          "angular",
          "node.js",
          "jquery html",
          "html ",
          "jquery ",
          "jquery html ",
          "angular ",
          "html angular",
          "node.js ",
          "jquery  ",
          "angular node.js",
          "jquery angular",
          "html node.js",
          "html angular ",
          "html  ",
          "jquery html angular",
          "angular  ",
          "html angular node.js",
          "jquery node.js ",
          "jquery html  ",
          "angular node.js ",
          "html angular  ",
          "html node.js ",
          "jquery html angular ",
          "html jquery",
          "jquery node.js",
          "html jquery ",
          "jquery angular ",
          "jquery html node.js",
          "node.js html",
          "html angular  node.js",
          "node.js html ",
          "angular html",
          " node.js",
          "jquery angular  "
         ],
         "xaxis": "x",
         "y": [
          1320,
          1005,
          526,
          503,
          477,
          473,
          330,
          216,
          215,
          66,
          52,
          33,
          32,
          29,
          26,
          19,
          17,
          13,
          7,
          6,
          5,
          5,
          4,
          4,
          3,
          3,
          3,
          3,
          2,
          2,
          2,
          2,
          1,
          1,
          1,
          1,
          1
         ],
         "yaxis": "y"
        }
       ],
       "layout": {
        "barmode": "relative",
        "legend": {
         "title": {
          "text": "variable"
         },
         "tracegroupgap": 0
        },
        "template": {
         "data": {
          "bar": [
           {
            "error_x": {
             "color": "#2a3f5f"
            },
            "error_y": {
             "color": "#2a3f5f"
            },
            "marker": {
             "line": {
              "color": "#E5ECF6",
              "width": 0.5
             },
             "pattern": {
              "fillmode": "overlay",
              "size": 10,
              "solidity": 0.2
             }
            },
            "type": "bar"
           }
          ],
          "barpolar": [
           {
            "marker": {
             "line": {
              "color": "#E5ECF6",
              "width": 0.5
             },
             "pattern": {
              "fillmode": "overlay",
              "size": 10,
              "solidity": 0.2
             }
            },
            "type": "barpolar"
           }
          ],
          "carpet": [
           {
            "aaxis": {
             "endlinecolor": "#2a3f5f",
             "gridcolor": "white",
             "linecolor": "white",
             "minorgridcolor": "white",
             "startlinecolor": "#2a3f5f"
            },
            "baxis": {
             "endlinecolor": "#2a3f5f",
             "gridcolor": "white",
             "linecolor": "white",
             "minorgridcolor": "white",
             "startlinecolor": "#2a3f5f"
            },
            "type": "carpet"
           }
          ],
          "choropleth": [
           {
            "colorbar": {
             "outlinewidth": 0,
             "ticks": ""
            },
            "type": "choropleth"
           }
          ],
          "contour": [
           {
            "colorbar": {
             "outlinewidth": 0,
             "ticks": ""
            },
            "colorscale": [
             [
              0,
              "#0d0887"
             ],
             [
              0.1111111111111111,
              "#46039f"
             ],
             [
              0.2222222222222222,
              "#7201a8"
             ],
             [
              0.3333333333333333,
              "#9c179e"
             ],
             [
              0.4444444444444444,
              "#bd3786"
             ],
             [
              0.5555555555555556,
              "#d8576b"
             ],
             [
              0.6666666666666666,
              "#ed7953"
             ],
             [
              0.7777777777777778,
              "#fb9f3a"
             ],
             [
              0.8888888888888888,
              "#fdca26"
             ],
             [
              1,
              "#f0f921"
             ]
            ],
            "type": "contour"
           }
          ],
          "contourcarpet": [
           {
            "colorbar": {
             "outlinewidth": 0,
             "ticks": ""
            },
            "type": "contourcarpet"
           }
          ],
          "heatmap": [
           {
            "colorbar": {
             "outlinewidth": 0,
             "ticks": ""
            },
            "colorscale": [
             [
              0,
              "#0d0887"
             ],
             [
              0.1111111111111111,
              "#46039f"
             ],
             [
              0.2222222222222222,
              "#7201a8"
             ],
             [
              0.3333333333333333,
              "#9c179e"
             ],
             [
              0.4444444444444444,
              "#bd3786"
             ],
             [
              0.5555555555555556,
              "#d8576b"
             ],
             [
              0.6666666666666666,
              "#ed7953"
             ],
             [
              0.7777777777777778,
              "#fb9f3a"
             ],
             [
              0.8888888888888888,
              "#fdca26"
             ],
             [
              1,
              "#f0f921"
             ]
            ],
            "type": "heatmap"
           }
          ],
          "heatmapgl": [
           {
            "colorbar": {
             "outlinewidth": 0,
             "ticks": ""
            },
            "colorscale": [
             [
              0,
              "#0d0887"
             ],
             [
              0.1111111111111111,
              "#46039f"
             ],
             [
              0.2222222222222222,
              "#7201a8"
             ],
             [
              0.3333333333333333,
              "#9c179e"
             ],
             [
              0.4444444444444444,
              "#bd3786"
             ],
             [
              0.5555555555555556,
              "#d8576b"
             ],
             [
              0.6666666666666666,
              "#ed7953"
             ],
             [
              0.7777777777777778,
              "#fb9f3a"
             ],
             [
              0.8888888888888888,
              "#fdca26"
             ],
             [
              1,
              "#f0f921"
             ]
            ],
            "type": "heatmapgl"
           }
          ],
          "histogram": [
           {
            "marker": {
             "pattern": {
              "fillmode": "overlay",
              "size": 10,
              "solidity": 0.2
             }
            },
            "type": "histogram"
           }
          ],
          "histogram2d": [
           {
            "colorbar": {
             "outlinewidth": 0,
             "ticks": ""
            },
            "colorscale": [
             [
              0,
              "#0d0887"
             ],
             [
              0.1111111111111111,
              "#46039f"
             ],
             [
              0.2222222222222222,
              "#7201a8"
             ],
             [
              0.3333333333333333,
              "#9c179e"
             ],
             [
              0.4444444444444444,
              "#bd3786"
             ],
             [
              0.5555555555555556,
              "#d8576b"
             ],
             [
              0.6666666666666666,
              "#ed7953"
             ],
             [
              0.7777777777777778,
              "#fb9f3a"
             ],
             [
              0.8888888888888888,
              "#fdca26"
             ],
             [
              1,
              "#f0f921"
             ]
            ],
            "type": "histogram2d"
           }
          ],
          "histogram2dcontour": [
           {
            "colorbar": {
             "outlinewidth": 0,
             "ticks": ""
            },
            "colorscale": [
             [
              0,
              "#0d0887"
             ],
             [
              0.1111111111111111,
              "#46039f"
             ],
             [
              0.2222222222222222,
              "#7201a8"
             ],
             [
              0.3333333333333333,
              "#9c179e"
             ],
             [
              0.4444444444444444,
              "#bd3786"
             ],
             [
              0.5555555555555556,
              "#d8576b"
             ],
             [
              0.6666666666666666,
              "#ed7953"
             ],
             [
              0.7777777777777778,
              "#fb9f3a"
             ],
             [
              0.8888888888888888,
              "#fdca26"
             ],
             [
              1,
              "#f0f921"
             ]
            ],
            "type": "histogram2dcontour"
           }
          ],
          "mesh3d": [
           {
            "colorbar": {
             "outlinewidth": 0,
             "ticks": ""
            },
            "type": "mesh3d"
           }
          ],
          "parcoords": [
           {
            "line": {
             "colorbar": {
              "outlinewidth": 0,
              "ticks": ""
             }
            },
            "type": "parcoords"
           }
          ],
          "pie": [
           {
            "automargin": true,
            "type": "pie"
           }
          ],
          "scatter": [
           {
            "marker": {
             "colorbar": {
              "outlinewidth": 0,
              "ticks": ""
             }
            },
            "type": "scatter"
           }
          ],
          "scatter3d": [
           {
            "line": {
             "colorbar": {
              "outlinewidth": 0,
              "ticks": ""
             }
            },
            "marker": {
             "colorbar": {
              "outlinewidth": 0,
              "ticks": ""
             }
            },
            "type": "scatter3d"
           }
          ],
          "scattercarpet": [
           {
            "marker": {
             "colorbar": {
              "outlinewidth": 0,
              "ticks": ""
             }
            },
            "type": "scattercarpet"
           }
          ],
          "scattergeo": [
           {
            "marker": {
             "colorbar": {
              "outlinewidth": 0,
              "ticks": ""
             }
            },
            "type": "scattergeo"
           }
          ],
          "scattergl": [
           {
            "marker": {
             "colorbar": {
              "outlinewidth": 0,
              "ticks": ""
             }
            },
            "type": "scattergl"
           }
          ],
          "scattermapbox": [
           {
            "marker": {
             "colorbar": {
              "outlinewidth": 0,
              "ticks": ""
             }
            },
            "type": "scattermapbox"
           }
          ],
          "scatterpolar": [
           {
            "marker": {
             "colorbar": {
              "outlinewidth": 0,
              "ticks": ""
             }
            },
            "type": "scatterpolar"
           }
          ],
          "scatterpolargl": [
           {
            "marker": {
             "colorbar": {
              "outlinewidth": 0,
              "ticks": ""
             }
            },
            "type": "scatterpolargl"
           }
          ],
          "scatterternary": [
           {
            "marker": {
             "colorbar": {
              "outlinewidth": 0,
              "ticks": ""
             }
            },
            "type": "scatterternary"
           }
          ],
          "surface": [
           {
            "colorbar": {
             "outlinewidth": 0,
             "ticks": ""
            },
            "colorscale": [
             [
              0,
              "#0d0887"
             ],
             [
              0.1111111111111111,
              "#46039f"
             ],
             [
              0.2222222222222222,
              "#7201a8"
             ],
             [
              0.3333333333333333,
              "#9c179e"
             ],
             [
              0.4444444444444444,
              "#bd3786"
             ],
             [
              0.5555555555555556,
              "#d8576b"
             ],
             [
              0.6666666666666666,
              "#ed7953"
             ],
             [
              0.7777777777777778,
              "#fb9f3a"
             ],
             [
              0.8888888888888888,
              "#fdca26"
             ],
             [
              1,
              "#f0f921"
             ]
            ],
            "type": "surface"
           }
          ],
          "table": [
           {
            "cells": {
             "fill": {
              "color": "#EBF0F8"
             },
             "line": {
              "color": "white"
             }
            },
            "header": {
             "fill": {
              "color": "#C8D4E3"
             },
             "line": {
              "color": "white"
             }
            },
            "type": "table"
           }
          ]
         },
         "layout": {
          "annotationdefaults": {
           "arrowcolor": "#2a3f5f",
           "arrowhead": 0,
           "arrowwidth": 1
          },
          "autotypenumbers": "strict",
          "coloraxis": {
           "colorbar": {
            "outlinewidth": 0,
            "ticks": ""
           }
          },
          "colorscale": {
           "diverging": [
            [
             0,
             "#8e0152"
            ],
            [
             0.1,
             "#c51b7d"
            ],
            [
             0.2,
             "#de77ae"
            ],
            [
             0.3,
             "#f1b6da"
            ],
            [
             0.4,
             "#fde0ef"
            ],
            [
             0.5,
             "#f7f7f7"
            ],
            [
             0.6,
             "#e6f5d0"
            ],
            [
             0.7,
             "#b8e186"
            ],
            [
             0.8,
             "#7fbc41"
            ],
            [
             0.9,
             "#4d9221"
            ],
            [
             1,
             "#276419"
            ]
           ],
           "sequential": [
            [
             0,
             "#0d0887"
            ],
            [
             0.1111111111111111,
             "#46039f"
            ],
            [
             0.2222222222222222,
             "#7201a8"
            ],
            [
             0.3333333333333333,
             "#9c179e"
            ],
            [
             0.4444444444444444,
             "#bd3786"
            ],
            [
             0.5555555555555556,
             "#d8576b"
            ],
            [
             0.6666666666666666,
             "#ed7953"
            ],
            [
             0.7777777777777778,
             "#fb9f3a"
            ],
            [
             0.8888888888888888,
             "#fdca26"
            ],
            [
             1,
             "#f0f921"
            ]
           ],
           "sequentialminus": [
            [
             0,
             "#0d0887"
            ],
            [
             0.1111111111111111,
             "#46039f"
            ],
            [
             0.2222222222222222,
             "#7201a8"
            ],
            [
             0.3333333333333333,
             "#9c179e"
            ],
            [
             0.4444444444444444,
             "#bd3786"
            ],
            [
             0.5555555555555556,
             "#d8576b"
            ],
            [
             0.6666666666666666,
             "#ed7953"
            ],
            [
             0.7777777777777778,
             "#fb9f3a"
            ],
            [
             0.8888888888888888,
             "#fdca26"
            ],
            [
             1,
             "#f0f921"
            ]
           ]
          },
          "colorway": [
           "#636efa",
           "#EF553B",
           "#00cc96",
           "#ab63fa",
           "#FFA15A",
           "#19d3f3",
           "#FF6692",
           "#B6E880",
           "#FF97FF",
           "#FECB52"
          ],
          "font": {
           "color": "#2a3f5f"
          },
          "geo": {
           "bgcolor": "white",
           "lakecolor": "white",
           "landcolor": "#E5ECF6",
           "showlakes": true,
           "showland": true,
           "subunitcolor": "white"
          },
          "hoverlabel": {
           "align": "left"
          },
          "hovermode": "closest",
          "mapbox": {
           "style": "light"
          },
          "paper_bgcolor": "white",
          "plot_bgcolor": "#E5ECF6",
          "polar": {
           "angularaxis": {
            "gridcolor": "white",
            "linecolor": "white",
            "ticks": ""
           },
           "bgcolor": "#E5ECF6",
           "radialaxis": {
            "gridcolor": "white",
            "linecolor": "white",
            "ticks": ""
           }
          },
          "scene": {
           "xaxis": {
            "backgroundcolor": "#E5ECF6",
            "gridcolor": "white",
            "gridwidth": 2,
            "linecolor": "white",
            "showbackground": true,
            "ticks": "",
            "zerolinecolor": "white"
           },
           "yaxis": {
            "backgroundcolor": "#E5ECF6",
            "gridcolor": "white",
            "gridwidth": 2,
            "linecolor": "white",
            "showbackground": true,
            "ticks": "",
            "zerolinecolor": "white"
           },
           "zaxis": {
            "backgroundcolor": "#E5ECF6",
            "gridcolor": "white",
            "gridwidth": 2,
            "linecolor": "white",
            "showbackground": true,
            "ticks": "",
            "zerolinecolor": "white"
           }
          },
          "shapedefaults": {
           "line": {
            "color": "#2a3f5f"
           }
          },
          "ternary": {
           "aaxis": {
            "gridcolor": "white",
            "linecolor": "white",
            "ticks": ""
           },
           "baxis": {
            "gridcolor": "white",
            "linecolor": "white",
            "ticks": ""
           },
           "bgcolor": "#E5ECF6",
           "caxis": {
            "gridcolor": "white",
            "linecolor": "white",
            "ticks": ""
           }
          },
          "title": {
           "x": 0.05
          },
          "xaxis": {
           "automargin": true,
           "gridcolor": "white",
           "linecolor": "white",
           "ticks": "",
           "title": {
            "standoff": 15
           },
           "zerolinecolor": "white",
           "zerolinewidth": 2
          },
          "yaxis": {
           "automargin": true,
           "gridcolor": "white",
           "linecolor": "white",
           "ticks": "",
           "title": {
            "standoff": 15
           },
           "zerolinecolor": "white",
           "zerolinewidth": 2
          }
         }
        },
        "title": {
         "text": "Value counts for each label combination"
        },
        "xaxis": {
         "anchor": "y",
         "domain": [
          0,
          1
         ],
         "title": {
          "text": "index"
         }
        },
        "yaxis": {
         "anchor": "x",
         "domain": [
          0,
          1
         ],
         "title": {
          "text": "value"
         }
        }
       }
      },
      "text/html": [
       "<div>                            <div id=\"4964b4ee-6847-461a-8f6c-39b86007fc57\" class=\"plotly-graph-div\" style=\"height:525px; width:100%;\"></div>            <script type=\"text/javascript\">                require([\"plotly\"], function(Plotly) {                    window.PLOTLYENV=window.PLOTLYENV || {};                                    if (document.getElementById(\"4964b4ee-6847-461a-8f6c-39b86007fc57\")) {                    Plotly.newPlot(                        \"4964b4ee-6847-461a-8f6c-39b86007fc57\",                        [{\"alignmentgroup\":\"True\",\"hovertemplate\":\"variable=Tags<br>index=%{x}<br>value=%{y}<extra></extra>\",\"legendgroup\":\"Tags\",\"marker\":{\"color\":\"#1696d2\",\"pattern\":{\"shape\":\"\"},\"line\":{\"color\":\"rgb(8,48,107)\",\"width\":1.5}},\"name\":\"Tags\",\"offsetgroup\":\"Tags\",\"orientation\":\"v\",\"showlegend\":true,\"textposition\":\"auto\",\"x\":[\"jquery\",\"html\",\"angular\",\"node.js\",\"jquery html\",\"html \",\"jquery \",\"jquery html \",\"angular \",\"html angular\",\"node.js \",\"jquery  \",\"angular node.js\",\"jquery angular\",\"html node.js\",\"html angular \",\"html  \",\"jquery html angular\",\"angular  \",\"html angular node.js\",\"jquery node.js \",\"jquery html  \",\"angular node.js \",\"html angular  \",\"html node.js \",\"jquery html angular \",\"html jquery\",\"jquery node.js\",\"html jquery \",\"jquery angular \",\"jquery html node.js\",\"node.js html\",\"html angular  node.js\",\"node.js html \",\"angular html\",\" node.js\",\"jquery angular  \"],\"xaxis\":\"x\",\"y\":[1320,1005,526,503,477,473,330,216,215,66,52,33,32,29,26,19,17,13,7,6,5,5,4,4,3,3,3,3,2,2,2,2,1,1,1,1,1],\"yaxis\":\"y\",\"type\":\"bar\",\"opacity\":0.8}],                        {\"template\":{\"data\":{\"bar\":[{\"error_x\":{\"color\":\"#2a3f5f\"},\"error_y\":{\"color\":\"#2a3f5f\"},\"marker\":{\"line\":{\"color\":\"#E5ECF6\",\"width\":0.5},\"pattern\":{\"fillmode\":\"overlay\",\"size\":10,\"solidity\":0.2}},\"type\":\"bar\"}],\"barpolar\":[{\"marker\":{\"line\":{\"color\":\"#E5ECF6\",\"width\":0.5},\"pattern\":{\"fillmode\":\"overlay\",\"size\":10,\"solidity\":0.2}},\"type\":\"barpolar\"}],\"carpet\":[{\"aaxis\":{\"endlinecolor\":\"#2a3f5f\",\"gridcolor\":\"white\",\"linecolor\":\"white\",\"minorgridcolor\":\"white\",\"startlinecolor\":\"#2a3f5f\"},\"baxis\":{\"endlinecolor\":\"#2a3f5f\",\"gridcolor\":\"white\",\"linecolor\":\"white\",\"minorgridcolor\":\"white\",\"startlinecolor\":\"#2a3f5f\"},\"type\":\"carpet\"}],\"choropleth\":[{\"colorbar\":{\"outlinewidth\":0,\"ticks\":\"\"},\"type\":\"choropleth\"}],\"contour\":[{\"colorbar\":{\"outlinewidth\":0,\"ticks\":\"\"},\"colorscale\":[[0.0,\"#0d0887\"],[0.1111111111111111,\"#46039f\"],[0.2222222222222222,\"#7201a8\"],[0.3333333333333333,\"#9c179e\"],[0.4444444444444444,\"#bd3786\"],[0.5555555555555556,\"#d8576b\"],[0.6666666666666666,\"#ed7953\"],[0.7777777777777778,\"#fb9f3a\"],[0.8888888888888888,\"#fdca26\"],[1.0,\"#f0f921\"]],\"type\":\"contour\"}],\"contourcarpet\":[{\"colorbar\":{\"outlinewidth\":0,\"ticks\":\"\"},\"type\":\"contourcarpet\"}],\"heatmap\":[{\"colorbar\":{\"outlinewidth\":0,\"ticks\":\"\"},\"colorscale\":[[0.0,\"#0d0887\"],[0.1111111111111111,\"#46039f\"],[0.2222222222222222,\"#7201a8\"],[0.3333333333333333,\"#9c179e\"],[0.4444444444444444,\"#bd3786\"],[0.5555555555555556,\"#d8576b\"],[0.6666666666666666,\"#ed7953\"],[0.7777777777777778,\"#fb9f3a\"],[0.8888888888888888,\"#fdca26\"],[1.0,\"#f0f921\"]],\"type\":\"heatmap\"}],\"heatmapgl\":[{\"colorbar\":{\"outlinewidth\":0,\"ticks\":\"\"},\"colorscale\":[[0.0,\"#0d0887\"],[0.1111111111111111,\"#46039f\"],[0.2222222222222222,\"#7201a8\"],[0.3333333333333333,\"#9c179e\"],[0.4444444444444444,\"#bd3786\"],[0.5555555555555556,\"#d8576b\"],[0.6666666666666666,\"#ed7953\"],[0.7777777777777778,\"#fb9f3a\"],[0.8888888888888888,\"#fdca26\"],[1.0,\"#f0f921\"]],\"type\":\"heatmapgl\"}],\"histogram\":[{\"marker\":{\"pattern\":{\"fillmode\":\"overlay\",\"size\":10,\"solidity\":0.2}},\"type\":\"histogram\"}],\"histogram2d\":[{\"colorbar\":{\"outlinewidth\":0,\"ticks\":\"\"},\"colorscale\":[[0.0,\"#0d0887\"],[0.1111111111111111,\"#46039f\"],[0.2222222222222222,\"#7201a8\"],[0.3333333333333333,\"#9c179e\"],[0.4444444444444444,\"#bd3786\"],[0.5555555555555556,\"#d8576b\"],[0.6666666666666666,\"#ed7953\"],[0.7777777777777778,\"#fb9f3a\"],[0.8888888888888888,\"#fdca26\"],[1.0,\"#f0f921\"]],\"type\":\"histogram2d\"}],\"histogram2dcontour\":[{\"colorbar\":{\"outlinewidth\":0,\"ticks\":\"\"},\"colorscale\":[[0.0,\"#0d0887\"],[0.1111111111111111,\"#46039f\"],[0.2222222222222222,\"#7201a8\"],[0.3333333333333333,\"#9c179e\"],[0.4444444444444444,\"#bd3786\"],[0.5555555555555556,\"#d8576b\"],[0.6666666666666666,\"#ed7953\"],[0.7777777777777778,\"#fb9f3a\"],[0.8888888888888888,\"#fdca26\"],[1.0,\"#f0f921\"]],\"type\":\"histogram2dcontour\"}],\"mesh3d\":[{\"colorbar\":{\"outlinewidth\":0,\"ticks\":\"\"},\"type\":\"mesh3d\"}],\"parcoords\":[{\"line\":{\"colorbar\":{\"outlinewidth\":0,\"ticks\":\"\"}},\"type\":\"parcoords\"}],\"pie\":[{\"automargin\":true,\"type\":\"pie\"}],\"scatter\":[{\"marker\":{\"colorbar\":{\"outlinewidth\":0,\"ticks\":\"\"}},\"type\":\"scatter\"}],\"scatter3d\":[{\"line\":{\"colorbar\":{\"outlinewidth\":0,\"ticks\":\"\"}},\"marker\":{\"colorbar\":{\"outlinewidth\":0,\"ticks\":\"\"}},\"type\":\"scatter3d\"}],\"scattercarpet\":[{\"marker\":{\"colorbar\":{\"outlinewidth\":0,\"ticks\":\"\"}},\"type\":\"scattercarpet\"}],\"scattergeo\":[{\"marker\":{\"colorbar\":{\"outlinewidth\":0,\"ticks\":\"\"}},\"type\":\"scattergeo\"}],\"scattergl\":[{\"marker\":{\"colorbar\":{\"outlinewidth\":0,\"ticks\":\"\"}},\"type\":\"scattergl\"}],\"scattermapbox\":[{\"marker\":{\"colorbar\":{\"outlinewidth\":0,\"ticks\":\"\"}},\"type\":\"scattermapbox\"}],\"scatterpolar\":[{\"marker\":{\"colorbar\":{\"outlinewidth\":0,\"ticks\":\"\"}},\"type\":\"scatterpolar\"}],\"scatterpolargl\":[{\"marker\":{\"colorbar\":{\"outlinewidth\":0,\"ticks\":\"\"}},\"type\":\"scatterpolargl\"}],\"scatterternary\":[{\"marker\":{\"colorbar\":{\"outlinewidth\":0,\"ticks\":\"\"}},\"type\":\"scatterternary\"}],\"surface\":[{\"colorbar\":{\"outlinewidth\":0,\"ticks\":\"\"},\"colorscale\":[[0.0,\"#0d0887\"],[0.1111111111111111,\"#46039f\"],[0.2222222222222222,\"#7201a8\"],[0.3333333333333333,\"#9c179e\"],[0.4444444444444444,\"#bd3786\"],[0.5555555555555556,\"#d8576b\"],[0.6666666666666666,\"#ed7953\"],[0.7777777777777778,\"#fb9f3a\"],[0.8888888888888888,\"#fdca26\"],[1.0,\"#f0f921\"]],\"type\":\"surface\"}],\"table\":[{\"cells\":{\"fill\":{\"color\":\"#EBF0F8\"},\"line\":{\"color\":\"white\"}},\"header\":{\"fill\":{\"color\":\"#C8D4E3\"},\"line\":{\"color\":\"white\"}},\"type\":\"table\"}]},\"layout\":{\"annotationdefaults\":{\"arrowcolor\":\"#2a3f5f\",\"arrowhead\":0,\"arrowwidth\":1},\"autotypenumbers\":\"strict\",\"coloraxis\":{\"colorbar\":{\"outlinewidth\":0,\"ticks\":\"\"}},\"colorscale\":{\"diverging\":[[0,\"#8e0152\"],[0.1,\"#c51b7d\"],[0.2,\"#de77ae\"],[0.3,\"#f1b6da\"],[0.4,\"#fde0ef\"],[0.5,\"#f7f7f7\"],[0.6,\"#e6f5d0\"],[0.7,\"#b8e186\"],[0.8,\"#7fbc41\"],[0.9,\"#4d9221\"],[1,\"#276419\"]],\"sequential\":[[0.0,\"#0d0887\"],[0.1111111111111111,\"#46039f\"],[0.2222222222222222,\"#7201a8\"],[0.3333333333333333,\"#9c179e\"],[0.4444444444444444,\"#bd3786\"],[0.5555555555555556,\"#d8576b\"],[0.6666666666666666,\"#ed7953\"],[0.7777777777777778,\"#fb9f3a\"],[0.8888888888888888,\"#fdca26\"],[1.0,\"#f0f921\"]],\"sequentialminus\":[[0.0,\"#0d0887\"],[0.1111111111111111,\"#46039f\"],[0.2222222222222222,\"#7201a8\"],[0.3333333333333333,\"#9c179e\"],[0.4444444444444444,\"#bd3786\"],[0.5555555555555556,\"#d8576b\"],[0.6666666666666666,\"#ed7953\"],[0.7777777777777778,\"#fb9f3a\"],[0.8888888888888888,\"#fdca26\"],[1.0,\"#f0f921\"]]},\"colorway\":[\"#636efa\",\"#EF553B\",\"#00cc96\",\"#ab63fa\",\"#FFA15A\",\"#19d3f3\",\"#FF6692\",\"#B6E880\",\"#FF97FF\",\"#FECB52\"],\"font\":{\"color\":\"#2a3f5f\"},\"geo\":{\"bgcolor\":\"white\",\"lakecolor\":\"white\",\"landcolor\":\"#E5ECF6\",\"showlakes\":true,\"showland\":true,\"subunitcolor\":\"white\"},\"hoverlabel\":{\"align\":\"left\"},\"hovermode\":\"closest\",\"mapbox\":{\"style\":\"light\"},\"paper_bgcolor\":\"white\",\"plot_bgcolor\":\"#E5ECF6\",\"polar\":{\"angularaxis\":{\"gridcolor\":\"white\",\"linecolor\":\"white\",\"ticks\":\"\"},\"bgcolor\":\"#E5ECF6\",\"radialaxis\":{\"gridcolor\":\"white\",\"linecolor\":\"white\",\"ticks\":\"\"}},\"scene\":{\"xaxis\":{\"backgroundcolor\":\"#E5ECF6\",\"gridcolor\":\"white\",\"gridwidth\":2,\"linecolor\":\"white\",\"showbackground\":true,\"ticks\":\"\",\"zerolinecolor\":\"white\"},\"yaxis\":{\"backgroundcolor\":\"#E5ECF6\",\"gridcolor\":\"white\",\"gridwidth\":2,\"linecolor\":\"white\",\"showbackground\":true,\"ticks\":\"\",\"zerolinecolor\":\"white\"},\"zaxis\":{\"backgroundcolor\":\"#E5ECF6\",\"gridcolor\":\"white\",\"gridwidth\":2,\"linecolor\":\"white\",\"showbackground\":true,\"ticks\":\"\",\"zerolinecolor\":\"white\"}},\"shapedefaults\":{\"line\":{\"color\":\"#2a3f5f\"}},\"ternary\":{\"aaxis\":{\"gridcolor\":\"white\",\"linecolor\":\"white\",\"ticks\":\"\"},\"baxis\":{\"gridcolor\":\"white\",\"linecolor\":\"white\",\"ticks\":\"\"},\"bgcolor\":\"#E5ECF6\",\"caxis\":{\"gridcolor\":\"white\",\"linecolor\":\"white\",\"ticks\":\"\"}},\"title\":{\"x\":0.05},\"xaxis\":{\"automargin\":true,\"gridcolor\":\"white\",\"linecolor\":\"white\",\"ticks\":\"\",\"title\":{\"standoff\":15},\"zerolinecolor\":\"white\",\"zerolinewidth\":2},\"yaxis\":{\"automargin\":true,\"gridcolor\":\"white\",\"linecolor\":\"white\",\"ticks\":\"\",\"title\":{\"standoff\":15},\"zerolinecolor\":\"white\",\"zerolinewidth\":2}}},\"xaxis\":{\"anchor\":\"y\",\"domain\":[0.0,1.0],\"title\":{\"text\":\"index\"}},\"yaxis\":{\"anchor\":\"x\",\"domain\":[0.0,1.0],\"title\":{\"text\":\"value\"}},\"legend\":{\"title\":{\"text\":\"variable\"},\"tracegroupgap\":0},\"title\":{\"text\":\"Value counts for each label combination\"},\"barmode\":\"relative\"},                        {\"responsive\": true}                    ).then(function(){\n",
       "                            \n",
       "var gd = document.getElementById('4964b4ee-6847-461a-8f6c-39b86007fc57');\n",
       "var x = new MutationObserver(function (mutations, observer) {{\n",
       "        var display = window.getComputedStyle(gd).display;\n",
       "        if (!display || display === 'none') {{\n",
       "            console.log([gd, 'removed!']);\n",
       "            Plotly.purge(gd);\n",
       "            observer.disconnect();\n",
       "        }}\n",
       "}});\n",
       "\n",
       "// Listen for the removal of the full notebook cells\n",
       "var notebookContainer = gd.closest('#notebook-container');\n",
       "if (notebookContainer) {{\n",
       "    x.observe(notebookContainer, {childList: true});\n",
       "}}\n",
       "\n",
       "// Listen for the clearing of the current output cell\n",
       "var outputEl = gd.closest('.output');\n",
       "if (outputEl) {{\n",
       "    x.observe(outputEl, {childList: true});\n",
       "}}\n",
       "\n",
       "                        })                };                });            </script>        </div>"
      ]
     },
     "metadata": {},
     "output_type": "display_data"
    }
   ],
   "source": [
    "px.bar(\n",
    "    df['Tags'].value_counts(), \n",
    "    title='Value counts for each label combination'\n",
    ").update_traces(\n",
    "    marker_color='#1696d2', \n",
    "    marker_line_color='rgb(8,48,107)',\n",
    "    marker_line_width=1.5, \n",
    "    opacity=0.8)"
   ]
  },
  {
   "cell_type": "markdown",
   "id": "a7b6615b",
   "metadata": {
    "heading_collapsed": true,
    "hidden": true
   },
   "source": [
    "### Creating dummies with `MultiLabelBinarizer`"
   ]
  },
  {
   "cell_type": "code",
   "execution_count": 5,
   "id": "10cf1ba8",
   "metadata": {
    "ExecuteTime": {
     "end_time": "2022-05-27T02:12:39.924142Z",
     "start_time": "2022-05-27T02:12:39.620508Z"
    },
    "hidden": true,
    "scrolled": true
   },
   "outputs": [
    {
     "data": {
      "text/html": [
       "<div>\n",
       "<style scoped>\n",
       "    .dataframe tbody tr th:only-of-type {\n",
       "        vertical-align: middle;\n",
       "    }\n",
       "\n",
       "    .dataframe tbody tr th {\n",
       "        vertical-align: top;\n",
       "    }\n",
       "\n",
       "    .dataframe thead th {\n",
       "        text-align: right;\n",
       "    }\n",
       "</style>\n",
       "<table border=\"1\" class=\"dataframe\">\n",
       "  <thead>\n",
       "    <tr style=\"text-align: right;\">\n",
       "      <th></th>\n",
       "      <th>angular</th>\n",
       "      <th>html</th>\n",
       "      <th>jquery</th>\n",
       "      <th>node.js</th>\n",
       "    </tr>\n",
       "  </thead>\n",
       "  <tbody>\n",
       "    <tr>\n",
       "      <th>0</th>\n",
       "      <td>0</td>\n",
       "      <td>0</td>\n",
       "      <td>0</td>\n",
       "      <td>1</td>\n",
       "    </tr>\n",
       "    <tr>\n",
       "      <th>1</th>\n",
       "      <td>0</td>\n",
       "      <td>0</td>\n",
       "      <td>0</td>\n",
       "      <td>1</td>\n",
       "    </tr>\n",
       "    <tr>\n",
       "      <th>2</th>\n",
       "      <td>0</td>\n",
       "      <td>0</td>\n",
       "      <td>1</td>\n",
       "      <td>0</td>\n",
       "    </tr>\n",
       "    <tr>\n",
       "      <th>3</th>\n",
       "      <td>0</td>\n",
       "      <td>1</td>\n",
       "      <td>0</td>\n",
       "      <td>0</td>\n",
       "    </tr>\n",
       "    <tr>\n",
       "      <th>4</th>\n",
       "      <td>1</td>\n",
       "      <td>1</td>\n",
       "      <td>0</td>\n",
       "      <td>0</td>\n",
       "    </tr>\n",
       "  </tbody>\n",
       "</table>\n",
       "</div>"
      ],
      "text/plain": [
       "   angular  html  jquery  node.js\n",
       "0        0     0       0        1\n",
       "1        0     0       0        1\n",
       "2        0     0       1        0\n",
       "3        0     1       0        0\n",
       "4        1     1       0        0"
      ]
     },
     "execution_count": 5,
     "metadata": {},
     "output_type": "execute_result"
    }
   ],
   "source": [
    "from sklearn.preprocessing import MultiLabelBinarizer\n",
    "\n",
    "mlb = MultiLabelBinarizer()\n",
    "\n",
    "tag_counts = pd.DataFrame(\n",
    "    mlb.fit_transform(df['Tags'].apply(str.split)), \n",
    "    columns=mlb.classes_, \n",
    "    index=df.index)\n",
    "\n",
    "tag_counts.head()"
   ]
  },
  {
   "cell_type": "code",
   "execution_count": 87,
   "id": "df219412",
   "metadata": {
    "ExecuteTime": {
     "end_time": "2022-05-27T02:57:09.811347Z",
     "start_time": "2022-05-27T02:57:09.802296Z"
    },
    "hidden": true
   },
   "outputs": [],
   "source": [
    "# Create Target variable containing each label value\n",
    "df['Target'] = tag_counts.values.tolist()"
   ]
  },
  {
   "cell_type": "markdown",
   "id": "bb1b98a5",
   "metadata": {
    "heading_collapsed": true,
    "hidden": true
   },
   "source": [
    "### Labels distribuition"
   ]
  },
  {
   "cell_type": "code",
   "execution_count": 239,
   "id": "02cd3f3a",
   "metadata": {
    "ExecuteTime": {
     "end_time": "2022-05-27T04:21:53.239892Z",
     "start_time": "2022-05-27T04:21:53.224225Z"
    },
    "hidden": true
   },
   "outputs": [
    {
     "data": {
      "text/html": [
       "<div>\n",
       "<style scoped>\n",
       "    .dataframe tbody tr th:only-of-type {\n",
       "        vertical-align: middle;\n",
       "    }\n",
       "\n",
       "    .dataframe tbody tr th {\n",
       "        vertical-align: top;\n",
       "    }\n",
       "\n",
       "    .dataframe thead th {\n",
       "        text-align: right;\n",
       "    }\n",
       "</style>\n",
       "<table border=\"1\" class=\"dataframe\">\n",
       "  <thead>\n",
       "    <tr style=\"text-align: right;\">\n",
       "      <th></th>\n",
       "      <th>label</th>\n",
       "      <th>count</th>\n",
       "    </tr>\n",
       "  </thead>\n",
       "  <tbody>\n",
       "    <tr>\n",
       "      <th>0</th>\n",
       "      <td>angular</td>\n",
       "      <td>929</td>\n",
       "    </tr>\n",
       "    <tr>\n",
       "      <th>1</th>\n",
       "      <td>html</td>\n",
       "      <td>2345</td>\n",
       "    </tr>\n",
       "    <tr>\n",
       "      <th>2</th>\n",
       "      <td>jquery</td>\n",
       "      <td>2444</td>\n",
       "    </tr>\n",
       "    <tr>\n",
       "      <th>3</th>\n",
       "      <td>node.js</td>\n",
       "      <td>641</td>\n",
       "    </tr>\n",
       "  </tbody>\n",
       "</table>\n",
       "</div>"
      ],
      "text/plain": [
       "     label  count\n",
       "0  angular    929\n",
       "1     html   2345\n",
       "2   jquery   2444\n",
       "3  node.js    641"
      ]
     },
     "execution_count": 239,
     "metadata": {},
     "output_type": "execute_result"
    }
   ],
   "source": [
    "labels_sums = tag_counts.sum().rename_axis('label').reset_index(name='count')\n",
    "labels_sums['label'] = labels_sums['label'].astype('category')\n",
    "labels_sums"
   ]
  },
  {
   "cell_type": "code",
   "execution_count": 242,
   "id": "d14a8594",
   "metadata": {
    "ExecuteTime": {
     "end_time": "2022-05-27T04:22:17.795292Z",
     "start_time": "2022-05-27T04:22:17.691972Z"
    },
    "hidden": true,
    "run_control": {
     "marked": false
    },
    "scrolled": false
   },
   "outputs": [
    {
     "data": {
      "application/vnd.plotly.v1+json": {
       "config": {
        "plotlyServerURL": "https://plot.ly"
       },
       "data": [
        {
         "alignmentgroup": "True",
         "hovertemplate": "label=%{x}<br>count=%{y}<extra></extra>",
         "legendgroup": "angular",
         "marker": {
          "color": "#1696d2",
          "line": {
           "color": "rgb(8,48,107)",
           "width": 1.5
          },
          "pattern": {
           "shape": ""
          }
         },
         "name": "angular",
         "offsetgroup": "angular",
         "opacity": 0.8,
         "orientation": "v",
         "showlegend": true,
         "textposition": "auto",
         "type": "bar",
         "x": [
          "angular"
         ],
         "xaxis": "x",
         "y": [
          929
         ],
         "yaxis": "y"
        },
        {
         "alignmentgroup": "True",
         "hovertemplate": "label=%{x}<br>count=%{y}<extra></extra>",
         "legendgroup": "html",
         "marker": {
          "color": "#d2d2d2",
          "line": {
           "color": "rgb(8,48,107)",
           "width": 1.5
          },
          "pattern": {
           "shape": ""
          }
         },
         "name": "html",
         "offsetgroup": "html",
         "opacity": 0.8,
         "orientation": "v",
         "showlegend": true,
         "textposition": "auto",
         "type": "bar",
         "x": [
          "html"
         ],
         "xaxis": "x",
         "y": [
          2345
         ],
         "yaxis": "y"
        },
        {
         "alignmentgroup": "True",
         "hovertemplate": "label=%{x}<br>count=%{y}<extra></extra>",
         "legendgroup": "jquery",
         "marker": {
          "color": "#ec008b",
          "line": {
           "color": "rgb(8,48,107)",
           "width": 1.5
          },
          "pattern": {
           "shape": ""
          }
         },
         "name": "jquery",
         "offsetgroup": "jquery",
         "opacity": 0.8,
         "orientation": "v",
         "showlegend": true,
         "textposition": "auto",
         "type": "bar",
         "x": [
          "jquery"
         ],
         "xaxis": "x",
         "y": [
          2444
         ],
         "yaxis": "y"
        },
        {
         "alignmentgroup": "True",
         "hovertemplate": "label=%{x}<br>count=%{y}<extra></extra>",
         "legendgroup": "node.js",
         "marker": {
          "color": "#fdbf11",
          "line": {
           "color": "rgb(8,48,107)",
           "width": 1.5
          },
          "pattern": {
           "shape": ""
          }
         },
         "name": "node.js",
         "offsetgroup": "node.js",
         "opacity": 0.8,
         "orientation": "v",
         "showlegend": true,
         "textposition": "auto",
         "type": "bar",
         "x": [
          "node.js"
         ],
         "xaxis": "x",
         "y": [
          641
         ],
         "yaxis": "y"
        }
       ],
       "layout": {
        "barmode": "relative",
        "height": 600,
        "legend": {
         "title": {
          "text": "label"
         },
         "tracegroupgap": 0
        },
        "template": {
         "data": {
          "bar": [
           {
            "error_x": {
             "color": "#2a3f5f"
            },
            "error_y": {
             "color": "#2a3f5f"
            },
            "marker": {
             "line": {
              "color": "#E5ECF6",
              "width": 0.5
             },
             "pattern": {
              "fillmode": "overlay",
              "size": 10,
              "solidity": 0.2
             }
            },
            "type": "bar"
           }
          ],
          "barpolar": [
           {
            "marker": {
             "line": {
              "color": "#E5ECF6",
              "width": 0.5
             },
             "pattern": {
              "fillmode": "overlay",
              "size": 10,
              "solidity": 0.2
             }
            },
            "type": "barpolar"
           }
          ],
          "carpet": [
           {
            "aaxis": {
             "endlinecolor": "#2a3f5f",
             "gridcolor": "white",
             "linecolor": "white",
             "minorgridcolor": "white",
             "startlinecolor": "#2a3f5f"
            },
            "baxis": {
             "endlinecolor": "#2a3f5f",
             "gridcolor": "white",
             "linecolor": "white",
             "minorgridcolor": "white",
             "startlinecolor": "#2a3f5f"
            },
            "type": "carpet"
           }
          ],
          "choropleth": [
           {
            "colorbar": {
             "outlinewidth": 0,
             "ticks": ""
            },
            "type": "choropleth"
           }
          ],
          "contour": [
           {
            "colorbar": {
             "outlinewidth": 0,
             "ticks": ""
            },
            "colorscale": [
             [
              0,
              "#0d0887"
             ],
             [
              0.1111111111111111,
              "#46039f"
             ],
             [
              0.2222222222222222,
              "#7201a8"
             ],
             [
              0.3333333333333333,
              "#9c179e"
             ],
             [
              0.4444444444444444,
              "#bd3786"
             ],
             [
              0.5555555555555556,
              "#d8576b"
             ],
             [
              0.6666666666666666,
              "#ed7953"
             ],
             [
              0.7777777777777778,
              "#fb9f3a"
             ],
             [
              0.8888888888888888,
              "#fdca26"
             ],
             [
              1,
              "#f0f921"
             ]
            ],
            "type": "contour"
           }
          ],
          "contourcarpet": [
           {
            "colorbar": {
             "outlinewidth": 0,
             "ticks": ""
            },
            "type": "contourcarpet"
           }
          ],
          "heatmap": [
           {
            "colorbar": {
             "outlinewidth": 0,
             "ticks": ""
            },
            "colorscale": [
             [
              0,
              "#0d0887"
             ],
             [
              0.1111111111111111,
              "#46039f"
             ],
             [
              0.2222222222222222,
              "#7201a8"
             ],
             [
              0.3333333333333333,
              "#9c179e"
             ],
             [
              0.4444444444444444,
              "#bd3786"
             ],
             [
              0.5555555555555556,
              "#d8576b"
             ],
             [
              0.6666666666666666,
              "#ed7953"
             ],
             [
              0.7777777777777778,
              "#fb9f3a"
             ],
             [
              0.8888888888888888,
              "#fdca26"
             ],
             [
              1,
              "#f0f921"
             ]
            ],
            "type": "heatmap"
           }
          ],
          "heatmapgl": [
           {
            "colorbar": {
             "outlinewidth": 0,
             "ticks": ""
            },
            "colorscale": [
             [
              0,
              "#0d0887"
             ],
             [
              0.1111111111111111,
              "#46039f"
             ],
             [
              0.2222222222222222,
              "#7201a8"
             ],
             [
              0.3333333333333333,
              "#9c179e"
             ],
             [
              0.4444444444444444,
              "#bd3786"
             ],
             [
              0.5555555555555556,
              "#d8576b"
             ],
             [
              0.6666666666666666,
              "#ed7953"
             ],
             [
              0.7777777777777778,
              "#fb9f3a"
             ],
             [
              0.8888888888888888,
              "#fdca26"
             ],
             [
              1,
              "#f0f921"
             ]
            ],
            "type": "heatmapgl"
           }
          ],
          "histogram": [
           {
            "marker": {
             "pattern": {
              "fillmode": "overlay",
              "size": 10,
              "solidity": 0.2
             }
            },
            "type": "histogram"
           }
          ],
          "histogram2d": [
           {
            "colorbar": {
             "outlinewidth": 0,
             "ticks": ""
            },
            "colorscale": [
             [
              0,
              "#0d0887"
             ],
             [
              0.1111111111111111,
              "#46039f"
             ],
             [
              0.2222222222222222,
              "#7201a8"
             ],
             [
              0.3333333333333333,
              "#9c179e"
             ],
             [
              0.4444444444444444,
              "#bd3786"
             ],
             [
              0.5555555555555556,
              "#d8576b"
             ],
             [
              0.6666666666666666,
              "#ed7953"
             ],
             [
              0.7777777777777778,
              "#fb9f3a"
             ],
             [
              0.8888888888888888,
              "#fdca26"
             ],
             [
              1,
              "#f0f921"
             ]
            ],
            "type": "histogram2d"
           }
          ],
          "histogram2dcontour": [
           {
            "colorbar": {
             "outlinewidth": 0,
             "ticks": ""
            },
            "colorscale": [
             [
              0,
              "#0d0887"
             ],
             [
              0.1111111111111111,
              "#46039f"
             ],
             [
              0.2222222222222222,
              "#7201a8"
             ],
             [
              0.3333333333333333,
              "#9c179e"
             ],
             [
              0.4444444444444444,
              "#bd3786"
             ],
             [
              0.5555555555555556,
              "#d8576b"
             ],
             [
              0.6666666666666666,
              "#ed7953"
             ],
             [
              0.7777777777777778,
              "#fb9f3a"
             ],
             [
              0.8888888888888888,
              "#fdca26"
             ],
             [
              1,
              "#f0f921"
             ]
            ],
            "type": "histogram2dcontour"
           }
          ],
          "mesh3d": [
           {
            "colorbar": {
             "outlinewidth": 0,
             "ticks": ""
            },
            "type": "mesh3d"
           }
          ],
          "parcoords": [
           {
            "line": {
             "colorbar": {
              "outlinewidth": 0,
              "ticks": ""
             }
            },
            "type": "parcoords"
           }
          ],
          "pie": [
           {
            "automargin": true,
            "type": "pie"
           }
          ],
          "scatter": [
           {
            "marker": {
             "colorbar": {
              "outlinewidth": 0,
              "ticks": ""
             }
            },
            "type": "scatter"
           }
          ],
          "scatter3d": [
           {
            "line": {
             "colorbar": {
              "outlinewidth": 0,
              "ticks": ""
             }
            },
            "marker": {
             "colorbar": {
              "outlinewidth": 0,
              "ticks": ""
             }
            },
            "type": "scatter3d"
           }
          ],
          "scattercarpet": [
           {
            "marker": {
             "colorbar": {
              "outlinewidth": 0,
              "ticks": ""
             }
            },
            "type": "scattercarpet"
           }
          ],
          "scattergeo": [
           {
            "marker": {
             "colorbar": {
              "outlinewidth": 0,
              "ticks": ""
             }
            },
            "type": "scattergeo"
           }
          ],
          "scattergl": [
           {
            "marker": {
             "colorbar": {
              "outlinewidth": 0,
              "ticks": ""
             }
            },
            "type": "scattergl"
           }
          ],
          "scattermapbox": [
           {
            "marker": {
             "colorbar": {
              "outlinewidth": 0,
              "ticks": ""
             }
            },
            "type": "scattermapbox"
           }
          ],
          "scatterpolar": [
           {
            "marker": {
             "colorbar": {
              "outlinewidth": 0,
              "ticks": ""
             }
            },
            "type": "scatterpolar"
           }
          ],
          "scatterpolargl": [
           {
            "marker": {
             "colorbar": {
              "outlinewidth": 0,
              "ticks": ""
             }
            },
            "type": "scatterpolargl"
           }
          ],
          "scatterternary": [
           {
            "marker": {
             "colorbar": {
              "outlinewidth": 0,
              "ticks": ""
             }
            },
            "type": "scatterternary"
           }
          ],
          "surface": [
           {
            "colorbar": {
             "outlinewidth": 0,
             "ticks": ""
            },
            "colorscale": [
             [
              0,
              "#0d0887"
             ],
             [
              0.1111111111111111,
              "#46039f"
             ],
             [
              0.2222222222222222,
              "#7201a8"
             ],
             [
              0.3333333333333333,
              "#9c179e"
             ],
             [
              0.4444444444444444,
              "#bd3786"
             ],
             [
              0.5555555555555556,
              "#d8576b"
             ],
             [
              0.6666666666666666,
              "#ed7953"
             ],
             [
              0.7777777777777778,
              "#fb9f3a"
             ],
             [
              0.8888888888888888,
              "#fdca26"
             ],
             [
              1,
              "#f0f921"
             ]
            ],
            "type": "surface"
           }
          ],
          "table": [
           {
            "cells": {
             "fill": {
              "color": "#EBF0F8"
             },
             "line": {
              "color": "white"
             }
            },
            "header": {
             "fill": {
              "color": "#C8D4E3"
             },
             "line": {
              "color": "white"
             }
            },
            "type": "table"
           }
          ]
         },
         "layout": {
          "annotationdefaults": {
           "arrowcolor": "#2a3f5f",
           "arrowhead": 0,
           "arrowwidth": 1
          },
          "autotypenumbers": "strict",
          "coloraxis": {
           "colorbar": {
            "outlinewidth": 0,
            "ticks": ""
           }
          },
          "colorscale": {
           "diverging": [
            [
             0,
             "#8e0152"
            ],
            [
             0.1,
             "#c51b7d"
            ],
            [
             0.2,
             "#de77ae"
            ],
            [
             0.3,
             "#f1b6da"
            ],
            [
             0.4,
             "#fde0ef"
            ],
            [
             0.5,
             "#f7f7f7"
            ],
            [
             0.6,
             "#e6f5d0"
            ],
            [
             0.7,
             "#b8e186"
            ],
            [
             0.8,
             "#7fbc41"
            ],
            [
             0.9,
             "#4d9221"
            ],
            [
             1,
             "#276419"
            ]
           ],
           "sequential": [
            [
             0,
             "#0d0887"
            ],
            [
             0.1111111111111111,
             "#46039f"
            ],
            [
             0.2222222222222222,
             "#7201a8"
            ],
            [
             0.3333333333333333,
             "#9c179e"
            ],
            [
             0.4444444444444444,
             "#bd3786"
            ],
            [
             0.5555555555555556,
             "#d8576b"
            ],
            [
             0.6666666666666666,
             "#ed7953"
            ],
            [
             0.7777777777777778,
             "#fb9f3a"
            ],
            [
             0.8888888888888888,
             "#fdca26"
            ],
            [
             1,
             "#f0f921"
            ]
           ],
           "sequentialminus": [
            [
             0,
             "#0d0887"
            ],
            [
             0.1111111111111111,
             "#46039f"
            ],
            [
             0.2222222222222222,
             "#7201a8"
            ],
            [
             0.3333333333333333,
             "#9c179e"
            ],
            [
             0.4444444444444444,
             "#bd3786"
            ],
            [
             0.5555555555555556,
             "#d8576b"
            ],
            [
             0.6666666666666666,
             "#ed7953"
            ],
            [
             0.7777777777777778,
             "#fb9f3a"
            ],
            [
             0.8888888888888888,
             "#fdca26"
            ],
            [
             1,
             "#f0f921"
            ]
           ]
          },
          "colorway": [
           "#636efa",
           "#EF553B",
           "#00cc96",
           "#ab63fa",
           "#FFA15A",
           "#19d3f3",
           "#FF6692",
           "#B6E880",
           "#FF97FF",
           "#FECB52"
          ],
          "font": {
           "color": "#2a3f5f"
          },
          "geo": {
           "bgcolor": "white",
           "lakecolor": "white",
           "landcolor": "#E5ECF6",
           "showlakes": true,
           "showland": true,
           "subunitcolor": "white"
          },
          "hoverlabel": {
           "align": "left"
          },
          "hovermode": "closest",
          "mapbox": {
           "style": "light"
          },
          "paper_bgcolor": "white",
          "plot_bgcolor": "#E5ECF6",
          "polar": {
           "angularaxis": {
            "gridcolor": "white",
            "linecolor": "white",
            "ticks": ""
           },
           "bgcolor": "#E5ECF6",
           "radialaxis": {
            "gridcolor": "white",
            "linecolor": "white",
            "ticks": ""
           }
          },
          "scene": {
           "xaxis": {
            "backgroundcolor": "#E5ECF6",
            "gridcolor": "white",
            "gridwidth": 2,
            "linecolor": "white",
            "showbackground": true,
            "ticks": "",
            "zerolinecolor": "white"
           },
           "yaxis": {
            "backgroundcolor": "#E5ECF6",
            "gridcolor": "white",
            "gridwidth": 2,
            "linecolor": "white",
            "showbackground": true,
            "ticks": "",
            "zerolinecolor": "white"
           },
           "zaxis": {
            "backgroundcolor": "#E5ECF6",
            "gridcolor": "white",
            "gridwidth": 2,
            "linecolor": "white",
            "showbackground": true,
            "ticks": "",
            "zerolinecolor": "white"
           }
          },
          "shapedefaults": {
           "line": {
            "color": "#2a3f5f"
           }
          },
          "ternary": {
           "aaxis": {
            "gridcolor": "white",
            "linecolor": "white",
            "ticks": ""
           },
           "baxis": {
            "gridcolor": "white",
            "linecolor": "white",
            "ticks": ""
           },
           "bgcolor": "#E5ECF6",
           "caxis": {
            "gridcolor": "white",
            "linecolor": "white",
            "ticks": ""
           }
          },
          "title": {
           "x": 0.05
          },
          "xaxis": {
           "automargin": true,
           "gridcolor": "white",
           "linecolor": "white",
           "ticks": "",
           "title": {
            "standoff": 15
           },
           "zerolinecolor": "white",
           "zerolinewidth": 2
          },
          "yaxis": {
           "automargin": true,
           "gridcolor": "white",
           "linecolor": "white",
           "ticks": "",
           "title": {
            "standoff": 15
           },
           "zerolinecolor": "white",
           "zerolinewidth": 2
          }
         }
        },
        "title": {
         "text": "Labels distribuition"
        },
        "width": 900,
        "xaxis": {
         "anchor": "y",
         "categoryarray": [
          "angular",
          "html",
          "jquery",
          "node.js"
         ],
         "categoryorder": "array",
         "domain": [
          0,
          1
         ],
         "title": {
          "text": "label"
         },
         "type": "category"
        },
        "yaxis": {
         "anchor": "x",
         "domain": [
          0,
          1
         ],
         "title": {
          "text": "count"
         }
        }
       }
      },
      "text/html": [
       "<div>                            <div id=\"4c7c014e-9a4d-4add-8033-1eedc7d9c111\" class=\"plotly-graph-div\" style=\"height:600px; width:900px;\"></div>            <script type=\"text/javascript\">                require([\"plotly\"], function(Plotly) {                    window.PLOTLYENV=window.PLOTLYENV || {};                                    if (document.getElementById(\"4c7c014e-9a4d-4add-8033-1eedc7d9c111\")) {                    Plotly.newPlot(                        \"4c7c014e-9a4d-4add-8033-1eedc7d9c111\",                        [{\"alignmentgroup\":\"True\",\"hovertemplate\":\"label=%{x}<br>count=%{y}<extra></extra>\",\"legendgroup\":\"angular\",\"marker\":{\"color\":\"#1696d2\",\"pattern\":{\"shape\":\"\"},\"line\":{\"color\":\"rgb(8,48,107)\",\"width\":1.5}},\"name\":\"angular\",\"offsetgroup\":\"angular\",\"orientation\":\"v\",\"showlegend\":true,\"textposition\":\"auto\",\"x\":[\"angular\"],\"xaxis\":\"x\",\"y\":[929],\"yaxis\":\"y\",\"type\":\"bar\",\"opacity\":0.8},{\"alignmentgroup\":\"True\",\"hovertemplate\":\"label=%{x}<br>count=%{y}<extra></extra>\",\"legendgroup\":\"html\",\"marker\":{\"color\":\"#d2d2d2\",\"pattern\":{\"shape\":\"\"},\"line\":{\"color\":\"rgb(8,48,107)\",\"width\":1.5}},\"name\":\"html\",\"offsetgroup\":\"html\",\"orientation\":\"v\",\"showlegend\":true,\"textposition\":\"auto\",\"x\":[\"html\"],\"xaxis\":\"x\",\"y\":[2345],\"yaxis\":\"y\",\"type\":\"bar\",\"opacity\":0.8},{\"alignmentgroup\":\"True\",\"hovertemplate\":\"label=%{x}<br>count=%{y}<extra></extra>\",\"legendgroup\":\"jquery\",\"marker\":{\"color\":\"#ec008b\",\"pattern\":{\"shape\":\"\"},\"line\":{\"color\":\"rgb(8,48,107)\",\"width\":1.5}},\"name\":\"jquery\",\"offsetgroup\":\"jquery\",\"orientation\":\"v\",\"showlegend\":true,\"textposition\":\"auto\",\"x\":[\"jquery\"],\"xaxis\":\"x\",\"y\":[2444],\"yaxis\":\"y\",\"type\":\"bar\",\"opacity\":0.8},{\"alignmentgroup\":\"True\",\"hovertemplate\":\"label=%{x}<br>count=%{y}<extra></extra>\",\"legendgroup\":\"node.js\",\"marker\":{\"color\":\"#fdbf11\",\"pattern\":{\"shape\":\"\"},\"line\":{\"color\":\"rgb(8,48,107)\",\"width\":1.5}},\"name\":\"node.js\",\"offsetgroup\":\"node.js\",\"orientation\":\"v\",\"showlegend\":true,\"textposition\":\"auto\",\"x\":[\"node.js\"],\"xaxis\":\"x\",\"y\":[641],\"yaxis\":\"y\",\"type\":\"bar\",\"opacity\":0.8}],                        {\"template\":{\"data\":{\"bar\":[{\"error_x\":{\"color\":\"#2a3f5f\"},\"error_y\":{\"color\":\"#2a3f5f\"},\"marker\":{\"line\":{\"color\":\"#E5ECF6\",\"width\":0.5},\"pattern\":{\"fillmode\":\"overlay\",\"size\":10,\"solidity\":0.2}},\"type\":\"bar\"}],\"barpolar\":[{\"marker\":{\"line\":{\"color\":\"#E5ECF6\",\"width\":0.5},\"pattern\":{\"fillmode\":\"overlay\",\"size\":10,\"solidity\":0.2}},\"type\":\"barpolar\"}],\"carpet\":[{\"aaxis\":{\"endlinecolor\":\"#2a3f5f\",\"gridcolor\":\"white\",\"linecolor\":\"white\",\"minorgridcolor\":\"white\",\"startlinecolor\":\"#2a3f5f\"},\"baxis\":{\"endlinecolor\":\"#2a3f5f\",\"gridcolor\":\"white\",\"linecolor\":\"white\",\"minorgridcolor\":\"white\",\"startlinecolor\":\"#2a3f5f\"},\"type\":\"carpet\"}],\"choropleth\":[{\"colorbar\":{\"outlinewidth\":0,\"ticks\":\"\"},\"type\":\"choropleth\"}],\"contour\":[{\"colorbar\":{\"outlinewidth\":0,\"ticks\":\"\"},\"colorscale\":[[0.0,\"#0d0887\"],[0.1111111111111111,\"#46039f\"],[0.2222222222222222,\"#7201a8\"],[0.3333333333333333,\"#9c179e\"],[0.4444444444444444,\"#bd3786\"],[0.5555555555555556,\"#d8576b\"],[0.6666666666666666,\"#ed7953\"],[0.7777777777777778,\"#fb9f3a\"],[0.8888888888888888,\"#fdca26\"],[1.0,\"#f0f921\"]],\"type\":\"contour\"}],\"contourcarpet\":[{\"colorbar\":{\"outlinewidth\":0,\"ticks\":\"\"},\"type\":\"contourcarpet\"}],\"heatmap\":[{\"colorbar\":{\"outlinewidth\":0,\"ticks\":\"\"},\"colorscale\":[[0.0,\"#0d0887\"],[0.1111111111111111,\"#46039f\"],[0.2222222222222222,\"#7201a8\"],[0.3333333333333333,\"#9c179e\"],[0.4444444444444444,\"#bd3786\"],[0.5555555555555556,\"#d8576b\"],[0.6666666666666666,\"#ed7953\"],[0.7777777777777778,\"#fb9f3a\"],[0.8888888888888888,\"#fdca26\"],[1.0,\"#f0f921\"]],\"type\":\"heatmap\"}],\"heatmapgl\":[{\"colorbar\":{\"outlinewidth\":0,\"ticks\":\"\"},\"colorscale\":[[0.0,\"#0d0887\"],[0.1111111111111111,\"#46039f\"],[0.2222222222222222,\"#7201a8\"],[0.3333333333333333,\"#9c179e\"],[0.4444444444444444,\"#bd3786\"],[0.5555555555555556,\"#d8576b\"],[0.6666666666666666,\"#ed7953\"],[0.7777777777777778,\"#fb9f3a\"],[0.8888888888888888,\"#fdca26\"],[1.0,\"#f0f921\"]],\"type\":\"heatmapgl\"}],\"histogram\":[{\"marker\":{\"pattern\":{\"fillmode\":\"overlay\",\"size\":10,\"solidity\":0.2}},\"type\":\"histogram\"}],\"histogram2d\":[{\"colorbar\":{\"outlinewidth\":0,\"ticks\":\"\"},\"colorscale\":[[0.0,\"#0d0887\"],[0.1111111111111111,\"#46039f\"],[0.2222222222222222,\"#7201a8\"],[0.3333333333333333,\"#9c179e\"],[0.4444444444444444,\"#bd3786\"],[0.5555555555555556,\"#d8576b\"],[0.6666666666666666,\"#ed7953\"],[0.7777777777777778,\"#fb9f3a\"],[0.8888888888888888,\"#fdca26\"],[1.0,\"#f0f921\"]],\"type\":\"histogram2d\"}],\"histogram2dcontour\":[{\"colorbar\":{\"outlinewidth\":0,\"ticks\":\"\"},\"colorscale\":[[0.0,\"#0d0887\"],[0.1111111111111111,\"#46039f\"],[0.2222222222222222,\"#7201a8\"],[0.3333333333333333,\"#9c179e\"],[0.4444444444444444,\"#bd3786\"],[0.5555555555555556,\"#d8576b\"],[0.6666666666666666,\"#ed7953\"],[0.7777777777777778,\"#fb9f3a\"],[0.8888888888888888,\"#fdca26\"],[1.0,\"#f0f921\"]],\"type\":\"histogram2dcontour\"}],\"mesh3d\":[{\"colorbar\":{\"outlinewidth\":0,\"ticks\":\"\"},\"type\":\"mesh3d\"}],\"parcoords\":[{\"line\":{\"colorbar\":{\"outlinewidth\":0,\"ticks\":\"\"}},\"type\":\"parcoords\"}],\"pie\":[{\"automargin\":true,\"type\":\"pie\"}],\"scatter\":[{\"marker\":{\"colorbar\":{\"outlinewidth\":0,\"ticks\":\"\"}},\"type\":\"scatter\"}],\"scatter3d\":[{\"line\":{\"colorbar\":{\"outlinewidth\":0,\"ticks\":\"\"}},\"marker\":{\"colorbar\":{\"outlinewidth\":0,\"ticks\":\"\"}},\"type\":\"scatter3d\"}],\"scattercarpet\":[{\"marker\":{\"colorbar\":{\"outlinewidth\":0,\"ticks\":\"\"}},\"type\":\"scattercarpet\"}],\"scattergeo\":[{\"marker\":{\"colorbar\":{\"outlinewidth\":0,\"ticks\":\"\"}},\"type\":\"scattergeo\"}],\"scattergl\":[{\"marker\":{\"colorbar\":{\"outlinewidth\":0,\"ticks\":\"\"}},\"type\":\"scattergl\"}],\"scattermapbox\":[{\"marker\":{\"colorbar\":{\"outlinewidth\":0,\"ticks\":\"\"}},\"type\":\"scattermapbox\"}],\"scatterpolar\":[{\"marker\":{\"colorbar\":{\"outlinewidth\":0,\"ticks\":\"\"}},\"type\":\"scatterpolar\"}],\"scatterpolargl\":[{\"marker\":{\"colorbar\":{\"outlinewidth\":0,\"ticks\":\"\"}},\"type\":\"scatterpolargl\"}],\"scatterternary\":[{\"marker\":{\"colorbar\":{\"outlinewidth\":0,\"ticks\":\"\"}},\"type\":\"scatterternary\"}],\"surface\":[{\"colorbar\":{\"outlinewidth\":0,\"ticks\":\"\"},\"colorscale\":[[0.0,\"#0d0887\"],[0.1111111111111111,\"#46039f\"],[0.2222222222222222,\"#7201a8\"],[0.3333333333333333,\"#9c179e\"],[0.4444444444444444,\"#bd3786\"],[0.5555555555555556,\"#d8576b\"],[0.6666666666666666,\"#ed7953\"],[0.7777777777777778,\"#fb9f3a\"],[0.8888888888888888,\"#fdca26\"],[1.0,\"#f0f921\"]],\"type\":\"surface\"}],\"table\":[{\"cells\":{\"fill\":{\"color\":\"#EBF0F8\"},\"line\":{\"color\":\"white\"}},\"header\":{\"fill\":{\"color\":\"#C8D4E3\"},\"line\":{\"color\":\"white\"}},\"type\":\"table\"}]},\"layout\":{\"annotationdefaults\":{\"arrowcolor\":\"#2a3f5f\",\"arrowhead\":0,\"arrowwidth\":1},\"autotypenumbers\":\"strict\",\"coloraxis\":{\"colorbar\":{\"outlinewidth\":0,\"ticks\":\"\"}},\"colorscale\":{\"diverging\":[[0,\"#8e0152\"],[0.1,\"#c51b7d\"],[0.2,\"#de77ae\"],[0.3,\"#f1b6da\"],[0.4,\"#fde0ef\"],[0.5,\"#f7f7f7\"],[0.6,\"#e6f5d0\"],[0.7,\"#b8e186\"],[0.8,\"#7fbc41\"],[0.9,\"#4d9221\"],[1,\"#276419\"]],\"sequential\":[[0.0,\"#0d0887\"],[0.1111111111111111,\"#46039f\"],[0.2222222222222222,\"#7201a8\"],[0.3333333333333333,\"#9c179e\"],[0.4444444444444444,\"#bd3786\"],[0.5555555555555556,\"#d8576b\"],[0.6666666666666666,\"#ed7953\"],[0.7777777777777778,\"#fb9f3a\"],[0.8888888888888888,\"#fdca26\"],[1.0,\"#f0f921\"]],\"sequentialminus\":[[0.0,\"#0d0887\"],[0.1111111111111111,\"#46039f\"],[0.2222222222222222,\"#7201a8\"],[0.3333333333333333,\"#9c179e\"],[0.4444444444444444,\"#bd3786\"],[0.5555555555555556,\"#d8576b\"],[0.6666666666666666,\"#ed7953\"],[0.7777777777777778,\"#fb9f3a\"],[0.8888888888888888,\"#fdca26\"],[1.0,\"#f0f921\"]]},\"colorway\":[\"#636efa\",\"#EF553B\",\"#00cc96\",\"#ab63fa\",\"#FFA15A\",\"#19d3f3\",\"#FF6692\",\"#B6E880\",\"#FF97FF\",\"#FECB52\"],\"font\":{\"color\":\"#2a3f5f\"},\"geo\":{\"bgcolor\":\"white\",\"lakecolor\":\"white\",\"landcolor\":\"#E5ECF6\",\"showlakes\":true,\"showland\":true,\"subunitcolor\":\"white\"},\"hoverlabel\":{\"align\":\"left\"},\"hovermode\":\"closest\",\"mapbox\":{\"style\":\"light\"},\"paper_bgcolor\":\"white\",\"plot_bgcolor\":\"#E5ECF6\",\"polar\":{\"angularaxis\":{\"gridcolor\":\"white\",\"linecolor\":\"white\",\"ticks\":\"\"},\"bgcolor\":\"#E5ECF6\",\"radialaxis\":{\"gridcolor\":\"white\",\"linecolor\":\"white\",\"ticks\":\"\"}},\"scene\":{\"xaxis\":{\"backgroundcolor\":\"#E5ECF6\",\"gridcolor\":\"white\",\"gridwidth\":2,\"linecolor\":\"white\",\"showbackground\":true,\"ticks\":\"\",\"zerolinecolor\":\"white\"},\"yaxis\":{\"backgroundcolor\":\"#E5ECF6\",\"gridcolor\":\"white\",\"gridwidth\":2,\"linecolor\":\"white\",\"showbackground\":true,\"ticks\":\"\",\"zerolinecolor\":\"white\"},\"zaxis\":{\"backgroundcolor\":\"#E5ECF6\",\"gridcolor\":\"white\",\"gridwidth\":2,\"linecolor\":\"white\",\"showbackground\":true,\"ticks\":\"\",\"zerolinecolor\":\"white\"}},\"shapedefaults\":{\"line\":{\"color\":\"#2a3f5f\"}},\"ternary\":{\"aaxis\":{\"gridcolor\":\"white\",\"linecolor\":\"white\",\"ticks\":\"\"},\"baxis\":{\"gridcolor\":\"white\",\"linecolor\":\"white\",\"ticks\":\"\"},\"bgcolor\":\"#E5ECF6\",\"caxis\":{\"gridcolor\":\"white\",\"linecolor\":\"white\",\"ticks\":\"\"}},\"title\":{\"x\":0.05},\"xaxis\":{\"automargin\":true,\"gridcolor\":\"white\",\"linecolor\":\"white\",\"ticks\":\"\",\"title\":{\"standoff\":15},\"zerolinecolor\":\"white\",\"zerolinewidth\":2},\"yaxis\":{\"automargin\":true,\"gridcolor\":\"white\",\"linecolor\":\"white\",\"ticks\":\"\",\"title\":{\"standoff\":15},\"zerolinecolor\":\"white\",\"zerolinewidth\":2}}},\"xaxis\":{\"anchor\":\"y\",\"domain\":[0.0,1.0],\"title\":{\"text\":\"label\"},\"categoryorder\":\"array\",\"categoryarray\":[\"angular\",\"html\",\"jquery\",\"node.js\"],\"type\":\"category\"},\"yaxis\":{\"anchor\":\"x\",\"domain\":[0.0,1.0],\"title\":{\"text\":\"count\"}},\"legend\":{\"title\":{\"text\":\"label\"},\"tracegroupgap\":0},\"title\":{\"text\":\"Labels distribuition\"},\"barmode\":\"relative\",\"height\":600,\"width\":900},                        {\"responsive\": true}                    ).then(function(){\n",
       "                            \n",
       "var gd = document.getElementById('4c7c014e-9a4d-4add-8033-1eedc7d9c111');\n",
       "var x = new MutationObserver(function (mutations, observer) {{\n",
       "        var display = window.getComputedStyle(gd).display;\n",
       "        if (!display || display === 'none') {{\n",
       "            console.log([gd, 'removed!']);\n",
       "            Plotly.purge(gd);\n",
       "            observer.disconnect();\n",
       "        }}\n",
       "}});\n",
       "\n",
       "// Listen for the removal of the full notebook cells\n",
       "var notebookContainer = gd.closest('#notebook-container');\n",
       "if (notebookContainer) {{\n",
       "    x.observe(notebookContainer, {childList: true});\n",
       "}}\n",
       "\n",
       "// Listen for the clearing of the current output cell\n",
       "var outputEl = gd.closest('.output');\n",
       "if (outputEl) {{\n",
       "    x.observe(outputEl, {childList: true});\n",
       "}}\n",
       "\n",
       "                        })                };                });            </script>        </div>"
      ]
     },
     "metadata": {},
     "output_type": "display_data"
    }
   ],
   "source": [
    "px.bar(\n",
    "    labels_sums, \n",
    "    x='label',\n",
    "    y='count', \n",
    "    color='label',\n",
    "    color_discrete_sequence=URBAN_PALETTE_CATEGORICAL.loc['hex_code'][:4],\n",
    "    title='Labels distribuition',\n",
    "    height=600,\n",
    "    width=900\n",
    ").update_traces(\n",
    "    marker_line_color='rgb(8,48,107)',\n",
    "    marker_line_width=1.5, \n",
    "    opacity=0.8\n",
    ").update_xaxes(type='category')\n"
   ]
  },
  {
   "cell_type": "markdown",
   "id": "ccbb2959",
   "metadata": {
    "heading_collapsed": true,
    "hidden": true
   },
   "source": [
    "### Labels correlation"
   ]
  },
  {
   "cell_type": "code",
   "execution_count": 189,
   "id": "40c3a77e",
   "metadata": {
    "ExecuteTime": {
     "end_time": "2022-05-27T03:56:39.324008Z",
     "start_time": "2022-05-27T03:56:39.261566Z"
    },
    "hidden": true
   },
   "outputs": [
    {
     "data": {
      "application/vnd.plotly.v1+json": {
       "config": {
        "plotlyServerURL": "https://plot.ly"
       },
       "data": [
        {
         "coloraxis": "coloraxis",
         "hovertemplate": "x: %{x}<br>y: %{y}<br>color: %{z}<extra></extra>",
         "name": "0",
         "opacity": 0.8,
         "type": "heatmap",
         "x": [
          "angular",
          "html",
          "jquery",
          "node.js"
         ],
         "xaxis": "x",
         "y": [
          "angular",
          "html",
          "jquery",
          "node.js"
         ],
         "yaxis": "y",
         "z": [
          [
           1,
           -0.2867060182762143,
           -0.36626941743229424,
           -0.10178665417294916
          ],
          [
           -0.2867060182762143,
           1,
           -0.25397659222692043,
           -0.27352307399102876
          ],
          [
           -0.36626941743229424,
           -0.25397659222692043,
           1,
           -0.32148519925802577
          ],
          [
           -0.10178665417294916,
           -0.27352307399102876,
           -0.32148519925802577,
           1
          ]
         ]
        }
       ],
       "layout": {
        "coloraxis": {
         "cmax": 1,
         "cmin": -1,
         "colorscale": [
          [
           0,
           "rgb(158,1,66)"
          ],
          [
           0.1,
           "rgb(213,62,79)"
          ],
          [
           0.2,
           "rgb(244,109,67)"
          ],
          [
           0.3,
           "rgb(253,174,97)"
          ],
          [
           0.4,
           "rgb(254,224,139)"
          ],
          [
           0.5,
           "rgb(255,255,191)"
          ],
          [
           0.6,
           "rgb(230,245,152)"
          ],
          [
           0.7,
           "rgb(171,221,164)"
          ],
          [
           0.8,
           "rgb(102,194,165)"
          ],
          [
           0.9,
           "rgb(50,136,189)"
          ],
          [
           1,
           "rgb(94,79,162)"
          ]
         ]
        },
        "template": {
         "data": {
          "bar": [
           {
            "error_x": {
             "color": "#2a3f5f"
            },
            "error_y": {
             "color": "#2a3f5f"
            },
            "marker": {
             "line": {
              "color": "#E5ECF6",
              "width": 0.5
             },
             "pattern": {
              "fillmode": "overlay",
              "size": 10,
              "solidity": 0.2
             }
            },
            "type": "bar"
           }
          ],
          "barpolar": [
           {
            "marker": {
             "line": {
              "color": "#E5ECF6",
              "width": 0.5
             },
             "pattern": {
              "fillmode": "overlay",
              "size": 10,
              "solidity": 0.2
             }
            },
            "type": "barpolar"
           }
          ],
          "carpet": [
           {
            "aaxis": {
             "endlinecolor": "#2a3f5f",
             "gridcolor": "white",
             "linecolor": "white",
             "minorgridcolor": "white",
             "startlinecolor": "#2a3f5f"
            },
            "baxis": {
             "endlinecolor": "#2a3f5f",
             "gridcolor": "white",
             "linecolor": "white",
             "minorgridcolor": "white",
             "startlinecolor": "#2a3f5f"
            },
            "type": "carpet"
           }
          ],
          "choropleth": [
           {
            "colorbar": {
             "outlinewidth": 0,
             "ticks": ""
            },
            "type": "choropleth"
           }
          ],
          "contour": [
           {
            "colorbar": {
             "outlinewidth": 0,
             "ticks": ""
            },
            "colorscale": [
             [
              0,
              "#0d0887"
             ],
             [
              0.1111111111111111,
              "#46039f"
             ],
             [
              0.2222222222222222,
              "#7201a8"
             ],
             [
              0.3333333333333333,
              "#9c179e"
             ],
             [
              0.4444444444444444,
              "#bd3786"
             ],
             [
              0.5555555555555556,
              "#d8576b"
             ],
             [
              0.6666666666666666,
              "#ed7953"
             ],
             [
              0.7777777777777778,
              "#fb9f3a"
             ],
             [
              0.8888888888888888,
              "#fdca26"
             ],
             [
              1,
              "#f0f921"
             ]
            ],
            "type": "contour"
           }
          ],
          "contourcarpet": [
           {
            "colorbar": {
             "outlinewidth": 0,
             "ticks": ""
            },
            "type": "contourcarpet"
           }
          ],
          "heatmap": [
           {
            "colorbar": {
             "outlinewidth": 0,
             "ticks": ""
            },
            "colorscale": [
             [
              0,
              "#0d0887"
             ],
             [
              0.1111111111111111,
              "#46039f"
             ],
             [
              0.2222222222222222,
              "#7201a8"
             ],
             [
              0.3333333333333333,
              "#9c179e"
             ],
             [
              0.4444444444444444,
              "#bd3786"
             ],
             [
              0.5555555555555556,
              "#d8576b"
             ],
             [
              0.6666666666666666,
              "#ed7953"
             ],
             [
              0.7777777777777778,
              "#fb9f3a"
             ],
             [
              0.8888888888888888,
              "#fdca26"
             ],
             [
              1,
              "#f0f921"
             ]
            ],
            "type": "heatmap"
           }
          ],
          "heatmapgl": [
           {
            "colorbar": {
             "outlinewidth": 0,
             "ticks": ""
            },
            "colorscale": [
             [
              0,
              "#0d0887"
             ],
             [
              0.1111111111111111,
              "#46039f"
             ],
             [
              0.2222222222222222,
              "#7201a8"
             ],
             [
              0.3333333333333333,
              "#9c179e"
             ],
             [
              0.4444444444444444,
              "#bd3786"
             ],
             [
              0.5555555555555556,
              "#d8576b"
             ],
             [
              0.6666666666666666,
              "#ed7953"
             ],
             [
              0.7777777777777778,
              "#fb9f3a"
             ],
             [
              0.8888888888888888,
              "#fdca26"
             ],
             [
              1,
              "#f0f921"
             ]
            ],
            "type": "heatmapgl"
           }
          ],
          "histogram": [
           {
            "marker": {
             "pattern": {
              "fillmode": "overlay",
              "size": 10,
              "solidity": 0.2
             }
            },
            "type": "histogram"
           }
          ],
          "histogram2d": [
           {
            "colorbar": {
             "outlinewidth": 0,
             "ticks": ""
            },
            "colorscale": [
             [
              0,
              "#0d0887"
             ],
             [
              0.1111111111111111,
              "#46039f"
             ],
             [
              0.2222222222222222,
              "#7201a8"
             ],
             [
              0.3333333333333333,
              "#9c179e"
             ],
             [
              0.4444444444444444,
              "#bd3786"
             ],
             [
              0.5555555555555556,
              "#d8576b"
             ],
             [
              0.6666666666666666,
              "#ed7953"
             ],
             [
              0.7777777777777778,
              "#fb9f3a"
             ],
             [
              0.8888888888888888,
              "#fdca26"
             ],
             [
              1,
              "#f0f921"
             ]
            ],
            "type": "histogram2d"
           }
          ],
          "histogram2dcontour": [
           {
            "colorbar": {
             "outlinewidth": 0,
             "ticks": ""
            },
            "colorscale": [
             [
              0,
              "#0d0887"
             ],
             [
              0.1111111111111111,
              "#46039f"
             ],
             [
              0.2222222222222222,
              "#7201a8"
             ],
             [
              0.3333333333333333,
              "#9c179e"
             ],
             [
              0.4444444444444444,
              "#bd3786"
             ],
             [
              0.5555555555555556,
              "#d8576b"
             ],
             [
              0.6666666666666666,
              "#ed7953"
             ],
             [
              0.7777777777777778,
              "#fb9f3a"
             ],
             [
              0.8888888888888888,
              "#fdca26"
             ],
             [
              1,
              "#f0f921"
             ]
            ],
            "type": "histogram2dcontour"
           }
          ],
          "mesh3d": [
           {
            "colorbar": {
             "outlinewidth": 0,
             "ticks": ""
            },
            "type": "mesh3d"
           }
          ],
          "parcoords": [
           {
            "line": {
             "colorbar": {
              "outlinewidth": 0,
              "ticks": ""
             }
            },
            "type": "parcoords"
           }
          ],
          "pie": [
           {
            "automargin": true,
            "type": "pie"
           }
          ],
          "scatter": [
           {
            "marker": {
             "colorbar": {
              "outlinewidth": 0,
              "ticks": ""
             }
            },
            "type": "scatter"
           }
          ],
          "scatter3d": [
           {
            "line": {
             "colorbar": {
              "outlinewidth": 0,
              "ticks": ""
             }
            },
            "marker": {
             "colorbar": {
              "outlinewidth": 0,
              "ticks": ""
             }
            },
            "type": "scatter3d"
           }
          ],
          "scattercarpet": [
           {
            "marker": {
             "colorbar": {
              "outlinewidth": 0,
              "ticks": ""
             }
            },
            "type": "scattercarpet"
           }
          ],
          "scattergeo": [
           {
            "marker": {
             "colorbar": {
              "outlinewidth": 0,
              "ticks": ""
             }
            },
            "type": "scattergeo"
           }
          ],
          "scattergl": [
           {
            "marker": {
             "colorbar": {
              "outlinewidth": 0,
              "ticks": ""
             }
            },
            "type": "scattergl"
           }
          ],
          "scattermapbox": [
           {
            "marker": {
             "colorbar": {
              "outlinewidth": 0,
              "ticks": ""
             }
            },
            "type": "scattermapbox"
           }
          ],
          "scatterpolar": [
           {
            "marker": {
             "colorbar": {
              "outlinewidth": 0,
              "ticks": ""
             }
            },
            "type": "scatterpolar"
           }
          ],
          "scatterpolargl": [
           {
            "marker": {
             "colorbar": {
              "outlinewidth": 0,
              "ticks": ""
             }
            },
            "type": "scatterpolargl"
           }
          ],
          "scatterternary": [
           {
            "marker": {
             "colorbar": {
              "outlinewidth": 0,
              "ticks": ""
             }
            },
            "type": "scatterternary"
           }
          ],
          "surface": [
           {
            "colorbar": {
             "outlinewidth": 0,
             "ticks": ""
            },
            "colorscale": [
             [
              0,
              "#0d0887"
             ],
             [
              0.1111111111111111,
              "#46039f"
             ],
             [
              0.2222222222222222,
              "#7201a8"
             ],
             [
              0.3333333333333333,
              "#9c179e"
             ],
             [
              0.4444444444444444,
              "#bd3786"
             ],
             [
              0.5555555555555556,
              "#d8576b"
             ],
             [
              0.6666666666666666,
              "#ed7953"
             ],
             [
              0.7777777777777778,
              "#fb9f3a"
             ],
             [
              0.8888888888888888,
              "#fdca26"
             ],
             [
              1,
              "#f0f921"
             ]
            ],
            "type": "surface"
           }
          ],
          "table": [
           {
            "cells": {
             "fill": {
              "color": "#EBF0F8"
             },
             "line": {
              "color": "white"
             }
            },
            "header": {
             "fill": {
              "color": "#C8D4E3"
             },
             "line": {
              "color": "white"
             }
            },
            "type": "table"
           }
          ]
         },
         "layout": {
          "annotationdefaults": {
           "arrowcolor": "#2a3f5f",
           "arrowhead": 0,
           "arrowwidth": 1
          },
          "autotypenumbers": "strict",
          "coloraxis": {
           "colorbar": {
            "outlinewidth": 0,
            "ticks": ""
           }
          },
          "colorscale": {
           "diverging": [
            [
             0,
             "#8e0152"
            ],
            [
             0.1,
             "#c51b7d"
            ],
            [
             0.2,
             "#de77ae"
            ],
            [
             0.3,
             "#f1b6da"
            ],
            [
             0.4,
             "#fde0ef"
            ],
            [
             0.5,
             "#f7f7f7"
            ],
            [
             0.6,
             "#e6f5d0"
            ],
            [
             0.7,
             "#b8e186"
            ],
            [
             0.8,
             "#7fbc41"
            ],
            [
             0.9,
             "#4d9221"
            ],
            [
             1,
             "#276419"
            ]
           ],
           "sequential": [
            [
             0,
             "#0d0887"
            ],
            [
             0.1111111111111111,
             "#46039f"
            ],
            [
             0.2222222222222222,
             "#7201a8"
            ],
            [
             0.3333333333333333,
             "#9c179e"
            ],
            [
             0.4444444444444444,
             "#bd3786"
            ],
            [
             0.5555555555555556,
             "#d8576b"
            ],
            [
             0.6666666666666666,
             "#ed7953"
            ],
            [
             0.7777777777777778,
             "#fb9f3a"
            ],
            [
             0.8888888888888888,
             "#fdca26"
            ],
            [
             1,
             "#f0f921"
            ]
           ],
           "sequentialminus": [
            [
             0,
             "#0d0887"
            ],
            [
             0.1111111111111111,
             "#46039f"
            ],
            [
             0.2222222222222222,
             "#7201a8"
            ],
            [
             0.3333333333333333,
             "#9c179e"
            ],
            [
             0.4444444444444444,
             "#bd3786"
            ],
            [
             0.5555555555555556,
             "#d8576b"
            ],
            [
             0.6666666666666666,
             "#ed7953"
            ],
            [
             0.7777777777777778,
             "#fb9f3a"
            ],
            [
             0.8888888888888888,
             "#fdca26"
            ],
            [
             1,
             "#f0f921"
            ]
           ]
          },
          "colorway": [
           "#636efa",
           "#EF553B",
           "#00cc96",
           "#ab63fa",
           "#FFA15A",
           "#19d3f3",
           "#FF6692",
           "#B6E880",
           "#FF97FF",
           "#FECB52"
          ],
          "font": {
           "color": "#2a3f5f"
          },
          "geo": {
           "bgcolor": "white",
           "lakecolor": "white",
           "landcolor": "#E5ECF6",
           "showlakes": true,
           "showland": true,
           "subunitcolor": "white"
          },
          "hoverlabel": {
           "align": "left"
          },
          "hovermode": "closest",
          "mapbox": {
           "style": "light"
          },
          "paper_bgcolor": "white",
          "plot_bgcolor": "#E5ECF6",
          "polar": {
           "angularaxis": {
            "gridcolor": "white",
            "linecolor": "white",
            "ticks": ""
           },
           "bgcolor": "#E5ECF6",
           "radialaxis": {
            "gridcolor": "white",
            "linecolor": "white",
            "ticks": ""
           }
          },
          "scene": {
           "xaxis": {
            "backgroundcolor": "#E5ECF6",
            "gridcolor": "white",
            "gridwidth": 2,
            "linecolor": "white",
            "showbackground": true,
            "ticks": "",
            "zerolinecolor": "white"
           },
           "yaxis": {
            "backgroundcolor": "#E5ECF6",
            "gridcolor": "white",
            "gridwidth": 2,
            "linecolor": "white",
            "showbackground": true,
            "ticks": "",
            "zerolinecolor": "white"
           },
           "zaxis": {
            "backgroundcolor": "#E5ECF6",
            "gridcolor": "white",
            "gridwidth": 2,
            "linecolor": "white",
            "showbackground": true,
            "ticks": "",
            "zerolinecolor": "white"
           }
          },
          "shapedefaults": {
           "line": {
            "color": "#2a3f5f"
           }
          },
          "ternary": {
           "aaxis": {
            "gridcolor": "white",
            "linecolor": "white",
            "ticks": ""
           },
           "baxis": {
            "gridcolor": "white",
            "linecolor": "white",
            "ticks": ""
           },
           "bgcolor": "#E5ECF6",
           "caxis": {
            "gridcolor": "white",
            "linecolor": "white",
            "ticks": ""
           }
          },
          "title": {
           "x": 0.05
          },
          "xaxis": {
           "automargin": true,
           "gridcolor": "white",
           "linecolor": "white",
           "ticks": "",
           "title": {
            "standoff": 15
           },
           "zerolinecolor": "white",
           "zerolinewidth": 2
          },
          "yaxis": {
           "automargin": true,
           "gridcolor": "white",
           "linecolor": "white",
           "ticks": "",
           "title": {
            "standoff": 15
           },
           "zerolinecolor": "white",
           "zerolinewidth": 2
          }
         }
        },
        "title": {
         "text": "Label correlation Heatmap"
        },
        "xaxis": {
         "anchor": "y",
         "constrain": "domain",
         "domain": [
          0,
          1
         ],
         "scaleanchor": "y"
        },
        "yaxis": {
         "anchor": "x",
         "autorange": "reversed",
         "constrain": "domain",
         "domain": [
          0,
          1
         ]
        }
       }
      },
      "text/html": [
       "<div>                            <div id=\"c64fd182-2fc0-49e1-a3b5-a5d18c4b3e48\" class=\"plotly-graph-div\" style=\"height:525px; width:100%;\"></div>            <script type=\"text/javascript\">                require([\"plotly\"], function(Plotly) {                    window.PLOTLYENV=window.PLOTLYENV || {};                                    if (document.getElementById(\"c64fd182-2fc0-49e1-a3b5-a5d18c4b3e48\")) {                    Plotly.newPlot(                        \"c64fd182-2fc0-49e1-a3b5-a5d18c4b3e48\",                        [{\"coloraxis\":\"coloraxis\",\"name\":\"0\",\"x\":[\"angular\",\"html\",\"jquery\",\"node.js\"],\"y\":[\"angular\",\"html\",\"jquery\",\"node.js\"],\"z\":[[1.0,-0.2867060182762143,-0.36626941743229424,-0.10178665417294916],[-0.2867060182762143,1.0,-0.25397659222692043,-0.27352307399102876],[-0.36626941743229424,-0.25397659222692043,1.0,-0.32148519925802577],[-0.10178665417294916,-0.27352307399102876,-0.32148519925802577,1.0]],\"type\":\"heatmap\",\"xaxis\":\"x\",\"yaxis\":\"y\",\"hovertemplate\":\"x: %{x}<br>y: %{y}<br>color: %{z}<extra></extra>\",\"opacity\":0.8}],                        {\"template\":{\"data\":{\"bar\":[{\"error_x\":{\"color\":\"#2a3f5f\"},\"error_y\":{\"color\":\"#2a3f5f\"},\"marker\":{\"line\":{\"color\":\"#E5ECF6\",\"width\":0.5},\"pattern\":{\"fillmode\":\"overlay\",\"size\":10,\"solidity\":0.2}},\"type\":\"bar\"}],\"barpolar\":[{\"marker\":{\"line\":{\"color\":\"#E5ECF6\",\"width\":0.5},\"pattern\":{\"fillmode\":\"overlay\",\"size\":10,\"solidity\":0.2}},\"type\":\"barpolar\"}],\"carpet\":[{\"aaxis\":{\"endlinecolor\":\"#2a3f5f\",\"gridcolor\":\"white\",\"linecolor\":\"white\",\"minorgridcolor\":\"white\",\"startlinecolor\":\"#2a3f5f\"},\"baxis\":{\"endlinecolor\":\"#2a3f5f\",\"gridcolor\":\"white\",\"linecolor\":\"white\",\"minorgridcolor\":\"white\",\"startlinecolor\":\"#2a3f5f\"},\"type\":\"carpet\"}],\"choropleth\":[{\"colorbar\":{\"outlinewidth\":0,\"ticks\":\"\"},\"type\":\"choropleth\"}],\"contour\":[{\"colorbar\":{\"outlinewidth\":0,\"ticks\":\"\"},\"colorscale\":[[0.0,\"#0d0887\"],[0.1111111111111111,\"#46039f\"],[0.2222222222222222,\"#7201a8\"],[0.3333333333333333,\"#9c179e\"],[0.4444444444444444,\"#bd3786\"],[0.5555555555555556,\"#d8576b\"],[0.6666666666666666,\"#ed7953\"],[0.7777777777777778,\"#fb9f3a\"],[0.8888888888888888,\"#fdca26\"],[1.0,\"#f0f921\"]],\"type\":\"contour\"}],\"contourcarpet\":[{\"colorbar\":{\"outlinewidth\":0,\"ticks\":\"\"},\"type\":\"contourcarpet\"}],\"heatmap\":[{\"colorbar\":{\"outlinewidth\":0,\"ticks\":\"\"},\"colorscale\":[[0.0,\"#0d0887\"],[0.1111111111111111,\"#46039f\"],[0.2222222222222222,\"#7201a8\"],[0.3333333333333333,\"#9c179e\"],[0.4444444444444444,\"#bd3786\"],[0.5555555555555556,\"#d8576b\"],[0.6666666666666666,\"#ed7953\"],[0.7777777777777778,\"#fb9f3a\"],[0.8888888888888888,\"#fdca26\"],[1.0,\"#f0f921\"]],\"type\":\"heatmap\"}],\"heatmapgl\":[{\"colorbar\":{\"outlinewidth\":0,\"ticks\":\"\"},\"colorscale\":[[0.0,\"#0d0887\"],[0.1111111111111111,\"#46039f\"],[0.2222222222222222,\"#7201a8\"],[0.3333333333333333,\"#9c179e\"],[0.4444444444444444,\"#bd3786\"],[0.5555555555555556,\"#d8576b\"],[0.6666666666666666,\"#ed7953\"],[0.7777777777777778,\"#fb9f3a\"],[0.8888888888888888,\"#fdca26\"],[1.0,\"#f0f921\"]],\"type\":\"heatmapgl\"}],\"histogram\":[{\"marker\":{\"pattern\":{\"fillmode\":\"overlay\",\"size\":10,\"solidity\":0.2}},\"type\":\"histogram\"}],\"histogram2d\":[{\"colorbar\":{\"outlinewidth\":0,\"ticks\":\"\"},\"colorscale\":[[0.0,\"#0d0887\"],[0.1111111111111111,\"#46039f\"],[0.2222222222222222,\"#7201a8\"],[0.3333333333333333,\"#9c179e\"],[0.4444444444444444,\"#bd3786\"],[0.5555555555555556,\"#d8576b\"],[0.6666666666666666,\"#ed7953\"],[0.7777777777777778,\"#fb9f3a\"],[0.8888888888888888,\"#fdca26\"],[1.0,\"#f0f921\"]],\"type\":\"histogram2d\"}],\"histogram2dcontour\":[{\"colorbar\":{\"outlinewidth\":0,\"ticks\":\"\"},\"colorscale\":[[0.0,\"#0d0887\"],[0.1111111111111111,\"#46039f\"],[0.2222222222222222,\"#7201a8\"],[0.3333333333333333,\"#9c179e\"],[0.4444444444444444,\"#bd3786\"],[0.5555555555555556,\"#d8576b\"],[0.6666666666666666,\"#ed7953\"],[0.7777777777777778,\"#fb9f3a\"],[0.8888888888888888,\"#fdca26\"],[1.0,\"#f0f921\"]],\"type\":\"histogram2dcontour\"}],\"mesh3d\":[{\"colorbar\":{\"outlinewidth\":0,\"ticks\":\"\"},\"type\":\"mesh3d\"}],\"parcoords\":[{\"line\":{\"colorbar\":{\"outlinewidth\":0,\"ticks\":\"\"}},\"type\":\"parcoords\"}],\"pie\":[{\"automargin\":true,\"type\":\"pie\"}],\"scatter\":[{\"marker\":{\"colorbar\":{\"outlinewidth\":0,\"ticks\":\"\"}},\"type\":\"scatter\"}],\"scatter3d\":[{\"line\":{\"colorbar\":{\"outlinewidth\":0,\"ticks\":\"\"}},\"marker\":{\"colorbar\":{\"outlinewidth\":0,\"ticks\":\"\"}},\"type\":\"scatter3d\"}],\"scattercarpet\":[{\"marker\":{\"colorbar\":{\"outlinewidth\":0,\"ticks\":\"\"}},\"type\":\"scattercarpet\"}],\"scattergeo\":[{\"marker\":{\"colorbar\":{\"outlinewidth\":0,\"ticks\":\"\"}},\"type\":\"scattergeo\"}],\"scattergl\":[{\"marker\":{\"colorbar\":{\"outlinewidth\":0,\"ticks\":\"\"}},\"type\":\"scattergl\"}],\"scattermapbox\":[{\"marker\":{\"colorbar\":{\"outlinewidth\":0,\"ticks\":\"\"}},\"type\":\"scattermapbox\"}],\"scatterpolar\":[{\"marker\":{\"colorbar\":{\"outlinewidth\":0,\"ticks\":\"\"}},\"type\":\"scatterpolar\"}],\"scatterpolargl\":[{\"marker\":{\"colorbar\":{\"outlinewidth\":0,\"ticks\":\"\"}},\"type\":\"scatterpolargl\"}],\"scatterternary\":[{\"marker\":{\"colorbar\":{\"outlinewidth\":0,\"ticks\":\"\"}},\"type\":\"scatterternary\"}],\"surface\":[{\"colorbar\":{\"outlinewidth\":0,\"ticks\":\"\"},\"colorscale\":[[0.0,\"#0d0887\"],[0.1111111111111111,\"#46039f\"],[0.2222222222222222,\"#7201a8\"],[0.3333333333333333,\"#9c179e\"],[0.4444444444444444,\"#bd3786\"],[0.5555555555555556,\"#d8576b\"],[0.6666666666666666,\"#ed7953\"],[0.7777777777777778,\"#fb9f3a\"],[0.8888888888888888,\"#fdca26\"],[1.0,\"#f0f921\"]],\"type\":\"surface\"}],\"table\":[{\"cells\":{\"fill\":{\"color\":\"#EBF0F8\"},\"line\":{\"color\":\"white\"}},\"header\":{\"fill\":{\"color\":\"#C8D4E3\"},\"line\":{\"color\":\"white\"}},\"type\":\"table\"}]},\"layout\":{\"annotationdefaults\":{\"arrowcolor\":\"#2a3f5f\",\"arrowhead\":0,\"arrowwidth\":1},\"autotypenumbers\":\"strict\",\"coloraxis\":{\"colorbar\":{\"outlinewidth\":0,\"ticks\":\"\"}},\"colorscale\":{\"diverging\":[[0,\"#8e0152\"],[0.1,\"#c51b7d\"],[0.2,\"#de77ae\"],[0.3,\"#f1b6da\"],[0.4,\"#fde0ef\"],[0.5,\"#f7f7f7\"],[0.6,\"#e6f5d0\"],[0.7,\"#b8e186\"],[0.8,\"#7fbc41\"],[0.9,\"#4d9221\"],[1,\"#276419\"]],\"sequential\":[[0.0,\"#0d0887\"],[0.1111111111111111,\"#46039f\"],[0.2222222222222222,\"#7201a8\"],[0.3333333333333333,\"#9c179e\"],[0.4444444444444444,\"#bd3786\"],[0.5555555555555556,\"#d8576b\"],[0.6666666666666666,\"#ed7953\"],[0.7777777777777778,\"#fb9f3a\"],[0.8888888888888888,\"#fdca26\"],[1.0,\"#f0f921\"]],\"sequentialminus\":[[0.0,\"#0d0887\"],[0.1111111111111111,\"#46039f\"],[0.2222222222222222,\"#7201a8\"],[0.3333333333333333,\"#9c179e\"],[0.4444444444444444,\"#bd3786\"],[0.5555555555555556,\"#d8576b\"],[0.6666666666666666,\"#ed7953\"],[0.7777777777777778,\"#fb9f3a\"],[0.8888888888888888,\"#fdca26\"],[1.0,\"#f0f921\"]]},\"colorway\":[\"#636efa\",\"#EF553B\",\"#00cc96\",\"#ab63fa\",\"#FFA15A\",\"#19d3f3\",\"#FF6692\",\"#B6E880\",\"#FF97FF\",\"#FECB52\"],\"font\":{\"color\":\"#2a3f5f\"},\"geo\":{\"bgcolor\":\"white\",\"lakecolor\":\"white\",\"landcolor\":\"#E5ECF6\",\"showlakes\":true,\"showland\":true,\"subunitcolor\":\"white\"},\"hoverlabel\":{\"align\":\"left\"},\"hovermode\":\"closest\",\"mapbox\":{\"style\":\"light\"},\"paper_bgcolor\":\"white\",\"plot_bgcolor\":\"#E5ECF6\",\"polar\":{\"angularaxis\":{\"gridcolor\":\"white\",\"linecolor\":\"white\",\"ticks\":\"\"},\"bgcolor\":\"#E5ECF6\",\"radialaxis\":{\"gridcolor\":\"white\",\"linecolor\":\"white\",\"ticks\":\"\"}},\"scene\":{\"xaxis\":{\"backgroundcolor\":\"#E5ECF6\",\"gridcolor\":\"white\",\"gridwidth\":2,\"linecolor\":\"white\",\"showbackground\":true,\"ticks\":\"\",\"zerolinecolor\":\"white\"},\"yaxis\":{\"backgroundcolor\":\"#E5ECF6\",\"gridcolor\":\"white\",\"gridwidth\":2,\"linecolor\":\"white\",\"showbackground\":true,\"ticks\":\"\",\"zerolinecolor\":\"white\"},\"zaxis\":{\"backgroundcolor\":\"#E5ECF6\",\"gridcolor\":\"white\",\"gridwidth\":2,\"linecolor\":\"white\",\"showbackground\":true,\"ticks\":\"\",\"zerolinecolor\":\"white\"}},\"shapedefaults\":{\"line\":{\"color\":\"#2a3f5f\"}},\"ternary\":{\"aaxis\":{\"gridcolor\":\"white\",\"linecolor\":\"white\",\"ticks\":\"\"},\"baxis\":{\"gridcolor\":\"white\",\"linecolor\":\"white\",\"ticks\":\"\"},\"bgcolor\":\"#E5ECF6\",\"caxis\":{\"gridcolor\":\"white\",\"linecolor\":\"white\",\"ticks\":\"\"}},\"title\":{\"x\":0.05},\"xaxis\":{\"automargin\":true,\"gridcolor\":\"white\",\"linecolor\":\"white\",\"ticks\":\"\",\"title\":{\"standoff\":15},\"zerolinecolor\":\"white\",\"zerolinewidth\":2},\"yaxis\":{\"automargin\":true,\"gridcolor\":\"white\",\"linecolor\":\"white\",\"ticks\":\"\",\"title\":{\"standoff\":15},\"zerolinecolor\":\"white\",\"zerolinewidth\":2}}},\"xaxis\":{\"anchor\":\"y\",\"domain\":[0.0,1.0],\"scaleanchor\":\"y\",\"constrain\":\"domain\"},\"yaxis\":{\"anchor\":\"x\",\"domain\":[0.0,1.0],\"autorange\":\"reversed\",\"constrain\":\"domain\"},\"coloraxis\":{\"colorscale\":[[0.0,\"rgb(158,1,66)\"],[0.1,\"rgb(213,62,79)\"],[0.2,\"rgb(244,109,67)\"],[0.3,\"rgb(253,174,97)\"],[0.4,\"rgb(254,224,139)\"],[0.5,\"rgb(255,255,191)\"],[0.6,\"rgb(230,245,152)\"],[0.7,\"rgb(171,221,164)\"],[0.8,\"rgb(102,194,165)\"],[0.9,\"rgb(50,136,189)\"],[1.0,\"rgb(94,79,162)\"]],\"cmin\":-1,\"cmax\":1},\"title\":{\"text\":\"Label correlation Heatmap\"}},                        {\"responsive\": true}                    ).then(function(){\n",
       "                            \n",
       "var gd = document.getElementById('c64fd182-2fc0-49e1-a3b5-a5d18c4b3e48');\n",
       "var x = new MutationObserver(function (mutations, observer) {{\n",
       "        var display = window.getComputedStyle(gd).display;\n",
       "        if (!display || display === 'none') {{\n",
       "            console.log([gd, 'removed!']);\n",
       "            Plotly.purge(gd);\n",
       "            observer.disconnect();\n",
       "        }}\n",
       "}});\n",
       "\n",
       "// Listen for the removal of the full notebook cells\n",
       "var notebookContainer = gd.closest('#notebook-container');\n",
       "if (notebookContainer) {{\n",
       "    x.observe(notebookContainer, {childList: true});\n",
       "}}\n",
       "\n",
       "// Listen for the clearing of the current output cell\n",
       "var outputEl = gd.closest('.output');\n",
       "if (outputEl) {{\n",
       "    x.observe(outputEl, {childList: true});\n",
       "}}\n",
       "\n",
       "                        })                };                });            </script>        </div>"
      ]
     },
     "metadata": {},
     "output_type": "display_data"
    }
   ],
   "source": [
    "px.imshow(tag_counts.corr(), \n",
    "    color_continuous_scale='spectral', \n",
    "    range_color=(-1,1),\n",
    "    title='Label correlation Heatmap'\n",
    ").update_traces(opacity=0.8)"
   ]
  },
  {
   "cell_type": "markdown",
   "id": "60ea7c6a",
   "metadata": {
    "heading_collapsed": true,
    "hidden": true
   },
   "source": [
    "### Words distribuition"
   ]
  },
  {
   "cell_type": "code",
   "execution_count": 165,
   "id": "705836fd",
   "metadata": {
    "ExecuteTime": {
     "end_time": "2022-05-27T03:46:54.233849Z",
     "start_time": "2022-05-27T03:46:54.118463Z"
    },
    "hidden": true
   },
   "outputs": [
    {
     "data": {
      "application/vnd.plotly.v1+json": {
       "config": {
        "plotlyServerURL": "https://plot.ly"
       },
       "data": [
        {
         "alignmentgroup": "True",
         "bingroup": "x",
         "hovertemplate": "variable=Perguntas<br>value=%{x}<br>count=%{y}<extra></extra>",
         "legendgroup": "Perguntas",
         "marker": {
          "color": "#1696d2",
          "pattern": {
           "shape": ""
          }
         },
         "name": "Perguntas",
         "nbinsx": 1000,
         "offsetgroup": "Perguntas",
         "orientation": "v",
         "showlegend": true,
         "type": "histogram",
         "x": [
          293,
          305,
          170,
          1101,
          326,
          369,
          778,
          465,
          430,
          317,
          235,
          260,
          222,
          941,
          467,
          533,
          189,
          645,
          494,
          457,
          474,
          403,
          430,
          853,
          620,
          235,
          358,
          831,
          394,
          304,
          444,
          326,
          386,
          774,
          559,
          497,
          235,
          939,
          677,
          307,
          547,
          378,
          124,
          279,
          1022,
          190,
          842,
          265,
          1151,
          145,
          133,
          224,
          479,
          246,
          161,
          103,
          136,
          303,
          207,
          277,
          197,
          241,
          258,
          1083,
          292,
          736,
          609,
          402,
          453,
          274,
          403,
          1747,
          417,
          176,
          279,
          405,
          309,
          242,
          406,
          587,
          444,
          248,
          623,
          425,
          386,
          2346,
          146,
          624,
          460,
          315,
          600,
          701,
          371,
          532,
          168,
          408,
          211,
          362,
          218,
          587,
          586,
          312,
          568,
          352,
          264,
          485,
          246,
          377,
          337,
          113,
          383,
          122,
          532,
          489,
          756,
          241,
          871,
          336,
          214,
          643,
          210,
          846,
          180,
          255,
          791,
          925,
          250,
          840,
          137,
          582,
          94,
          308,
          562,
          305,
          229,
          615,
          176,
          387,
          532,
          256,
          431,
          211,
          193,
          469,
          206,
          377,
          331,
          853,
          306,
          376,
          237,
          206,
          332,
          173,
          1747,
          210,
          452,
          580,
          338,
          313,
          495,
          380,
          639,
          134,
          140,
          316,
          211,
          253,
          273,
          746,
          250,
          344,
          328,
          376,
          977,
          68,
          238,
          347,
          1125,
          220,
          301,
          145,
          644,
          609,
          192,
          173,
          1166,
          327,
          292,
          62,
          238,
          875,
          1162,
          631,
          664,
          473,
          499,
          529,
          501,
          525,
          248,
          203,
          592,
          318,
          301,
          442,
          165,
          146,
          261,
          325,
          260,
          561,
          192,
          296,
          268,
          541,
          231,
          577,
          1877,
          232,
          263,
          336,
          409,
          190,
          754,
          451,
          237,
          224,
          399,
          222,
          232,
          80,
          379,
          588,
          55,
          483,
          985,
          282,
          32,
          422,
          682,
          262,
          120,
          581,
          58,
          285,
          432,
          197,
          309,
          339,
          839,
          280,
          144,
          586,
          183,
          174,
          445,
          302,
          453,
          595,
          152,
          469,
          500,
          646,
          445,
          324,
          285,
          533,
          412,
          215,
          293,
          249,
          314,
          2209,
          290,
          379,
          693,
          166,
          368,
          414,
          151,
          178,
          458,
          102,
          185,
          253,
          409,
          344,
          751,
          428,
          609,
          296,
          453,
          116,
          278,
          296,
          384,
          342,
          441,
          340,
          122,
          282,
          248,
          185,
          651,
          293,
          547,
          1347,
          266,
          1639,
          593,
          175,
          737,
          444,
          329,
          119,
          153,
          209,
          358,
          588,
          227,
          182,
          740,
          414,
          344,
          570,
          380,
          213,
          385,
          455,
          785,
          450,
          299,
          334,
          933,
          722,
          606,
          153,
          328,
          360,
          384,
          1440,
          111,
          397,
          406,
          310,
          634,
          583,
          413,
          584,
          113,
          1342,
          290,
          585,
          728,
          332,
          660,
          196,
          657,
          115,
          337,
          155,
          715,
          382,
          2590,
          350,
          218,
          376,
          362,
          289,
          158,
          786,
          301,
          253,
          177,
          260,
          203,
          663,
          370,
          452,
          300,
          603,
          359,
          513,
          329,
          210,
          718,
          313,
          585,
          839,
          257,
          574,
          674,
          147,
          2108,
          395,
          275,
          101,
          207,
          813,
          382,
          328,
          336,
          435,
          746,
          453,
          90,
          472,
          138,
          910,
          210,
          657,
          302,
          4,
          534,
          237,
          675,
          304,
          438,
          264,
          225,
          402,
          213,
          930,
          577,
          390,
          438,
          421,
          298,
          491,
          230,
          118,
          442,
          645,
          709,
          104,
          184,
          336,
          239,
          218,
          465,
          109,
          47,
          1834,
          411,
          420,
          92,
          1371,
          352,
          557,
          396,
          151,
          192,
          4,
          582,
          994,
          210,
          443,
          140,
          312,
          709,
          201,
          771,
          112,
          423,
          244,
          448,
          288,
          396,
          338,
          131,
          460,
          321,
          171,
          133,
          313,
          994,
          260,
          419,
          329,
          361,
          650,
          112,
          258,
          81,
          196,
          605,
          224,
          437,
          276,
          137,
          1309,
          736,
          536,
          448,
          374,
          708,
          235,
          402,
          371,
          410,
          1187,
          1074,
          216,
          430,
          269,
          149,
          848,
          339,
          527,
          271,
          149,
          696,
          622,
          204,
          232,
          669,
          1052,
          864,
          435,
          310,
          1531,
          282,
          1758,
          397,
          947,
          215,
          392,
          1117,
          108,
          547,
          354,
          341,
          259,
          584,
          570,
          394,
          174,
          359,
          480,
          195,
          455,
          467,
          340,
          156,
          222,
          540,
          318,
          477,
          884,
          882,
          385,
          332,
          346,
          230,
          704,
          524,
          224,
          300,
          274,
          186,
          535,
          130,
          523,
          397,
          345,
          639,
          362,
          262,
          54,
          431,
          342,
          140,
          419,
          244,
          797,
          742,
          246,
          257,
          382,
          428,
          316,
          280,
          262,
          480,
          759,
          121,
          272,
          639,
          440,
          274,
          538,
          170,
          338,
          368,
          356,
          513,
          335,
          571,
          339,
          195,
          93,
          673,
          466,
          170,
          318,
          200,
          299,
          377,
          270,
          934,
          194,
          273,
          500,
          497,
          335,
          312,
          308,
          177,
          174,
          149,
          593,
          506,
          317,
          558,
          346,
          315,
          193,
          481,
          362,
          418,
          315,
          941,
          499,
          671,
          233,
          1949,
          1130,
          572,
          418,
          270,
          312,
          805,
          299,
          852,
          335,
          523,
          196,
          53,
          281,
          375,
          1892,
          266,
          261,
          529,
          428,
          983,
          296,
          796,
          950,
          241,
          176,
          154,
          1072,
          947,
          874,
          739,
          506,
          356,
          569,
          207,
          660,
          602,
          208,
          219,
          498,
          244,
          439,
          309,
          313,
          694,
          1848,
          456,
          212,
          405,
          365,
          744,
          510,
          579,
          276,
          359,
          503,
          261,
          404,
          267,
          426,
          543,
          354,
          300,
          578,
          455,
          459,
          112,
          457,
          496,
          752,
          182,
          258,
          402,
          365,
          1405,
          402,
          1468,
          328,
          416,
          470,
          652,
          665,
          198,
          518,
          378,
          832,
          400,
          311,
          264,
          431,
          468,
          278,
          279,
          514,
          402,
          304,
          796,
          116,
          228,
          650,
          79,
          401,
          135,
          380,
          868,
          582,
          598,
          385,
          206,
          1113,
          399,
          842,
          352,
          387,
          320,
          247,
          372,
          305,
          208,
          913,
          322,
          5854,
          396,
          902,
          594,
          4,
          761,
          284,
          303,
          415,
          685,
          284,
          297,
          297,
          736,
          741,
          144,
          788,
          616,
          206,
          416,
          245,
          855,
          221,
          219,
          207,
          916,
          979,
          202,
          416,
          366,
          505,
          331,
          221,
          1400,
          123,
          373,
          284,
          164,
          216,
          867,
          399,
          673,
          157,
          266,
          982,
          160,
          384,
          482,
          281,
          258,
          224,
          607,
          303,
          95,
          283,
          356,
          355,
          486,
          144,
          565,
          367,
          499,
          970,
          296,
          703,
          299,
          267,
          131,
          497,
          360,
          186,
          307,
          297,
          382,
          227,
          2422,
          224,
          320,
          288,
          1005,
          650,
          253,
          1586,
          119,
          476,
          354,
          550,
          636,
          331,
          343,
          1182,
          461,
          324,
          219,
          121,
          450,
          657,
          521,
          248,
          114,
          231,
          347,
          227,
          506,
          189,
          328,
          201,
          170,
          409,
          359,
          224,
          447,
          268,
          177,
          304,
          255,
          261,
          418,
          376,
          453,
          448,
          716,
          233,
          877,
          554,
          450,
          224,
          155,
          1559,
          356,
          247,
          1240,
          359,
          1103,
          517,
          379,
          280,
          510,
          372,
          589,
          1008,
          278,
          187,
          107,
          424,
          269,
          1006,
          454,
          234,
          690,
          305,
          314,
          369,
          367,
          247,
          390,
          1021,
          500,
          355,
          635,
          682,
          397,
          253,
          517,
          484,
          240,
          806,
          257,
          630,
          361,
          528,
          118,
          376,
          515,
          139,
          219,
          415,
          287,
          306,
          216,
          2180,
          616,
          513,
          146,
          234,
          385,
          803,
          607,
          418,
          507,
          201,
          535,
          252,
          426,
          903,
          310,
          152,
          616,
          258,
          196,
          487,
          215,
          619,
          344,
          289,
          180,
          330,
          211,
          2062,
          280,
          288,
          216,
          243,
          337,
          790,
          279,
          424,
          564,
          243,
          285,
          185,
          710,
          174,
          512,
          882,
          232,
          1046,
          255,
          557,
          371,
          549,
          387,
          269,
          389,
          1011,
          295,
          649,
          436,
          385,
          152,
          199,
          368,
          437,
          375,
          332,
          266,
          210,
          239,
          233,
          182,
          536,
          341,
          423,
          325,
          329,
          505,
          154,
          344,
          328,
          637,
          136,
          632,
          297,
          504,
          349,
          317,
          204,
          377,
          978,
          668,
          215,
          222,
          349,
          217,
          295,
          789,
          862,
          212,
          229,
          316,
          493,
          262,
          562,
          484,
          402,
          386,
          433,
          457,
          94,
          336,
          625,
          154,
          417,
          503,
          175,
          379,
          483,
          397,
          267,
          171,
          645,
          454,
          373,
          288,
          314,
          581,
          252,
          365,
          127,
          280,
          454,
          627,
          242,
          248,
          281,
          314,
          156,
          256,
          234,
          267,
          658,
          143,
          130,
          539,
          11,
          370,
          67,
          147,
          548,
          508,
          207,
          384,
          399,
          401,
          1155,
          329,
          271,
          356,
          528,
          168,
          620,
          231,
          605,
          540,
          187,
          218,
          366,
          599,
          272,
          627,
          238,
          290,
          478,
          430,
          420,
          765,
          765,
          432,
          523,
          300,
          252,
          927,
          929,
          457,
          155,
          157,
          276,
          440,
          208,
          380,
          206,
          1229,
          150,
          645,
          399,
          404,
          505,
          897,
          413,
          294,
          257,
          842,
          732,
          361,
          393,
          254,
          589,
          351,
          162,
          352,
          103,
          398,
          359,
          457,
          363,
          499,
          621,
          204,
          442,
          4,
          456,
          303,
          348,
          406,
          157,
          896,
          657,
          643,
          351,
          151,
          244,
          469,
          346,
          661,
          898,
          468,
          371,
          412,
          288,
          327,
          346,
          218,
          151,
          175,
          805,
          898,
          390,
          1149,
          276,
          282,
          457,
          449,
          76,
          420,
          165,
          397,
          313,
          308,
          423,
          217,
          270,
          249,
          263,
          112,
          561,
          211,
          896,
          207,
          297,
          1412,
          295,
          321,
          758,
          448,
          282,
          124,
          416,
          586,
          215,
          902,
          192,
          963,
          216,
          106,
          348,
          378,
          261,
          242,
          478,
          216,
          453,
          247,
          789,
          874,
          372,
          444,
          506,
          517,
          305,
          468,
          355,
          411,
          451,
          691,
          352,
          219,
          319,
          214,
          291,
          399,
          270,
          257,
          723,
          744,
          262,
          328,
          137,
          225,
          272,
          849,
          596,
          235,
          232,
          389,
          287,
          1050,
          545,
          521,
          577,
          147,
          469,
          542,
          561,
          496,
          353,
          236,
          429,
          470,
          246,
          336,
          306,
          864,
          531,
          287,
          408,
          738,
          327,
          338,
          344,
          250,
          354,
          566,
          411,
          192,
          716,
          624,
          195,
          283,
          474,
          242,
          235,
          295,
          675,
          411,
          650,
          209,
          471,
          903,
          440,
          481,
          347,
          414,
          279,
          325,
          413,
          400,
          397,
          1135,
          311,
          268,
          200,
          288,
          616,
          180,
          716,
          281,
          433,
          447,
          404,
          297,
          380,
          253,
          828,
          329,
          145,
          303,
          373,
          381,
          223,
          797,
          588,
          260,
          126,
          248,
          231,
          413,
          487,
          307,
          626,
          531,
          246,
          340,
          244,
          69,
          275,
          418,
          81,
          328,
          298,
          241,
          523,
          945,
          434,
          337,
          308,
          240,
          386,
          163,
          121,
          322,
          168,
          161,
          507,
          126,
          189,
          102,
          351,
          294,
          1057,
          294,
          679,
          447,
          327,
          199,
          198,
          316,
          260,
          764,
          137,
          225,
          138,
          554,
          204,
          722,
          1106,
          432,
          238,
          327,
          628,
          579,
          287,
          146,
          353,
          264,
          624,
          681,
          552,
          627,
          236,
          259,
          125,
          210,
          433,
          71,
          516,
          1206,
          441,
          268,
          251,
          388,
          644,
          466,
          325,
          477,
          366,
          277,
          556,
          847,
          390,
          360,
          927,
          264,
          705,
          398,
          341,
          858,
          490,
          538,
          160,
          325,
          462,
          240,
          435,
          232,
          228,
          253,
          136,
          575,
          203,
          495,
          169,
          295,
          245,
          649,
          697,
          243,
          109,
          617,
          161,
          233,
          930,
          711,
          1054,
          180,
          996,
          503,
          274,
          239,
          452,
          179,
          185,
          79,
          307,
          142,
          320,
          358,
          434,
          173,
          350,
          598,
          201,
          586,
          1183,
          328,
          758,
          146,
          185,
          443,
          620,
          659,
          253,
          716,
          597,
          567,
          1132,
          267,
          240,
          119,
          144,
          141,
          319,
          402,
          354,
          1312,
          310,
          265,
          526,
          443,
          52,
          212,
          252,
          418,
          429,
          432,
          648,
          365,
          238,
          476,
          597,
          171,
          288,
          523,
          366,
          440,
          316,
          601,
          904,
          495,
          144,
          262,
          202,
          401,
          331,
          304,
          772,
          298,
          560,
          1076,
          4,
          377,
          564,
          482,
          657,
          877,
          595,
          603,
          774,
          295,
          223,
          269,
          383,
          454,
          345,
          405,
          444,
          539,
          672,
          692,
          495,
          420,
          350,
          498,
          278,
          197,
          271,
          127,
          936,
          653,
          264,
          104,
          404,
          726,
          483,
          683,
          75,
          488,
          467,
          459,
          499,
          312,
          354,
          401,
          120,
          741,
          298,
          256,
          559,
          63,
          594,
          561,
          454,
          279,
          785,
          697,
          100,
          148,
          585,
          310,
          158,
          373,
          363,
          198,
          230,
          218,
          214,
          200,
          786,
          334,
          678,
          295,
          314,
          157,
          157,
          188,
          351,
          305,
          240,
          605,
          171,
          396,
          192,
          377,
          496,
          794,
          274,
          445,
          336,
          470,
          1301,
          146,
          97,
          1438,
          1176,
          444,
          301,
          412,
          534,
          271,
          539,
          504,
          461,
          598,
          397,
          166,
          494,
          366,
          803,
          179,
          459,
          179,
          308,
          326,
          459,
          293,
          431,
          165,
          178,
          330,
          333,
          156,
          799,
          1616,
          260,
          304,
          412,
          432,
          143,
          357,
          391,
          487,
          131,
          490,
          136,
          382,
          183,
          401,
          196,
          299,
          271,
          733,
          284,
          230,
          309,
          190,
          343,
          353,
          183,
          718,
          785,
          445,
          1147,
          347,
          778,
          176,
          283,
          324,
          328,
          248,
          394,
          258,
          242,
          382,
          648,
          254,
          350,
          167,
          309,
          198,
          273,
          78,
          485,
          255,
          534,
          506,
          335,
          57,
          165,
          238,
          234,
          441,
          630,
          642,
          126,
          203,
          401,
          691,
          661,
          1885,
          371,
          361,
          192,
          234,
          562,
          957,
          902,
          431,
          181,
          670,
          233,
          383,
          153,
          302,
          634,
          190,
          464,
          242,
          1001,
          215,
          441,
          492,
          90,
          331,
          203,
          492,
          239,
          115,
          260,
          498,
          215,
          494,
          392,
          1557,
          475,
          183,
          418,
          180,
          439,
          220,
          276,
          618,
          568,
          1193,
          1015,
          450,
          203,
          432,
          409,
          1295,
          1059,
          285,
          368,
          136,
          903,
          291,
          487,
          4,
          818,
          454,
          626,
          672,
          523,
          406,
          385,
          242,
          83,
          955,
          107,
          256,
          315,
          106,
          303,
          583,
          356,
          112,
          526,
          520,
          537,
          508,
          465,
          900,
          213,
          260,
          439,
          337,
          374,
          227,
          611,
          589,
          338,
          181,
          548,
          840,
          287,
          573,
          466,
          814,
          833,
          1330,
          280,
          178,
          533,
          1067,
          133,
          607,
          747,
          441,
          196,
          203,
          378,
          312,
          124,
          170,
          422,
          260,
          754,
          449,
          239,
          513,
          584,
          156,
          598,
          343,
          159,
          326,
          383,
          572,
          190,
          206,
          166,
          385,
          713,
          340,
          566,
          576,
          783,
          1314,
          261,
          301,
          173,
          303,
          607,
          341,
          400,
          406,
          120,
          475,
          225,
          417,
          507,
          569,
          268,
          288,
          227,
          566,
          345,
          529,
          947,
          472,
          542,
          542,
          315,
          240,
          603,
          514,
          558,
          322,
          233,
          348,
          276,
          1929,
          3760,
          295,
          247,
          443,
          575,
          149,
          310,
          743,
          439,
          394,
          111,
          336,
          473,
          309,
          245,
          335,
          170,
          311,
          938,
          484,
          716,
          422,
          313,
          282,
          405,
          617,
          1682,
          118,
          291,
          313,
          446,
          1553,
          193,
          188,
          463,
          2205,
          269,
          605,
          253,
          636,
          184,
          501,
          263,
          407,
          287,
          1331,
          212,
          640,
          546,
          656,
          716,
          399,
          231,
          368,
          356,
          550,
          815,
          259,
          210,
          679,
          391,
          430,
          294,
          137,
          241,
          389,
          807,
          1389,
          283,
          667,
          446,
          346,
          595,
          447,
          496,
          503,
          836,
          176,
          969,
          228,
          395,
          286,
          488,
          342,
          136,
          890,
          335,
          779,
          304,
          454,
          549,
          782,
          747,
          622,
          376,
          228,
          576,
          756,
          808,
          468,
          175,
          732,
          477,
          371,
          462,
          1364,
          230,
          196,
          561,
          326,
          275,
          307,
          692,
          321,
          388,
          581,
          272,
          540,
          291,
          595,
          455,
          470,
          463,
          107,
          504,
          324,
          352,
          122,
          408,
          295,
          635,
          719,
          300,
          348,
          201,
          332,
          408,
          719,
          184,
          634,
          90,
          354,
          345,
          362,
          538,
          465,
          246,
          292,
          277,
          511,
          819,
          190,
          746,
          257,
          400,
          355,
          1035,
          300,
          307,
          524,
          337,
          421,
          105,
          439,
          216,
          327,
          190,
          217,
          292,
          240,
          181,
          530,
          540,
          140,
          492,
          124,
          153,
          491,
          465,
          302,
          266,
          489,
          209,
          418,
          177,
          217,
          81,
          211,
          86,
          568,
          461,
          379,
          269,
          553,
          379,
          399,
          222,
          339,
          236,
          581,
          302,
          214,
          193,
          255,
          249,
          608,
          249,
          515,
          117,
          239,
          432,
          586,
          1091,
          269,
          432,
          196,
          280,
          827,
          735,
          595,
          560,
          387,
          399,
          540,
          761,
          208,
          138,
          261,
          258,
          714,
          655,
          370,
          181,
          115,
          181,
          184,
          98,
          517,
          270,
          235,
          286,
          248,
          177,
          183,
          200,
          328,
          412,
          845,
          282,
          464,
          277,
          288,
          424,
          538,
          376,
          202,
          244,
          211,
          336,
          174,
          1043,
          376,
          678,
          111,
          278,
          96,
          306,
          337,
          227,
          529,
          716,
          302,
          264,
          149,
          366,
          416,
          515,
          751,
          571,
          289,
          425,
          316,
          315,
          364,
          329,
          770,
          215,
          381,
          311,
          226,
          686,
          208,
          236,
          431,
          231,
          200,
          552,
          205,
          301,
          315,
          120,
          321,
          282,
          1442,
          535,
          617,
          269,
          859,
          135,
          717,
          456,
          142,
          118,
          313,
          687,
          296,
          146,
          100,
          236,
          246,
          282,
          455,
          509,
          398,
          196,
          178,
          421,
          331,
          246,
          438,
          225,
          365,
          523,
          300,
          304,
          896,
          209,
          873,
          184,
          363,
          62,
          1057,
          124,
          283,
          833,
          289,
          163,
          286,
          212,
          1081,
          211,
          509,
          472,
          1455,
          511,
          295,
          201,
          401,
          480,
          599,
          352,
          277,
          486,
          472,
          1297,
          282,
          404,
          355,
          437,
          501,
          554,
          235,
          127,
          362,
          127,
          149,
          601,
          465,
          281,
          222,
          1202,
          254,
          252,
          240,
          471,
          431,
          108,
          1362,
          474,
          382,
          218,
          434,
          246,
          399,
          629,
          199,
          444,
          241,
          252,
          709,
          229,
          398,
          465,
          734,
          105,
          202,
          419,
          224,
          107,
          364,
          1238,
          95,
          332,
          254,
          395,
          635,
          502,
          303,
          115,
          327,
          205,
          179,
          193,
          778,
          825,
          724,
          314,
          118,
          390,
          151,
          564,
          189,
          288,
          560,
          240,
          240,
          195,
          135,
          316,
          627,
          121,
          207,
          214,
          172,
          492,
          607,
          265,
          659,
          368,
          337,
          681,
          1246,
          370,
          524,
          259,
          490,
          207,
          510,
          157,
          142,
          832,
          646,
          461,
          578,
          157,
          297,
          55,
          1438,
          474,
          125,
          238,
          443,
          238,
          580,
          419,
          1406,
          370,
          272,
          481,
          217,
          136,
          934,
          892,
          392,
          1633,
          666,
          181,
          691,
          447,
          30,
          110,
          484,
          470,
          488,
          140,
          161,
          611,
          855,
          321,
          366,
          381,
          241,
          343,
          283,
          198,
          287,
          328,
          205,
          155,
          229,
          439,
          586,
          479,
          117,
          451,
          544,
          220,
          357,
          363,
          197,
          330,
          310,
          615,
          137,
          434,
          314,
          125,
          303,
          566,
          255,
          270,
          325,
          407,
          324,
          256,
          687,
          422,
          280,
          349,
          553,
          240,
          18,
          646,
          711,
          393,
          127,
          149,
          1108,
          442,
          288,
          377,
          387,
          405,
          456,
          229,
          255,
          650,
          189,
          263,
          326,
          271,
          532,
          462,
          4,
          179,
          621,
          373,
          413,
          751,
          543,
          430,
          643,
          607,
          151,
          201,
          473,
          174,
          174,
          286,
          220,
          123,
          123,
          931,
          360,
          452,
          794,
          626,
          214,
          148,
          272,
          899,
          554,
          1257,
          258,
          288,
          138,
          397,
          235,
          345,
          521,
          244,
          525,
          458,
          167,
          198,
          299,
          347,
          168,
          206,
          440,
          359,
          401,
          370,
          214,
          106,
          577,
          186,
          248,
          333,
          191,
          802,
          393,
          620,
          197,
          818,
          280,
          314,
          180,
          118,
          51,
          410,
          234,
          369,
          440,
          539,
          464,
          570,
          174,
          895,
          276,
          1022,
          958,
          279,
          197,
          871,
          489,
          208,
          496,
          396,
          272,
          172,
          45,
          298,
          302,
          333,
          400,
          269,
          392,
          344,
          268,
          669,
          251,
          374,
          303,
          1166,
          429,
          328,
          212,
          374,
          269,
          722,
          176,
          326,
          503,
          1189,
          779,
          252,
          462,
          183,
          603,
          964,
          510,
          662,
          271,
          139,
          446,
          527,
          591,
          207,
          313,
          178,
          109,
          312,
          530,
          304,
          260,
          538,
          486,
          799,
          404,
          445,
          284,
          695,
          380,
          535,
          462,
          521,
          326,
          456,
          156,
          293,
          403,
          409,
          766,
          413,
          107,
          1516,
          2091,
          444,
          105,
          184,
          420,
          399,
          304,
          546,
          284,
          397,
          151,
          51,
          219,
          548,
          528,
          393,
          727,
          1001,
          290,
          413,
          533,
          366,
          888,
          333,
          627,
          71,
          470,
          252,
          409,
          331,
          258,
          888,
          809,
          142,
          347,
          657,
          312,
          1083,
          974,
          502,
          293,
          776,
          281,
          140,
          913,
          830,
          107,
          465,
          135,
          344,
          205,
          417,
          70,
          549,
          263,
          439,
          778,
          209,
          471,
          379,
          454,
          606,
          976,
          516,
          113,
          338,
          237,
          1431,
          329,
          663,
          715,
          99,
          263,
          371,
          504,
          298,
          653,
          217,
          1123,
          517,
          395,
          448,
          511,
          269,
          606,
          146,
          222,
          333,
          306,
          370,
          1204,
          63,
          237,
          255,
          418,
          207,
          387,
          326,
          394,
          1503,
          228,
          341,
          468,
          413,
          394,
          283,
          586,
          548,
          344,
          838,
          122,
          643,
          876,
          276,
          704,
          2076,
          281,
          1350,
          76,
          405,
          314,
          181,
          629,
          739,
          390,
          552,
          343,
          1429,
          478,
          627,
          1525,
          388,
          167,
          272,
          986,
          543,
          737,
          380,
          453,
          171,
          444,
          313,
          481,
          461,
          442,
          1109,
          146,
          362,
          327,
          347,
          291,
          412,
          388,
          619,
          408,
          160,
          354,
          116,
          141,
          520,
          271,
          825,
          838,
          562,
          159,
          292,
          745,
          261,
          241,
          338,
          465,
          456,
          327,
          284,
          179,
          114,
          547,
          531,
          144,
          206,
          401,
          577,
          396,
          279,
          306,
          498,
          595,
          357,
          747,
          485,
          650,
          737,
          410,
          273,
          761,
          201,
          367,
          544,
          712,
          354,
          196,
          474,
          192,
          139,
          202,
          535,
          226,
          557,
          391,
          335,
          218,
          324,
          597,
          376,
          355,
          340,
          836,
          326,
          1220,
          253,
          4,
          404,
          350,
          224,
          444,
          173,
          239,
          823,
          727,
          400,
          320,
          397,
          451,
          630,
          316,
          83,
          1205,
          511,
          568,
          339,
          610,
          268,
          164,
          384,
          413,
          255,
          884,
          359,
          482,
          599,
          132,
          287,
          367,
          230,
          900,
          375,
          683,
          568,
          290,
          385,
          290,
          282,
          283,
          296,
          275,
          343,
          359,
          561,
          275,
          536,
          264,
          583,
          1698,
          652,
          167,
          495,
          281,
          166,
          920,
          336,
          833,
          847,
          620,
          904,
          602,
          332,
          372,
          216,
          661,
          257,
          425,
          458,
          534,
          450,
          459,
          187,
          455,
          2947,
          246,
          331,
          483,
          416,
          1352,
          578,
          682,
          166,
          421,
          1649,
          565,
          319,
          208,
          297,
          340,
          929,
          395,
          97,
          1396,
          808,
          492,
          550,
          192,
          706,
          389,
          483,
          206,
          205,
          172,
          205,
          216,
          352,
          702,
          246,
          331,
          577,
          484,
          250,
          326,
          536,
          426,
          341,
          743,
          802,
          445,
          178,
          782,
          1330,
          155,
          530,
          167,
          168,
          432,
          305,
          559,
          553,
          584,
          1227,
          91,
          227,
          221,
          867,
          729,
          370,
          81,
          190,
          406,
          411,
          481,
          199,
          328,
          127,
          420,
          1139,
          56,
          592,
          400,
          541,
          173,
          531,
          1158,
          158,
          440,
          361,
          234,
          258,
          598,
          618,
          137,
          342,
          209,
          4718,
          110,
          508,
          542,
          605,
          494,
          539,
          158,
          945,
          569,
          169,
          682,
          238,
          507,
          207,
          373,
          708,
          160,
          282,
          508,
          290,
          271,
          372,
          274,
          280,
          467,
          462,
          4,
          399,
          387,
          267,
          509,
          357,
          238,
          416,
          346,
          223,
          757,
          765,
          172,
          318,
          317,
          186,
          275,
          248,
          741,
          368,
          401,
          169,
          706,
          767,
          603,
          377,
          853,
          165,
          2905,
          537,
          341,
          393,
          127,
          224,
          511,
          163,
          381,
          164,
          177,
          311,
          467,
          455,
          409,
          435,
          1077,
          378,
          256,
          301,
          379,
          207,
          354,
          324,
          255,
          245,
          298,
          949,
          513,
          761,
          191,
          809,
          364,
          228,
          568,
          276,
          455,
          168,
          506,
          724,
          656,
          817,
          185,
          438,
          642,
          714,
          1274,
          398,
          124,
          221,
          613,
          451,
          296,
          11,
          239,
          422,
          651,
          406,
          162,
          161,
          721,
          488,
          431,
          186,
          405,
          140,
          213,
          77,
          962,
          370,
          664,
          542,
          426,
          1712,
          190,
          373,
          57,
          318,
          284,
          511,
          479,
          365,
          257,
          193,
          951,
          190,
          324,
          385,
          414,
          472,
          394,
          301,
          222,
          566,
          165,
          346,
          359,
          257,
          1040,
          162,
          242,
          211,
          378,
          251,
          380,
          249,
          165,
          1077,
          494,
          73,
          247,
          637,
          453,
          728,
          635,
          777,
          510,
          196,
          168,
          270,
          288,
          653,
          203,
          449,
          189,
          552,
          419,
          587,
          258,
          566,
          460,
          554,
          164,
          508,
          321,
          1579,
          615,
          427,
          322,
          358,
          675,
          675,
          390,
          197,
          11,
          403,
          334,
          556,
          227,
          522,
          752,
          647,
          242,
          729,
          646,
          174,
          170,
          182,
          236,
          853,
          258,
          299,
          434,
          441,
          172,
          642,
          94,
          293,
          989,
          608,
          213,
          429,
          169,
          186,
          287,
          185,
          329,
          292,
          154,
          234,
          1001,
          160,
          368,
          375,
          722,
          1310,
          457,
          634,
          523,
          607,
          408,
          1181,
          597,
          553,
          266,
          1016,
          219,
          914,
          183,
          530,
          346,
          324,
          256,
          51,
          468,
          237,
          364,
          157,
          296,
          1353,
          427,
          435,
          295,
          330,
          301,
          651,
          384,
          345,
          358,
          223,
          359,
          239,
          232,
          757,
          539,
          242,
          479,
          261,
          269,
          380,
          486,
          161,
          448,
          273,
          157,
          452,
          195,
          426,
          165,
          588,
          209,
          50,
          541,
          331,
          451,
          437,
          386,
          180,
          964,
          245,
          460,
          1465,
          197,
          584,
          352,
          314,
          920,
          439,
          532,
          247,
          277,
          547,
          382,
          498,
          500,
          555,
          458,
          277,
          2299,
          409,
          570,
          1144,
          371,
          401,
          307,
          1033,
          170,
          171,
          448,
          520,
          1152,
          246,
          407,
          630,
          582,
          261,
          416,
          166,
          214,
          600,
          1557,
          361,
          290,
          408,
          399,
          270,
          230,
          308,
          731,
          521,
          208,
          456,
          345,
          745,
          173,
          251,
          344,
          360,
          819,
          107,
          196,
          741,
          180,
          465,
          272,
          374,
          415,
          161,
          642,
          1302,
          351,
          132,
          246,
          168,
          711,
          329,
          61,
          480,
          429,
          2138,
          920,
          765,
          147,
          92,
          201,
          530,
          375,
          442,
          396,
          212,
          307,
          650,
          393,
          705,
          325,
          413,
          250,
          346,
          335,
          830,
          226,
          260,
          348,
          255,
          463,
          1326,
          404,
          263,
          259,
          116,
          421,
          718,
          255,
          191,
          294,
          176,
          187,
          623,
          81,
          451,
          762,
          297,
          219,
          1774,
          503,
          457,
          934,
          436,
          641,
          375,
          102,
          230,
          574,
          211,
          196,
          572,
          201,
          148,
          33,
          368,
          99,
          650,
          434,
          310,
          757,
          476,
          444,
          483,
          362,
          316,
          170,
          255,
          626,
          712,
          411,
          428,
          253,
          1621,
          606,
          274,
          632,
          228,
          523,
          352,
          259,
          260,
          1214,
          132,
          452,
          585,
          270,
          489,
          289,
          302,
          473,
          461,
          501,
          4,
          445,
          173,
          375,
          406,
          364,
          202,
          638,
          644,
          92,
          177,
          651,
          354,
          282,
          323,
          974,
          288,
          322,
          276,
          425,
          492,
          303,
          644,
          684,
          408,
          118,
          182,
          362,
          412,
          318,
          631,
          244,
          593,
          304,
          3261,
          239,
          216,
          306,
          245,
          223,
          354,
          647,
          208,
          345,
          570,
          279,
          639,
          573,
          2175,
          317,
          947,
          320,
          173,
          194,
          1271,
          116,
          383,
          581,
          878,
          858,
          255,
          95,
          845,
          661,
          483,
          312,
          925,
          443,
          296,
          372,
          1153,
          508,
          575,
          277,
          319,
          586,
          454,
          279,
          324,
          357,
          445,
          370,
          357,
          210,
          610,
          804,
          171,
          138,
          482,
          566,
          269,
          1285,
          227,
          465,
          294,
          251,
          375,
          931,
          470,
          858,
          768,
          189,
          496,
          521,
          212,
          382,
          126,
          424,
          450,
          320,
          767,
          1031,
          174,
          324,
          140,
          99,
          336,
          530,
          294,
          279,
          574,
          286,
          112,
          692,
          215,
          579,
          310,
          450,
          740,
          1158,
          198,
          498,
          480,
          425,
          162,
          442,
          165,
          276,
          565,
          478,
          1234,
          624,
          1364,
          496,
          272,
          221,
          300,
          233,
          262,
          87,
          413,
          204,
          2349,
          466,
          844,
          514,
          835,
          326,
          1073,
          352,
          1293,
          213,
          1835,
          178,
          421,
          107,
          159,
          207,
          567,
          149,
          488,
          150,
          435,
          1161,
          247,
          392,
          497,
          191,
          597,
          616,
          285,
          798,
          313,
          203,
          288,
          223,
          330,
          585,
          523,
          224,
          305,
          221,
          166,
          558,
          670,
          448,
          392,
          259,
          235,
          422,
          334,
          460,
          424,
          329,
          621,
          163,
          467,
          328,
          560,
          137,
          388,
          312,
          647,
          308,
          389,
          544,
          763,
          437,
          202,
          724,
          228,
          460,
          179,
          276,
          546,
          439,
          574,
          534,
          146,
          212,
          293,
          270,
          581,
          419,
          259,
          743,
          346,
          394,
          183,
          284,
          111,
          180,
          155,
          333,
          258,
          299,
          124,
          255,
          105,
          161,
          127,
          365,
          421,
          103,
          597,
          154,
          353,
          81,
          309,
          1272,
          543,
          291,
          11,
          422,
          356,
          297,
          560,
          422,
          199,
          388,
          565,
          891,
          989,
          268,
          634,
          360,
          833,
          464,
          132,
          127,
          255,
          328,
          900,
          847,
          221,
          546,
          208,
          111,
          238,
          371,
          490,
          279,
          116,
          618,
          518,
          210,
          244,
          194,
          289,
          302,
          563,
          425,
          582,
          278,
          336,
          535,
          193,
          479,
          461,
          312,
          421,
          332,
          131,
          529,
          279,
          848,
          579,
          162,
          327,
          160,
          341,
          245,
          318,
          201,
          212,
          536,
          182,
          437,
          323,
          183,
          665,
          367,
          421,
          80,
          398,
          640,
          1157,
          130,
          926,
          191,
          121,
          328,
          194,
          672,
          236,
          359,
          132,
          389,
          380,
          1149,
          403,
          386,
          148,
          450,
          361,
          399,
          431,
          606,
          376,
          349,
          103,
          236,
          411,
          1118,
          256,
          301,
          405,
          220,
          215,
          91,
          197,
          991,
          222,
          446,
          366,
          502,
          210,
          825,
          662,
          61,
          951,
          355,
          721,
          818,
          180,
          662,
          290,
          643,
          418,
          402,
          1185,
          393,
          299,
          245,
          804,
          889,
          266,
          181,
          334,
          373,
          280,
          173,
          393,
          170,
          351,
          235,
          517,
          406,
          527,
          354,
          977,
          1076,
          113,
          743,
          223,
          481,
          57,
          595,
          455,
          902,
          281,
          186,
          216,
          282,
          446,
          595,
          515,
          169,
          458,
          616,
          390,
          351,
          350,
          339,
          621,
          388,
          276,
          958,
          486,
          127,
          203,
          877,
          415,
          412,
          282,
          956,
          224,
          580,
          330,
          495,
          360,
          145,
          652,
          405,
          88,
          698,
          288,
          169,
          644,
          400,
          582,
          739,
          11,
          969,
          327,
          510,
          344,
          563,
          335,
          180,
          394,
          342,
          240,
          295,
          225,
          643,
          127,
          373,
          201,
          544,
          514,
          290,
          228,
          143,
          317,
          492,
          786,
          313,
          340,
          502,
          239,
          258,
          395,
          199,
          499,
          213,
          741,
          176,
          838,
          511,
          227,
          259,
          178,
          550,
          489,
          691,
          458,
          560,
          351,
          350,
          258,
          603,
          626,
          385,
          180,
          868,
          159,
          128,
          365,
          306,
          380,
          753,
          332,
          771,
          464,
          259,
          433,
          169,
          764,
          436,
          552,
          730,
          202,
          333,
          151,
          206,
          348,
          547,
          295,
          1284,
          755,
          156,
          142,
          72,
          449,
          702,
          545,
          251,
          239,
          256,
          231,
          677,
          627,
          103,
          415,
          277,
          258,
          312,
          257,
          187,
          342,
          546,
          559,
          1042,
          924,
          424,
          544,
          1256,
          606,
          371,
          268,
          437,
          676,
          123,
          880,
          256,
          799,
          237,
          1022,
          510,
          557,
          1133,
          202,
          174,
          73,
          485,
          570,
          2510,
          213,
          1505,
          353,
          140,
          527,
          547,
          252,
          131,
          324,
          305,
          584,
          440,
          153,
          560,
          385,
          502,
          238,
          562,
          360,
          378,
          406,
          358,
          254,
          659,
          199,
          487,
          1079,
          677,
          235,
          1115,
          2336,
          734,
          210,
          621,
          176,
          232,
          1127,
          302,
          566,
          127,
          482,
          887,
          729,
          115,
          339,
          530,
          722,
          769,
          1501,
          241,
          1482,
          526,
          308,
          189,
          268,
          206,
          251,
          910,
          289,
          129,
          1020,
          162,
          353,
          340,
          832,
          1127,
          606,
          243,
          438,
          1044,
          247,
          609,
          229,
          4,
          462,
          4,
          344,
          342,
          281,
          534,
          360,
          1971,
          322,
          298,
          266,
          967,
          381,
          640,
          376,
          319,
          366,
          400,
          430,
          450,
          575,
          418,
          213,
          1089,
          271,
          324,
          283,
          97,
          354,
          296,
          628,
          241,
          253,
          273,
          242,
          161,
          171,
          343,
          261,
          575,
          211,
          768,
          257,
          499,
          236,
          2082,
          618,
          427,
          1498,
          838,
          288,
          206,
          534,
          299,
          414,
          1092,
          230,
          462,
          291,
          585,
          149,
          747,
          180,
          522,
          233,
          782,
          326,
          265,
          599,
          286,
          172,
          603,
          747,
          220,
          413,
          304,
          137,
          329,
          96,
          260,
          118,
          136,
          237,
          496,
          511,
          484,
          246,
          561,
          263,
          636,
          915,
          267,
          195,
          312,
          513,
          832,
          313,
          673,
          550,
          294,
          317,
          254,
          292,
          711,
          766,
          361,
          423,
          491,
          920,
          491,
          615,
          88,
          500,
          208,
          144,
          325,
          86,
          358,
          72,
          485,
          190,
          1061,
          604,
          419,
          174,
          202,
          361,
          906,
          512,
          134,
          213,
          299,
          185,
          269,
          446,
          175,
          315,
          291,
          247,
          230,
          152,
          396,
          325,
          700,
          253,
          457,
          787,
          544,
          381,
          943,
          172,
          78,
          204,
          669,
          496,
          412,
          367,
          433,
          265,
          83,
          678,
          188,
          249,
          306,
          260,
          238,
          204,
          532,
          716,
          558,
          146,
          238,
          260,
          228,
          501,
          296,
          1504,
          727,
          131,
          816,
          716,
          395,
          229,
          571,
          414,
          383,
          282,
          500,
          459,
          204,
          837,
          605,
          534,
          305,
          298,
          244,
          948,
          1892,
          422,
          278,
          103,
          476,
          508,
          460,
          224,
          352,
          727,
          441,
          234,
          373,
          4,
          501,
          263,
          1168,
          352,
          89,
          502,
          79,
          117,
          105,
          221,
          734,
          136,
          264,
          993,
          473,
          366,
          839,
          387,
          74,
          263,
          396,
          175,
          205,
          267,
          169,
          747,
          311,
          184,
          523,
          1210,
          106,
          189,
          358,
          239,
          443,
          315,
          890,
          787,
          174,
          731,
          4,
          361,
          1100,
          392,
          4,
          397,
          105,
          354,
          241,
          333,
          275,
          85,
          319,
          955,
          732,
          588,
          319,
          707,
          554,
          154,
          738,
          442,
          289,
          316,
          513,
          123,
          886,
          331,
          466,
          423,
          347,
          205,
          218,
          165,
          782,
          182,
          334,
          254,
          311,
          229,
          478,
          134,
          261,
          243,
          473,
          361,
          270,
          187,
          511,
          317,
          351,
          721,
          500,
          349,
          408,
          251,
          1402,
          405,
          123,
          443,
          331,
          628,
          587,
          553,
          149,
          201,
          183,
          658,
          1301,
          416,
          312,
          420,
          638,
          202,
          158,
          288,
          639,
          187,
          729,
          350,
          177,
          265,
          162,
          292,
          1097,
          659,
          388,
          329,
          306,
          345,
          249,
          702,
          187,
          420,
          1425,
          752,
          229,
          295,
          437,
          274,
          490,
          463,
          745,
          716,
          319,
          226,
          379,
          388,
          208,
          221,
          550,
          329,
          463,
          516,
          981,
          389,
          589,
          324,
          402,
          899,
          162,
          143,
          438,
          622,
          321,
          226,
          308,
          821,
          533,
          28,
          438,
          220,
          1797,
          281,
          949,
          345,
          162,
          236,
          654,
          398,
          120,
          743,
          205,
          267,
          389,
          214,
          267,
          314,
          477,
          277,
          180,
          472,
          456,
          581,
          583,
          167,
          271,
          362,
          139,
          665,
          510,
          328,
          200,
          422,
          1133,
          225,
          300,
          572,
          293,
          302,
          602,
          164,
          337,
          576,
          434,
          821,
          245,
          313,
          818,
          289,
          569,
          218,
          285,
          940,
          558,
          572,
          217,
          231,
          453,
          666,
          53,
          267,
          1354,
          181,
          716,
          304,
          505,
          388,
          273,
          1960,
          397,
          203,
          92,
          320,
          615,
          669,
          229,
          343,
          385,
          428,
          383,
          483,
          242,
          266,
          623,
          286,
          413,
          401,
          352,
          741,
          69,
          145,
          70,
          535,
          248,
          407,
          787,
          655,
          180,
          182,
          479,
          383,
          647,
          324,
          311,
          356,
          623,
          243,
          477,
          618,
          423,
          583,
          428,
          169,
          287,
          309,
          338,
          190,
          270,
          640,
          426,
          296,
          209,
          448,
          971,
          1092,
          126,
          602,
          703,
          660,
          706,
          541,
          322,
          566,
          858,
          82,
          68,
          124,
          1011,
          324,
          126,
          280,
          412,
          312,
          172,
          500,
          383,
          212,
          379,
          259,
          91,
          318,
          107,
          347,
          462,
          326,
          384,
          540,
          73,
          211,
          251,
          328,
          359,
          218,
          363,
          207,
          119,
          206,
          254,
          126,
          26,
          231,
          202,
          268,
          371,
          611,
          1294,
          664,
          649,
          405,
          1956,
          264,
          577,
          658,
          280,
          233,
          531,
          407,
          338,
          202,
          303,
          509,
          381,
          566,
          79,
          164,
          861,
          30,
          497,
          1205,
          484,
          181,
          378,
          422,
          209,
          540,
          190,
          540,
          842,
          348,
          290,
          246,
          506,
          194,
          482,
          381,
          347,
          239,
          148,
          406,
          264,
          415,
          298,
          685,
          310,
          188,
          206,
          672,
          308,
          472,
          271,
          200,
          359,
          238,
          427,
          775,
          222,
          363,
          309,
          270,
          304,
          504,
          193,
          324,
          575,
          655,
          242,
          386,
          259,
          80,
          957,
          633,
          139,
          359,
          555,
          335,
          216,
          483,
          168,
          193,
          324,
          445,
          407,
          454,
          375,
          499,
          98,
          207,
          792,
          400,
          354,
          570,
          570,
          543,
          222,
          665,
          108,
          369,
          352,
          125,
          244,
          384,
          273,
          851,
          791,
          410,
          432,
          474,
          131,
          459,
          809,
          298,
          148,
          74,
          316,
          372,
          432,
          359,
          265,
          189,
          291,
          414,
          300,
          175,
          547,
          297,
          1606,
          545,
          270,
          516,
          270,
          349,
          429,
          444,
          91,
          361,
          224,
          205,
          155,
          371,
          817,
          477,
          318,
          457,
          381,
          221,
          301,
          254,
          214,
          1396,
          321,
          178,
          575,
          489,
          481,
          751,
          385,
          343,
          291,
          406,
          593,
          197,
          641,
          764,
          491,
          1218,
          389,
          426,
          1171,
          588,
          184,
          167,
          139,
          699,
          710,
          874,
          676,
          354,
          653,
          359,
          396,
          245,
          279,
          971,
          212,
          405,
          456,
          248,
          209,
          514,
          272,
          593,
          302,
          682,
          648,
          4,
          315,
          301,
          2583,
          466,
          426,
          282,
          212,
          351,
          405,
          525,
          767,
          453,
          737,
          917,
          565,
          209,
          424,
          289,
          335,
          516,
          110,
          168,
          105,
          106,
          330,
          379,
          213,
          334,
          93,
          245,
          275,
          651,
          420,
          630,
          319,
          151,
          159,
          396,
          642,
          696,
          132,
          291,
          423,
          156,
          281,
          663,
          353,
          705,
          418,
          389,
          92,
          152,
          180,
          537,
          186,
          199,
          364,
          191,
          646,
          113,
          409,
          277,
          420,
          589,
          452,
          273,
          630,
          1267,
          522,
          1148,
          374,
          706,
          446,
          527,
          475,
          495,
          1034,
          157,
          78,
          368,
          476,
          232,
          480,
          197,
          606,
          543,
          665,
          287,
          543,
          83,
          279,
          315,
          1413,
          427,
          231,
          727,
          240,
          267,
          718,
          1295,
          174,
          295,
          523,
          105,
          751,
          305,
          339,
          325,
          463,
          429,
          316,
          141,
          222,
          218,
          127,
          295,
          459,
          874,
          243,
          222,
          347,
          791,
          150,
          386,
          444,
          131,
          338,
          253,
          872,
          1071,
          327,
          451,
          268,
          81,
          295,
          517,
          238,
          534,
          211,
          612,
          278,
          258,
          733,
          508,
          477,
          279,
          738,
          813,
          349,
          172,
          832,
          186,
          456,
          561,
          779,
          775,
          936,
          318,
          294,
          225,
          412,
          458,
          468,
          401,
          386,
          245,
          617,
          4,
          521,
          186,
          164,
          332,
          107,
          408,
          491,
          604,
          11,
          231,
          2329,
          1076,
          117,
          428,
          517,
          860,
          625,
          662,
          359,
          314,
          218,
          171,
          497,
          329,
          833,
          700,
          208,
          928,
          283,
          448,
          278,
          620,
          263,
          102,
          411,
          451,
          394,
          149,
          761,
          206,
          464,
          1804,
          809,
          182,
          150,
          194,
          362,
          124,
          130,
          589,
          486,
          621,
          4,
          503,
          1381,
          425,
          423,
          97,
          268,
          290,
          542,
          786,
          534,
          437,
          630,
          370,
          445,
          1065,
          411,
          505,
          213,
          386,
          600,
          32,
          299,
          251,
          636,
          343,
          331,
          179,
          273,
          581,
          223,
          473,
          324,
          405,
          153,
          617,
          183,
          319,
          277,
          930,
          281,
          391,
          422,
          532,
          405,
          398,
          340,
          757,
          430,
          393,
          332,
          299,
          261,
          347,
          606,
          475,
          287,
          1154,
          445,
          203,
          170,
          1128,
          377,
          207,
          269,
          574,
          481,
          450,
          432,
          329,
          144,
          152,
          448,
          302,
          826,
          114,
          171,
          267,
          89,
          348,
          264,
          628,
          223,
          238,
          99,
          622,
          444,
          426,
          266,
          529,
          493,
          249,
          352,
          593,
          284,
          149,
          151,
          261,
          288,
          294,
          280,
          568,
          333,
          152,
          343,
          671,
          274,
          259,
          408,
          808,
          285,
          366,
          441,
          430,
          538,
          309,
          575,
          263,
          200,
          141,
          385,
          371,
          813,
          248,
          254,
          344,
          638,
          425,
          408,
          317,
          159,
          201,
          428,
          367,
          642,
          136,
          302,
          373,
          548,
          363,
          390,
          414,
          332,
          651,
          304,
          371,
          458,
          804,
          272,
          395,
          426,
          330,
          406,
          266,
          208,
          67,
          175,
          667,
          173,
          515,
          956,
          170,
          354,
          275,
          446,
          1306,
          420,
          78,
          309,
          551,
          162,
          390,
          498,
          505,
          212,
          179,
          433,
          254,
          269,
          36,
          731,
          117,
          243,
          593,
          234,
          553,
          548,
          105,
          606,
          175,
          491,
          1101,
          232,
          176,
          210,
          280,
          372,
          698,
          241,
          687,
          342,
          262,
          540,
          331,
          295,
          529,
          266,
          304,
          284,
          234,
          231,
          1223,
          433,
          16,
          449,
          194,
          257,
          187,
          4,
          668,
          455,
          409,
          322,
          1094,
          145,
          566,
          398,
          363,
          99,
          274,
          312,
          108,
          289,
          11,
          433,
          335,
          596,
          571,
          317,
          506,
          209,
          273,
          1158,
          1121,
          97,
          307,
          484,
          447,
          615,
          126,
          72,
          545,
          254,
          631,
          303,
          279,
          174,
          1552,
          442,
          553,
          476,
          187,
          558,
          214,
          387,
          453,
          1289,
          544,
          343,
          161,
          445,
          850,
          243,
          152,
          1424,
          249,
          163,
          512,
          250,
          293,
          449,
          605,
          249,
          263
         ],
         "xaxis": "x",
         "yaxis": "y"
        }
       ],
       "layout": {
        "barmode": "relative",
        "height": 500,
        "legend": {
         "title": {
          "text": "variable"
         },
         "tracegroupgap": 0
        },
        "template": {
         "data": {
          "bar": [
           {
            "error_x": {
             "color": "#2a3f5f"
            },
            "error_y": {
             "color": "#2a3f5f"
            },
            "marker": {
             "line": {
              "color": "#E5ECF6",
              "width": 0.5
             },
             "pattern": {
              "fillmode": "overlay",
              "size": 10,
              "solidity": 0.2
             }
            },
            "type": "bar"
           }
          ],
          "barpolar": [
           {
            "marker": {
             "line": {
              "color": "#E5ECF6",
              "width": 0.5
             },
             "pattern": {
              "fillmode": "overlay",
              "size": 10,
              "solidity": 0.2
             }
            },
            "type": "barpolar"
           }
          ],
          "carpet": [
           {
            "aaxis": {
             "endlinecolor": "#2a3f5f",
             "gridcolor": "white",
             "linecolor": "white",
             "minorgridcolor": "white",
             "startlinecolor": "#2a3f5f"
            },
            "baxis": {
             "endlinecolor": "#2a3f5f",
             "gridcolor": "white",
             "linecolor": "white",
             "minorgridcolor": "white",
             "startlinecolor": "#2a3f5f"
            },
            "type": "carpet"
           }
          ],
          "choropleth": [
           {
            "colorbar": {
             "outlinewidth": 0,
             "ticks": ""
            },
            "type": "choropleth"
           }
          ],
          "contour": [
           {
            "colorbar": {
             "outlinewidth": 0,
             "ticks": ""
            },
            "colorscale": [
             [
              0,
              "#0d0887"
             ],
             [
              0.1111111111111111,
              "#46039f"
             ],
             [
              0.2222222222222222,
              "#7201a8"
             ],
             [
              0.3333333333333333,
              "#9c179e"
             ],
             [
              0.4444444444444444,
              "#bd3786"
             ],
             [
              0.5555555555555556,
              "#d8576b"
             ],
             [
              0.6666666666666666,
              "#ed7953"
             ],
             [
              0.7777777777777778,
              "#fb9f3a"
             ],
             [
              0.8888888888888888,
              "#fdca26"
             ],
             [
              1,
              "#f0f921"
             ]
            ],
            "type": "contour"
           }
          ],
          "contourcarpet": [
           {
            "colorbar": {
             "outlinewidth": 0,
             "ticks": ""
            },
            "type": "contourcarpet"
           }
          ],
          "heatmap": [
           {
            "colorbar": {
             "outlinewidth": 0,
             "ticks": ""
            },
            "colorscale": [
             [
              0,
              "#0d0887"
             ],
             [
              0.1111111111111111,
              "#46039f"
             ],
             [
              0.2222222222222222,
              "#7201a8"
             ],
             [
              0.3333333333333333,
              "#9c179e"
             ],
             [
              0.4444444444444444,
              "#bd3786"
             ],
             [
              0.5555555555555556,
              "#d8576b"
             ],
             [
              0.6666666666666666,
              "#ed7953"
             ],
             [
              0.7777777777777778,
              "#fb9f3a"
             ],
             [
              0.8888888888888888,
              "#fdca26"
             ],
             [
              1,
              "#f0f921"
             ]
            ],
            "type": "heatmap"
           }
          ],
          "heatmapgl": [
           {
            "colorbar": {
             "outlinewidth": 0,
             "ticks": ""
            },
            "colorscale": [
             [
              0,
              "#0d0887"
             ],
             [
              0.1111111111111111,
              "#46039f"
             ],
             [
              0.2222222222222222,
              "#7201a8"
             ],
             [
              0.3333333333333333,
              "#9c179e"
             ],
             [
              0.4444444444444444,
              "#bd3786"
             ],
             [
              0.5555555555555556,
              "#d8576b"
             ],
             [
              0.6666666666666666,
              "#ed7953"
             ],
             [
              0.7777777777777778,
              "#fb9f3a"
             ],
             [
              0.8888888888888888,
              "#fdca26"
             ],
             [
              1,
              "#f0f921"
             ]
            ],
            "type": "heatmapgl"
           }
          ],
          "histogram": [
           {
            "marker": {
             "pattern": {
              "fillmode": "overlay",
              "size": 10,
              "solidity": 0.2
             }
            },
            "type": "histogram"
           }
          ],
          "histogram2d": [
           {
            "colorbar": {
             "outlinewidth": 0,
             "ticks": ""
            },
            "colorscale": [
             [
              0,
              "#0d0887"
             ],
             [
              0.1111111111111111,
              "#46039f"
             ],
             [
              0.2222222222222222,
              "#7201a8"
             ],
             [
              0.3333333333333333,
              "#9c179e"
             ],
             [
              0.4444444444444444,
              "#bd3786"
             ],
             [
              0.5555555555555556,
              "#d8576b"
             ],
             [
              0.6666666666666666,
              "#ed7953"
             ],
             [
              0.7777777777777778,
              "#fb9f3a"
             ],
             [
              0.8888888888888888,
              "#fdca26"
             ],
             [
              1,
              "#f0f921"
             ]
            ],
            "type": "histogram2d"
           }
          ],
          "histogram2dcontour": [
           {
            "colorbar": {
             "outlinewidth": 0,
             "ticks": ""
            },
            "colorscale": [
             [
              0,
              "#0d0887"
             ],
             [
              0.1111111111111111,
              "#46039f"
             ],
             [
              0.2222222222222222,
              "#7201a8"
             ],
             [
              0.3333333333333333,
              "#9c179e"
             ],
             [
              0.4444444444444444,
              "#bd3786"
             ],
             [
              0.5555555555555556,
              "#d8576b"
             ],
             [
              0.6666666666666666,
              "#ed7953"
             ],
             [
              0.7777777777777778,
              "#fb9f3a"
             ],
             [
              0.8888888888888888,
              "#fdca26"
             ],
             [
              1,
              "#f0f921"
             ]
            ],
            "type": "histogram2dcontour"
           }
          ],
          "mesh3d": [
           {
            "colorbar": {
             "outlinewidth": 0,
             "ticks": ""
            },
            "type": "mesh3d"
           }
          ],
          "parcoords": [
           {
            "line": {
             "colorbar": {
              "outlinewidth": 0,
              "ticks": ""
             }
            },
            "type": "parcoords"
           }
          ],
          "pie": [
           {
            "automargin": true,
            "type": "pie"
           }
          ],
          "scatter": [
           {
            "marker": {
             "colorbar": {
              "outlinewidth": 0,
              "ticks": ""
             }
            },
            "type": "scatter"
           }
          ],
          "scatter3d": [
           {
            "line": {
             "colorbar": {
              "outlinewidth": 0,
              "ticks": ""
             }
            },
            "marker": {
             "colorbar": {
              "outlinewidth": 0,
              "ticks": ""
             }
            },
            "type": "scatter3d"
           }
          ],
          "scattercarpet": [
           {
            "marker": {
             "colorbar": {
              "outlinewidth": 0,
              "ticks": ""
             }
            },
            "type": "scattercarpet"
           }
          ],
          "scattergeo": [
           {
            "marker": {
             "colorbar": {
              "outlinewidth": 0,
              "ticks": ""
             }
            },
            "type": "scattergeo"
           }
          ],
          "scattergl": [
           {
            "marker": {
             "colorbar": {
              "outlinewidth": 0,
              "ticks": ""
             }
            },
            "type": "scattergl"
           }
          ],
          "scattermapbox": [
           {
            "marker": {
             "colorbar": {
              "outlinewidth": 0,
              "ticks": ""
             }
            },
            "type": "scattermapbox"
           }
          ],
          "scatterpolar": [
           {
            "marker": {
             "colorbar": {
              "outlinewidth": 0,
              "ticks": ""
             }
            },
            "type": "scatterpolar"
           }
          ],
          "scatterpolargl": [
           {
            "marker": {
             "colorbar": {
              "outlinewidth": 0,
              "ticks": ""
             }
            },
            "type": "scatterpolargl"
           }
          ],
          "scatterternary": [
           {
            "marker": {
             "colorbar": {
              "outlinewidth": 0,
              "ticks": ""
             }
            },
            "type": "scatterternary"
           }
          ],
          "surface": [
           {
            "colorbar": {
             "outlinewidth": 0,
             "ticks": ""
            },
            "colorscale": [
             [
              0,
              "#0d0887"
             ],
             [
              0.1111111111111111,
              "#46039f"
             ],
             [
              0.2222222222222222,
              "#7201a8"
             ],
             [
              0.3333333333333333,
              "#9c179e"
             ],
             [
              0.4444444444444444,
              "#bd3786"
             ],
             [
              0.5555555555555556,
              "#d8576b"
             ],
             [
              0.6666666666666666,
              "#ed7953"
             ],
             [
              0.7777777777777778,
              "#fb9f3a"
             ],
             [
              0.8888888888888888,
              "#fdca26"
             ],
             [
              1,
              "#f0f921"
             ]
            ],
            "type": "surface"
           }
          ],
          "table": [
           {
            "cells": {
             "fill": {
              "color": "#EBF0F8"
             },
             "line": {
              "color": "white"
             }
            },
            "header": {
             "fill": {
              "color": "#C8D4E3"
             },
             "line": {
              "color": "white"
             }
            },
            "type": "table"
           }
          ]
         },
         "layout": {
          "annotationdefaults": {
           "arrowcolor": "#2a3f5f",
           "arrowhead": 0,
           "arrowwidth": 1
          },
          "autotypenumbers": "strict",
          "coloraxis": {
           "colorbar": {
            "outlinewidth": 0,
            "ticks": ""
           }
          },
          "colorscale": {
           "diverging": [
            [
             0,
             "#8e0152"
            ],
            [
             0.1,
             "#c51b7d"
            ],
            [
             0.2,
             "#de77ae"
            ],
            [
             0.3,
             "#f1b6da"
            ],
            [
             0.4,
             "#fde0ef"
            ],
            [
             0.5,
             "#f7f7f7"
            ],
            [
             0.6,
             "#e6f5d0"
            ],
            [
             0.7,
             "#b8e186"
            ],
            [
             0.8,
             "#7fbc41"
            ],
            [
             0.9,
             "#4d9221"
            ],
            [
             1,
             "#276419"
            ]
           ],
           "sequential": [
            [
             0,
             "#0d0887"
            ],
            [
             0.1111111111111111,
             "#46039f"
            ],
            [
             0.2222222222222222,
             "#7201a8"
            ],
            [
             0.3333333333333333,
             "#9c179e"
            ],
            [
             0.4444444444444444,
             "#bd3786"
            ],
            [
             0.5555555555555556,
             "#d8576b"
            ],
            [
             0.6666666666666666,
             "#ed7953"
            ],
            [
             0.7777777777777778,
             "#fb9f3a"
            ],
            [
             0.8888888888888888,
             "#fdca26"
            ],
            [
             1,
             "#f0f921"
            ]
           ],
           "sequentialminus": [
            [
             0,
             "#0d0887"
            ],
            [
             0.1111111111111111,
             "#46039f"
            ],
            [
             0.2222222222222222,
             "#7201a8"
            ],
            [
             0.3333333333333333,
             "#9c179e"
            ],
            [
             0.4444444444444444,
             "#bd3786"
            ],
            [
             0.5555555555555556,
             "#d8576b"
            ],
            [
             0.6666666666666666,
             "#ed7953"
            ],
            [
             0.7777777777777778,
             "#fb9f3a"
            ],
            [
             0.8888888888888888,
             "#fdca26"
            ],
            [
             1,
             "#f0f921"
            ]
           ]
          },
          "colorway": [
           "#636efa",
           "#EF553B",
           "#00cc96",
           "#ab63fa",
           "#FFA15A",
           "#19d3f3",
           "#FF6692",
           "#B6E880",
           "#FF97FF",
           "#FECB52"
          ],
          "font": {
           "color": "#2a3f5f"
          },
          "geo": {
           "bgcolor": "white",
           "lakecolor": "white",
           "landcolor": "#E5ECF6",
           "showlakes": true,
           "showland": true,
           "subunitcolor": "white"
          },
          "hoverlabel": {
           "align": "left"
          },
          "hovermode": "closest",
          "mapbox": {
           "style": "light"
          },
          "paper_bgcolor": "white",
          "plot_bgcolor": "#E5ECF6",
          "polar": {
           "angularaxis": {
            "gridcolor": "white",
            "linecolor": "white",
            "ticks": ""
           },
           "bgcolor": "#E5ECF6",
           "radialaxis": {
            "gridcolor": "white",
            "linecolor": "white",
            "ticks": ""
           }
          },
          "scene": {
           "xaxis": {
            "backgroundcolor": "#E5ECF6",
            "gridcolor": "white",
            "gridwidth": 2,
            "linecolor": "white",
            "showbackground": true,
            "ticks": "",
            "zerolinecolor": "white"
           },
           "yaxis": {
            "backgroundcolor": "#E5ECF6",
            "gridcolor": "white",
            "gridwidth": 2,
            "linecolor": "white",
            "showbackground": true,
            "ticks": "",
            "zerolinecolor": "white"
           },
           "zaxis": {
            "backgroundcolor": "#E5ECF6",
            "gridcolor": "white",
            "gridwidth": 2,
            "linecolor": "white",
            "showbackground": true,
            "ticks": "",
            "zerolinecolor": "white"
           }
          },
          "shapedefaults": {
           "line": {
            "color": "#2a3f5f"
           }
          },
          "ternary": {
           "aaxis": {
            "gridcolor": "white",
            "linecolor": "white",
            "ticks": ""
           },
           "baxis": {
            "gridcolor": "white",
            "linecolor": "white",
            "ticks": ""
           },
           "bgcolor": "#E5ECF6",
           "caxis": {
            "gridcolor": "white",
            "linecolor": "white",
            "ticks": ""
           }
          },
          "title": {
           "x": 0.05
          },
          "xaxis": {
           "automargin": true,
           "gridcolor": "white",
           "linecolor": "white",
           "ticks": "",
           "title": {
            "standoff": 15
           },
           "zerolinecolor": "white",
           "zerolinewidth": 2
          },
          "yaxis": {
           "automargin": true,
           "gridcolor": "white",
           "linecolor": "white",
           "ticks": "",
           "title": {
            "standoff": 15
           },
           "zerolinecolor": "white",
           "zerolinewidth": 2
          }
         }
        },
        "title": {
         "text": "Word counts in Perguntas "
        },
        "width": 900,
        "xaxis": {
         "anchor": "y",
         "domain": [
          0,
          1
         ],
         "title": {
          "text": "value"
         }
        },
        "yaxis": {
         "anchor": "x",
         "domain": [
          0,
          1
         ],
         "title": {
          "text": "count"
         }
        }
       }
      },
      "text/html": [
       "<div>                            <div id=\"2577e09b-afaa-4352-b2ff-38cc6d58bfdd\" class=\"plotly-graph-div\" style=\"height:500px; width:900px;\"></div>            <script type=\"text/javascript\">                require([\"plotly\"], function(Plotly) {                    window.PLOTLYENV=window.PLOTLYENV || {};                                    if (document.getElementById(\"2577e09b-afaa-4352-b2ff-38cc6d58bfdd\")) {                    Plotly.newPlot(                        \"2577e09b-afaa-4352-b2ff-38cc6d58bfdd\",                        [{\"alignmentgroup\":\"True\",\"bingroup\":\"x\",\"hovertemplate\":\"variable=Perguntas<br>value=%{x}<br>count=%{y}<extra></extra>\",\"legendgroup\":\"Perguntas\",\"marker\":{\"color\":\"#1696d2\",\"pattern\":{\"shape\":\"\"}},\"name\":\"Perguntas\",\"nbinsx\":1000,\"offsetgroup\":\"Perguntas\",\"orientation\":\"v\",\"showlegend\":true,\"x\":[293,305,170,1101,326,369,778,465,430,317,235,260,222,941,467,533,189,645,494,457,474,403,430,853,620,235,358,831,394,304,444,326,386,774,559,497,235,939,677,307,547,378,124,279,1022,190,842,265,1151,145,133,224,479,246,161,103,136,303,207,277,197,241,258,1083,292,736,609,402,453,274,403,1747,417,176,279,405,309,242,406,587,444,248,623,425,386,2346,146,624,460,315,600,701,371,532,168,408,211,362,218,587,586,312,568,352,264,485,246,377,337,113,383,122,532,489,756,241,871,336,214,643,210,846,180,255,791,925,250,840,137,582,94,308,562,305,229,615,176,387,532,256,431,211,193,469,206,377,331,853,306,376,237,206,332,173,1747,210,452,580,338,313,495,380,639,134,140,316,211,253,273,746,250,344,328,376,977,68,238,347,1125,220,301,145,644,609,192,173,1166,327,292,62,238,875,1162,631,664,473,499,529,501,525,248,203,592,318,301,442,165,146,261,325,260,561,192,296,268,541,231,577,1877,232,263,336,409,190,754,451,237,224,399,222,232,80,379,588,55,483,985,282,32,422,682,262,120,581,58,285,432,197,309,339,839,280,144,586,183,174,445,302,453,595,152,469,500,646,445,324,285,533,412,215,293,249,314,2209,290,379,693,166,368,414,151,178,458,102,185,253,409,344,751,428,609,296,453,116,278,296,384,342,441,340,122,282,248,185,651,293,547,1347,266,1639,593,175,737,444,329,119,153,209,358,588,227,182,740,414,344,570,380,213,385,455,785,450,299,334,933,722,606,153,328,360,384,1440,111,397,406,310,634,583,413,584,113,1342,290,585,728,332,660,196,657,115,337,155,715,382,2590,350,218,376,362,289,158,786,301,253,177,260,203,663,370,452,300,603,359,513,329,210,718,313,585,839,257,574,674,147,2108,395,275,101,207,813,382,328,336,435,746,453,90,472,138,910,210,657,302,4,534,237,675,304,438,264,225,402,213,930,577,390,438,421,298,491,230,118,442,645,709,104,184,336,239,218,465,109,47,1834,411,420,92,1371,352,557,396,151,192,4,582,994,210,443,140,312,709,201,771,112,423,244,448,288,396,338,131,460,321,171,133,313,994,260,419,329,361,650,112,258,81,196,605,224,437,276,137,1309,736,536,448,374,708,235,402,371,410,1187,1074,216,430,269,149,848,339,527,271,149,696,622,204,232,669,1052,864,435,310,1531,282,1758,397,947,215,392,1117,108,547,354,341,259,584,570,394,174,359,480,195,455,467,340,156,222,540,318,477,884,882,385,332,346,230,704,524,224,300,274,186,535,130,523,397,345,639,362,262,54,431,342,140,419,244,797,742,246,257,382,428,316,280,262,480,759,121,272,639,440,274,538,170,338,368,356,513,335,571,339,195,93,673,466,170,318,200,299,377,270,934,194,273,500,497,335,312,308,177,174,149,593,506,317,558,346,315,193,481,362,418,315,941,499,671,233,1949,1130,572,418,270,312,805,299,852,335,523,196,53,281,375,1892,266,261,529,428,983,296,796,950,241,176,154,1072,947,874,739,506,356,569,207,660,602,208,219,498,244,439,309,313,694,1848,456,212,405,365,744,510,579,276,359,503,261,404,267,426,543,354,300,578,455,459,112,457,496,752,182,258,402,365,1405,402,1468,328,416,470,652,665,198,518,378,832,400,311,264,431,468,278,279,514,402,304,796,116,228,650,79,401,135,380,868,582,598,385,206,1113,399,842,352,387,320,247,372,305,208,913,322,5854,396,902,594,4,761,284,303,415,685,284,297,297,736,741,144,788,616,206,416,245,855,221,219,207,916,979,202,416,366,505,331,221,1400,123,373,284,164,216,867,399,673,157,266,982,160,384,482,281,258,224,607,303,95,283,356,355,486,144,565,367,499,970,296,703,299,267,131,497,360,186,307,297,382,227,2422,224,320,288,1005,650,253,1586,119,476,354,550,636,331,343,1182,461,324,219,121,450,657,521,248,114,231,347,227,506,189,328,201,170,409,359,224,447,268,177,304,255,261,418,376,453,448,716,233,877,554,450,224,155,1559,356,247,1240,359,1103,517,379,280,510,372,589,1008,278,187,107,424,269,1006,454,234,690,305,314,369,367,247,390,1021,500,355,635,682,397,253,517,484,240,806,257,630,361,528,118,376,515,139,219,415,287,306,216,2180,616,513,146,234,385,803,607,418,507,201,535,252,426,903,310,152,616,258,196,487,215,619,344,289,180,330,211,2062,280,288,216,243,337,790,279,424,564,243,285,185,710,174,512,882,232,1046,255,557,371,549,387,269,389,1011,295,649,436,385,152,199,368,437,375,332,266,210,239,233,182,536,341,423,325,329,505,154,344,328,637,136,632,297,504,349,317,204,377,978,668,215,222,349,217,295,789,862,212,229,316,493,262,562,484,402,386,433,457,94,336,625,154,417,503,175,379,483,397,267,171,645,454,373,288,314,581,252,365,127,280,454,627,242,248,281,314,156,256,234,267,658,143,130,539,11,370,67,147,548,508,207,384,399,401,1155,329,271,356,528,168,620,231,605,540,187,218,366,599,272,627,238,290,478,430,420,765,765,432,523,300,252,927,929,457,155,157,276,440,208,380,206,1229,150,645,399,404,505,897,413,294,257,842,732,361,393,254,589,351,162,352,103,398,359,457,363,499,621,204,442,4,456,303,348,406,157,896,657,643,351,151,244,469,346,661,898,468,371,412,288,327,346,218,151,175,805,898,390,1149,276,282,457,449,76,420,165,397,313,308,423,217,270,249,263,112,561,211,896,207,297,1412,295,321,758,448,282,124,416,586,215,902,192,963,216,106,348,378,261,242,478,216,453,247,789,874,372,444,506,517,305,468,355,411,451,691,352,219,319,214,291,399,270,257,723,744,262,328,137,225,272,849,596,235,232,389,287,1050,545,521,577,147,469,542,561,496,353,236,429,470,246,336,306,864,531,287,408,738,327,338,344,250,354,566,411,192,716,624,195,283,474,242,235,295,675,411,650,209,471,903,440,481,347,414,279,325,413,400,397,1135,311,268,200,288,616,180,716,281,433,447,404,297,380,253,828,329,145,303,373,381,223,797,588,260,126,248,231,413,487,307,626,531,246,340,244,69,275,418,81,328,298,241,523,945,434,337,308,240,386,163,121,322,168,161,507,126,189,102,351,294,1057,294,679,447,327,199,198,316,260,764,137,225,138,554,204,722,1106,432,238,327,628,579,287,146,353,264,624,681,552,627,236,259,125,210,433,71,516,1206,441,268,251,388,644,466,325,477,366,277,556,847,390,360,927,264,705,398,341,858,490,538,160,325,462,240,435,232,228,253,136,575,203,495,169,295,245,649,697,243,109,617,161,233,930,711,1054,180,996,503,274,239,452,179,185,79,307,142,320,358,434,173,350,598,201,586,1183,328,758,146,185,443,620,659,253,716,597,567,1132,267,240,119,144,141,319,402,354,1312,310,265,526,443,52,212,252,418,429,432,648,365,238,476,597,171,288,523,366,440,316,601,904,495,144,262,202,401,331,304,772,298,560,1076,4,377,564,482,657,877,595,603,774,295,223,269,383,454,345,405,444,539,672,692,495,420,350,498,278,197,271,127,936,653,264,104,404,726,483,683,75,488,467,459,499,312,354,401,120,741,298,256,559,63,594,561,454,279,785,697,100,148,585,310,158,373,363,198,230,218,214,200,786,334,678,295,314,157,157,188,351,305,240,605,171,396,192,377,496,794,274,445,336,470,1301,146,97,1438,1176,444,301,412,534,271,539,504,461,598,397,166,494,366,803,179,459,179,308,326,459,293,431,165,178,330,333,156,799,1616,260,304,412,432,143,357,391,487,131,490,136,382,183,401,196,299,271,733,284,230,309,190,343,353,183,718,785,445,1147,347,778,176,283,324,328,248,394,258,242,382,648,254,350,167,309,198,273,78,485,255,534,506,335,57,165,238,234,441,630,642,126,203,401,691,661,1885,371,361,192,234,562,957,902,431,181,670,233,383,153,302,634,190,464,242,1001,215,441,492,90,331,203,492,239,115,260,498,215,494,392,1557,475,183,418,180,439,220,276,618,568,1193,1015,450,203,432,409,1295,1059,285,368,136,903,291,487,4,818,454,626,672,523,406,385,242,83,955,107,256,315,106,303,583,356,112,526,520,537,508,465,900,213,260,439,337,374,227,611,589,338,181,548,840,287,573,466,814,833,1330,280,178,533,1067,133,607,747,441,196,203,378,312,124,170,422,260,754,449,239,513,584,156,598,343,159,326,383,572,190,206,166,385,713,340,566,576,783,1314,261,301,173,303,607,341,400,406,120,475,225,417,507,569,268,288,227,566,345,529,947,472,542,542,315,240,603,514,558,322,233,348,276,1929,3760,295,247,443,575,149,310,743,439,394,111,336,473,309,245,335,170,311,938,484,716,422,313,282,405,617,1682,118,291,313,446,1553,193,188,463,2205,269,605,253,636,184,501,263,407,287,1331,212,640,546,656,716,399,231,368,356,550,815,259,210,679,391,430,294,137,241,389,807,1389,283,667,446,346,595,447,496,503,836,176,969,228,395,286,488,342,136,890,335,779,304,454,549,782,747,622,376,228,576,756,808,468,175,732,477,371,462,1364,230,196,561,326,275,307,692,321,388,581,272,540,291,595,455,470,463,107,504,324,352,122,408,295,635,719,300,348,201,332,408,719,184,634,90,354,345,362,538,465,246,292,277,511,819,190,746,257,400,355,1035,300,307,524,337,421,105,439,216,327,190,217,292,240,181,530,540,140,492,124,153,491,465,302,266,489,209,418,177,217,81,211,86,568,461,379,269,553,379,399,222,339,236,581,302,214,193,255,249,608,249,515,117,239,432,586,1091,269,432,196,280,827,735,595,560,387,399,540,761,208,138,261,258,714,655,370,181,115,181,184,98,517,270,235,286,248,177,183,200,328,412,845,282,464,277,288,424,538,376,202,244,211,336,174,1043,376,678,111,278,96,306,337,227,529,716,302,264,149,366,416,515,751,571,289,425,316,315,364,329,770,215,381,311,226,686,208,236,431,231,200,552,205,301,315,120,321,282,1442,535,617,269,859,135,717,456,142,118,313,687,296,146,100,236,246,282,455,509,398,196,178,421,331,246,438,225,365,523,300,304,896,209,873,184,363,62,1057,124,283,833,289,163,286,212,1081,211,509,472,1455,511,295,201,401,480,599,352,277,486,472,1297,282,404,355,437,501,554,235,127,362,127,149,601,465,281,222,1202,254,252,240,471,431,108,1362,474,382,218,434,246,399,629,199,444,241,252,709,229,398,465,734,105,202,419,224,107,364,1238,95,332,254,395,635,502,303,115,327,205,179,193,778,825,724,314,118,390,151,564,189,288,560,240,240,195,135,316,627,121,207,214,172,492,607,265,659,368,337,681,1246,370,524,259,490,207,510,157,142,832,646,461,578,157,297,55,1438,474,125,238,443,238,580,419,1406,370,272,481,217,136,934,892,392,1633,666,181,691,447,30,110,484,470,488,140,161,611,855,321,366,381,241,343,283,198,287,328,205,155,229,439,586,479,117,451,544,220,357,363,197,330,310,615,137,434,314,125,303,566,255,270,325,407,324,256,687,422,280,349,553,240,18,646,711,393,127,149,1108,442,288,377,387,405,456,229,255,650,189,263,326,271,532,462,4,179,621,373,413,751,543,430,643,607,151,201,473,174,174,286,220,123,123,931,360,452,794,626,214,148,272,899,554,1257,258,288,138,397,235,345,521,244,525,458,167,198,299,347,168,206,440,359,401,370,214,106,577,186,248,333,191,802,393,620,197,818,280,314,180,118,51,410,234,369,440,539,464,570,174,895,276,1022,958,279,197,871,489,208,496,396,272,172,45,298,302,333,400,269,392,344,268,669,251,374,303,1166,429,328,212,374,269,722,176,326,503,1189,779,252,462,183,603,964,510,662,271,139,446,527,591,207,313,178,109,312,530,304,260,538,486,799,404,445,284,695,380,535,462,521,326,456,156,293,403,409,766,413,107,1516,2091,444,105,184,420,399,304,546,284,397,151,51,219,548,528,393,727,1001,290,413,533,366,888,333,627,71,470,252,409,331,258,888,809,142,347,657,312,1083,974,502,293,776,281,140,913,830,107,465,135,344,205,417,70,549,263,439,778,209,471,379,454,606,976,516,113,338,237,1431,329,663,715,99,263,371,504,298,653,217,1123,517,395,448,511,269,606,146,222,333,306,370,1204,63,237,255,418,207,387,326,394,1503,228,341,468,413,394,283,586,548,344,838,122,643,876,276,704,2076,281,1350,76,405,314,181,629,739,390,552,343,1429,478,627,1525,388,167,272,986,543,737,380,453,171,444,313,481,461,442,1109,146,362,327,347,291,412,388,619,408,160,354,116,141,520,271,825,838,562,159,292,745,261,241,338,465,456,327,284,179,114,547,531,144,206,401,577,396,279,306,498,595,357,747,485,650,737,410,273,761,201,367,544,712,354,196,474,192,139,202,535,226,557,391,335,218,324,597,376,355,340,836,326,1220,253,4,404,350,224,444,173,239,823,727,400,320,397,451,630,316,83,1205,511,568,339,610,268,164,384,413,255,884,359,482,599,132,287,367,230,900,375,683,568,290,385,290,282,283,296,275,343,359,561,275,536,264,583,1698,652,167,495,281,166,920,336,833,847,620,904,602,332,372,216,661,257,425,458,534,450,459,187,455,2947,246,331,483,416,1352,578,682,166,421,1649,565,319,208,297,340,929,395,97,1396,808,492,550,192,706,389,483,206,205,172,205,216,352,702,246,331,577,484,250,326,536,426,341,743,802,445,178,782,1330,155,530,167,168,432,305,559,553,584,1227,91,227,221,867,729,370,81,190,406,411,481,199,328,127,420,1139,56,592,400,541,173,531,1158,158,440,361,234,258,598,618,137,342,209,4718,110,508,542,605,494,539,158,945,569,169,682,238,507,207,373,708,160,282,508,290,271,372,274,280,467,462,4,399,387,267,509,357,238,416,346,223,757,765,172,318,317,186,275,248,741,368,401,169,706,767,603,377,853,165,2905,537,341,393,127,224,511,163,381,164,177,311,467,455,409,435,1077,378,256,301,379,207,354,324,255,245,298,949,513,761,191,809,364,228,568,276,455,168,506,724,656,817,185,438,642,714,1274,398,124,221,613,451,296,11,239,422,651,406,162,161,721,488,431,186,405,140,213,77,962,370,664,542,426,1712,190,373,57,318,284,511,479,365,257,193,951,190,324,385,414,472,394,301,222,566,165,346,359,257,1040,162,242,211,378,251,380,249,165,1077,494,73,247,637,453,728,635,777,510,196,168,270,288,653,203,449,189,552,419,587,258,566,460,554,164,508,321,1579,615,427,322,358,675,675,390,197,11,403,334,556,227,522,752,647,242,729,646,174,170,182,236,853,258,299,434,441,172,642,94,293,989,608,213,429,169,186,287,185,329,292,154,234,1001,160,368,375,722,1310,457,634,523,607,408,1181,597,553,266,1016,219,914,183,530,346,324,256,51,468,237,364,157,296,1353,427,435,295,330,301,651,384,345,358,223,359,239,232,757,539,242,479,261,269,380,486,161,448,273,157,452,195,426,165,588,209,50,541,331,451,437,386,180,964,245,460,1465,197,584,352,314,920,439,532,247,277,547,382,498,500,555,458,277,2299,409,570,1144,371,401,307,1033,170,171,448,520,1152,246,407,630,582,261,416,166,214,600,1557,361,290,408,399,270,230,308,731,521,208,456,345,745,173,251,344,360,819,107,196,741,180,465,272,374,415,161,642,1302,351,132,246,168,711,329,61,480,429,2138,920,765,147,92,201,530,375,442,396,212,307,650,393,705,325,413,250,346,335,830,226,260,348,255,463,1326,404,263,259,116,421,718,255,191,294,176,187,623,81,451,762,297,219,1774,503,457,934,436,641,375,102,230,574,211,196,572,201,148,33,368,99,650,434,310,757,476,444,483,362,316,170,255,626,712,411,428,253,1621,606,274,632,228,523,352,259,260,1214,132,452,585,270,489,289,302,473,461,501,4,445,173,375,406,364,202,638,644,92,177,651,354,282,323,974,288,322,276,425,492,303,644,684,408,118,182,362,412,318,631,244,593,304,3261,239,216,306,245,223,354,647,208,345,570,279,639,573,2175,317,947,320,173,194,1271,116,383,581,878,858,255,95,845,661,483,312,925,443,296,372,1153,508,575,277,319,586,454,279,324,357,445,370,357,210,610,804,171,138,482,566,269,1285,227,465,294,251,375,931,470,858,768,189,496,521,212,382,126,424,450,320,767,1031,174,324,140,99,336,530,294,279,574,286,112,692,215,579,310,450,740,1158,198,498,480,425,162,442,165,276,565,478,1234,624,1364,496,272,221,300,233,262,87,413,204,2349,466,844,514,835,326,1073,352,1293,213,1835,178,421,107,159,207,567,149,488,150,435,1161,247,392,497,191,597,616,285,798,313,203,288,223,330,585,523,224,305,221,166,558,670,448,392,259,235,422,334,460,424,329,621,163,467,328,560,137,388,312,647,308,389,544,763,437,202,724,228,460,179,276,546,439,574,534,146,212,293,270,581,419,259,743,346,394,183,284,111,180,155,333,258,299,124,255,105,161,127,365,421,103,597,154,353,81,309,1272,543,291,11,422,356,297,560,422,199,388,565,891,989,268,634,360,833,464,132,127,255,328,900,847,221,546,208,111,238,371,490,279,116,618,518,210,244,194,289,302,563,425,582,278,336,535,193,479,461,312,421,332,131,529,279,848,579,162,327,160,341,245,318,201,212,536,182,437,323,183,665,367,421,80,398,640,1157,130,926,191,121,328,194,672,236,359,132,389,380,1149,403,386,148,450,361,399,431,606,376,349,103,236,411,1118,256,301,405,220,215,91,197,991,222,446,366,502,210,825,662,61,951,355,721,818,180,662,290,643,418,402,1185,393,299,245,804,889,266,181,334,373,280,173,393,170,351,235,517,406,527,354,977,1076,113,743,223,481,57,595,455,902,281,186,216,282,446,595,515,169,458,616,390,351,350,339,621,388,276,958,486,127,203,877,415,412,282,956,224,580,330,495,360,145,652,405,88,698,288,169,644,400,582,739,11,969,327,510,344,563,335,180,394,342,240,295,225,643,127,373,201,544,514,290,228,143,317,492,786,313,340,502,239,258,395,199,499,213,741,176,838,511,227,259,178,550,489,691,458,560,351,350,258,603,626,385,180,868,159,128,365,306,380,753,332,771,464,259,433,169,764,436,552,730,202,333,151,206,348,547,295,1284,755,156,142,72,449,702,545,251,239,256,231,677,627,103,415,277,258,312,257,187,342,546,559,1042,924,424,544,1256,606,371,268,437,676,123,880,256,799,237,1022,510,557,1133,202,174,73,485,570,2510,213,1505,353,140,527,547,252,131,324,305,584,440,153,560,385,502,238,562,360,378,406,358,254,659,199,487,1079,677,235,1115,2336,734,210,621,176,232,1127,302,566,127,482,887,729,115,339,530,722,769,1501,241,1482,526,308,189,268,206,251,910,289,129,1020,162,353,340,832,1127,606,243,438,1044,247,609,229,4,462,4,344,342,281,534,360,1971,322,298,266,967,381,640,376,319,366,400,430,450,575,418,213,1089,271,324,283,97,354,296,628,241,253,273,242,161,171,343,261,575,211,768,257,499,236,2082,618,427,1498,838,288,206,534,299,414,1092,230,462,291,585,149,747,180,522,233,782,326,265,599,286,172,603,747,220,413,304,137,329,96,260,118,136,237,496,511,484,246,561,263,636,915,267,195,312,513,832,313,673,550,294,317,254,292,711,766,361,423,491,920,491,615,88,500,208,144,325,86,358,72,485,190,1061,604,419,174,202,361,906,512,134,213,299,185,269,446,175,315,291,247,230,152,396,325,700,253,457,787,544,381,943,172,78,204,669,496,412,367,433,265,83,678,188,249,306,260,238,204,532,716,558,146,238,260,228,501,296,1504,727,131,816,716,395,229,571,414,383,282,500,459,204,837,605,534,305,298,244,948,1892,422,278,103,476,508,460,224,352,727,441,234,373,4,501,263,1168,352,89,502,79,117,105,221,734,136,264,993,473,366,839,387,74,263,396,175,205,267,169,747,311,184,523,1210,106,189,358,239,443,315,890,787,174,731,4,361,1100,392,4,397,105,354,241,333,275,85,319,955,732,588,319,707,554,154,738,442,289,316,513,123,886,331,466,423,347,205,218,165,782,182,334,254,311,229,478,134,261,243,473,361,270,187,511,317,351,721,500,349,408,251,1402,405,123,443,331,628,587,553,149,201,183,658,1301,416,312,420,638,202,158,288,639,187,729,350,177,265,162,292,1097,659,388,329,306,345,249,702,187,420,1425,752,229,295,437,274,490,463,745,716,319,226,379,388,208,221,550,329,463,516,981,389,589,324,402,899,162,143,438,622,321,226,308,821,533,28,438,220,1797,281,949,345,162,236,654,398,120,743,205,267,389,214,267,314,477,277,180,472,456,581,583,167,271,362,139,665,510,328,200,422,1133,225,300,572,293,302,602,164,337,576,434,821,245,313,818,289,569,218,285,940,558,572,217,231,453,666,53,267,1354,181,716,304,505,388,273,1960,397,203,92,320,615,669,229,343,385,428,383,483,242,266,623,286,413,401,352,741,69,145,70,535,248,407,787,655,180,182,479,383,647,324,311,356,623,243,477,618,423,583,428,169,287,309,338,190,270,640,426,296,209,448,971,1092,126,602,703,660,706,541,322,566,858,82,68,124,1011,324,126,280,412,312,172,500,383,212,379,259,91,318,107,347,462,326,384,540,73,211,251,328,359,218,363,207,119,206,254,126,26,231,202,268,371,611,1294,664,649,405,1956,264,577,658,280,233,531,407,338,202,303,509,381,566,79,164,861,30,497,1205,484,181,378,422,209,540,190,540,842,348,290,246,506,194,482,381,347,239,148,406,264,415,298,685,310,188,206,672,308,472,271,200,359,238,427,775,222,363,309,270,304,504,193,324,575,655,242,386,259,80,957,633,139,359,555,335,216,483,168,193,324,445,407,454,375,499,98,207,792,400,354,570,570,543,222,665,108,369,352,125,244,384,273,851,791,410,432,474,131,459,809,298,148,74,316,372,432,359,265,189,291,414,300,175,547,297,1606,545,270,516,270,349,429,444,91,361,224,205,155,371,817,477,318,457,381,221,301,254,214,1396,321,178,575,489,481,751,385,343,291,406,593,197,641,764,491,1218,389,426,1171,588,184,167,139,699,710,874,676,354,653,359,396,245,279,971,212,405,456,248,209,514,272,593,302,682,648,4,315,301,2583,466,426,282,212,351,405,525,767,453,737,917,565,209,424,289,335,516,110,168,105,106,330,379,213,334,93,245,275,651,420,630,319,151,159,396,642,696,132,291,423,156,281,663,353,705,418,389,92,152,180,537,186,199,364,191,646,113,409,277,420,589,452,273,630,1267,522,1148,374,706,446,527,475,495,1034,157,78,368,476,232,480,197,606,543,665,287,543,83,279,315,1413,427,231,727,240,267,718,1295,174,295,523,105,751,305,339,325,463,429,316,141,222,218,127,295,459,874,243,222,347,791,150,386,444,131,338,253,872,1071,327,451,268,81,295,517,238,534,211,612,278,258,733,508,477,279,738,813,349,172,832,186,456,561,779,775,936,318,294,225,412,458,468,401,386,245,617,4,521,186,164,332,107,408,491,604,11,231,2329,1076,117,428,517,860,625,662,359,314,218,171,497,329,833,700,208,928,283,448,278,620,263,102,411,451,394,149,761,206,464,1804,809,182,150,194,362,124,130,589,486,621,4,503,1381,425,423,97,268,290,542,786,534,437,630,370,445,1065,411,505,213,386,600,32,299,251,636,343,331,179,273,581,223,473,324,405,153,617,183,319,277,930,281,391,422,532,405,398,340,757,430,393,332,299,261,347,606,475,287,1154,445,203,170,1128,377,207,269,574,481,450,432,329,144,152,448,302,826,114,171,267,89,348,264,628,223,238,99,622,444,426,266,529,493,249,352,593,284,149,151,261,288,294,280,568,333,152,343,671,274,259,408,808,285,366,441,430,538,309,575,263,200,141,385,371,813,248,254,344,638,425,408,317,159,201,428,367,642,136,302,373,548,363,390,414,332,651,304,371,458,804,272,395,426,330,406,266,208,67,175,667,173,515,956,170,354,275,446,1306,420,78,309,551,162,390,498,505,212,179,433,254,269,36,731,117,243,593,234,553,548,105,606,175,491,1101,232,176,210,280,372,698,241,687,342,262,540,331,295,529,266,304,284,234,231,1223,433,16,449,194,257,187,4,668,455,409,322,1094,145,566,398,363,99,274,312,108,289,11,433,335,596,571,317,506,209,273,1158,1121,97,307,484,447,615,126,72,545,254,631,303,279,174,1552,442,553,476,187,558,214,387,453,1289,544,343,161,445,850,243,152,1424,249,163,512,250,293,449,605,249,263],\"xaxis\":\"x\",\"yaxis\":\"y\",\"type\":\"histogram\"}],                        {\"template\":{\"data\":{\"bar\":[{\"error_x\":{\"color\":\"#2a3f5f\"},\"error_y\":{\"color\":\"#2a3f5f\"},\"marker\":{\"line\":{\"color\":\"#E5ECF6\",\"width\":0.5},\"pattern\":{\"fillmode\":\"overlay\",\"size\":10,\"solidity\":0.2}},\"type\":\"bar\"}],\"barpolar\":[{\"marker\":{\"line\":{\"color\":\"#E5ECF6\",\"width\":0.5},\"pattern\":{\"fillmode\":\"overlay\",\"size\":10,\"solidity\":0.2}},\"type\":\"barpolar\"}],\"carpet\":[{\"aaxis\":{\"endlinecolor\":\"#2a3f5f\",\"gridcolor\":\"white\",\"linecolor\":\"white\",\"minorgridcolor\":\"white\",\"startlinecolor\":\"#2a3f5f\"},\"baxis\":{\"endlinecolor\":\"#2a3f5f\",\"gridcolor\":\"white\",\"linecolor\":\"white\",\"minorgridcolor\":\"white\",\"startlinecolor\":\"#2a3f5f\"},\"type\":\"carpet\"}],\"choropleth\":[{\"colorbar\":{\"outlinewidth\":0,\"ticks\":\"\"},\"type\":\"choropleth\"}],\"contour\":[{\"colorbar\":{\"outlinewidth\":0,\"ticks\":\"\"},\"colorscale\":[[0.0,\"#0d0887\"],[0.1111111111111111,\"#46039f\"],[0.2222222222222222,\"#7201a8\"],[0.3333333333333333,\"#9c179e\"],[0.4444444444444444,\"#bd3786\"],[0.5555555555555556,\"#d8576b\"],[0.6666666666666666,\"#ed7953\"],[0.7777777777777778,\"#fb9f3a\"],[0.8888888888888888,\"#fdca26\"],[1.0,\"#f0f921\"]],\"type\":\"contour\"}],\"contourcarpet\":[{\"colorbar\":{\"outlinewidth\":0,\"ticks\":\"\"},\"type\":\"contourcarpet\"}],\"heatmap\":[{\"colorbar\":{\"outlinewidth\":0,\"ticks\":\"\"},\"colorscale\":[[0.0,\"#0d0887\"],[0.1111111111111111,\"#46039f\"],[0.2222222222222222,\"#7201a8\"],[0.3333333333333333,\"#9c179e\"],[0.4444444444444444,\"#bd3786\"],[0.5555555555555556,\"#d8576b\"],[0.6666666666666666,\"#ed7953\"],[0.7777777777777778,\"#fb9f3a\"],[0.8888888888888888,\"#fdca26\"],[1.0,\"#f0f921\"]],\"type\":\"heatmap\"}],\"heatmapgl\":[{\"colorbar\":{\"outlinewidth\":0,\"ticks\":\"\"},\"colorscale\":[[0.0,\"#0d0887\"],[0.1111111111111111,\"#46039f\"],[0.2222222222222222,\"#7201a8\"],[0.3333333333333333,\"#9c179e\"],[0.4444444444444444,\"#bd3786\"],[0.5555555555555556,\"#d8576b\"],[0.6666666666666666,\"#ed7953\"],[0.7777777777777778,\"#fb9f3a\"],[0.8888888888888888,\"#fdca26\"],[1.0,\"#f0f921\"]],\"type\":\"heatmapgl\"}],\"histogram\":[{\"marker\":{\"pattern\":{\"fillmode\":\"overlay\",\"size\":10,\"solidity\":0.2}},\"type\":\"histogram\"}],\"histogram2d\":[{\"colorbar\":{\"outlinewidth\":0,\"ticks\":\"\"},\"colorscale\":[[0.0,\"#0d0887\"],[0.1111111111111111,\"#46039f\"],[0.2222222222222222,\"#7201a8\"],[0.3333333333333333,\"#9c179e\"],[0.4444444444444444,\"#bd3786\"],[0.5555555555555556,\"#d8576b\"],[0.6666666666666666,\"#ed7953\"],[0.7777777777777778,\"#fb9f3a\"],[0.8888888888888888,\"#fdca26\"],[1.0,\"#f0f921\"]],\"type\":\"histogram2d\"}],\"histogram2dcontour\":[{\"colorbar\":{\"outlinewidth\":0,\"ticks\":\"\"},\"colorscale\":[[0.0,\"#0d0887\"],[0.1111111111111111,\"#46039f\"],[0.2222222222222222,\"#7201a8\"],[0.3333333333333333,\"#9c179e\"],[0.4444444444444444,\"#bd3786\"],[0.5555555555555556,\"#d8576b\"],[0.6666666666666666,\"#ed7953\"],[0.7777777777777778,\"#fb9f3a\"],[0.8888888888888888,\"#fdca26\"],[1.0,\"#f0f921\"]],\"type\":\"histogram2dcontour\"}],\"mesh3d\":[{\"colorbar\":{\"outlinewidth\":0,\"ticks\":\"\"},\"type\":\"mesh3d\"}],\"parcoords\":[{\"line\":{\"colorbar\":{\"outlinewidth\":0,\"ticks\":\"\"}},\"type\":\"parcoords\"}],\"pie\":[{\"automargin\":true,\"type\":\"pie\"}],\"scatter\":[{\"marker\":{\"colorbar\":{\"outlinewidth\":0,\"ticks\":\"\"}},\"type\":\"scatter\"}],\"scatter3d\":[{\"line\":{\"colorbar\":{\"outlinewidth\":0,\"ticks\":\"\"}},\"marker\":{\"colorbar\":{\"outlinewidth\":0,\"ticks\":\"\"}},\"type\":\"scatter3d\"}],\"scattercarpet\":[{\"marker\":{\"colorbar\":{\"outlinewidth\":0,\"ticks\":\"\"}},\"type\":\"scattercarpet\"}],\"scattergeo\":[{\"marker\":{\"colorbar\":{\"outlinewidth\":0,\"ticks\":\"\"}},\"type\":\"scattergeo\"}],\"scattergl\":[{\"marker\":{\"colorbar\":{\"outlinewidth\":0,\"ticks\":\"\"}},\"type\":\"scattergl\"}],\"scattermapbox\":[{\"marker\":{\"colorbar\":{\"outlinewidth\":0,\"ticks\":\"\"}},\"type\":\"scattermapbox\"}],\"scatterpolar\":[{\"marker\":{\"colorbar\":{\"outlinewidth\":0,\"ticks\":\"\"}},\"type\":\"scatterpolar\"}],\"scatterpolargl\":[{\"marker\":{\"colorbar\":{\"outlinewidth\":0,\"ticks\":\"\"}},\"type\":\"scatterpolargl\"}],\"scatterternary\":[{\"marker\":{\"colorbar\":{\"outlinewidth\":0,\"ticks\":\"\"}},\"type\":\"scatterternary\"}],\"surface\":[{\"colorbar\":{\"outlinewidth\":0,\"ticks\":\"\"},\"colorscale\":[[0.0,\"#0d0887\"],[0.1111111111111111,\"#46039f\"],[0.2222222222222222,\"#7201a8\"],[0.3333333333333333,\"#9c179e\"],[0.4444444444444444,\"#bd3786\"],[0.5555555555555556,\"#d8576b\"],[0.6666666666666666,\"#ed7953\"],[0.7777777777777778,\"#fb9f3a\"],[0.8888888888888888,\"#fdca26\"],[1.0,\"#f0f921\"]],\"type\":\"surface\"}],\"table\":[{\"cells\":{\"fill\":{\"color\":\"#EBF0F8\"},\"line\":{\"color\":\"white\"}},\"header\":{\"fill\":{\"color\":\"#C8D4E3\"},\"line\":{\"color\":\"white\"}},\"type\":\"table\"}]},\"layout\":{\"annotationdefaults\":{\"arrowcolor\":\"#2a3f5f\",\"arrowhead\":0,\"arrowwidth\":1},\"autotypenumbers\":\"strict\",\"coloraxis\":{\"colorbar\":{\"outlinewidth\":0,\"ticks\":\"\"}},\"colorscale\":{\"diverging\":[[0,\"#8e0152\"],[0.1,\"#c51b7d\"],[0.2,\"#de77ae\"],[0.3,\"#f1b6da\"],[0.4,\"#fde0ef\"],[0.5,\"#f7f7f7\"],[0.6,\"#e6f5d0\"],[0.7,\"#b8e186\"],[0.8,\"#7fbc41\"],[0.9,\"#4d9221\"],[1,\"#276419\"]],\"sequential\":[[0.0,\"#0d0887\"],[0.1111111111111111,\"#46039f\"],[0.2222222222222222,\"#7201a8\"],[0.3333333333333333,\"#9c179e\"],[0.4444444444444444,\"#bd3786\"],[0.5555555555555556,\"#d8576b\"],[0.6666666666666666,\"#ed7953\"],[0.7777777777777778,\"#fb9f3a\"],[0.8888888888888888,\"#fdca26\"],[1.0,\"#f0f921\"]],\"sequentialminus\":[[0.0,\"#0d0887\"],[0.1111111111111111,\"#46039f\"],[0.2222222222222222,\"#7201a8\"],[0.3333333333333333,\"#9c179e\"],[0.4444444444444444,\"#bd3786\"],[0.5555555555555556,\"#d8576b\"],[0.6666666666666666,\"#ed7953\"],[0.7777777777777778,\"#fb9f3a\"],[0.8888888888888888,\"#fdca26\"],[1.0,\"#f0f921\"]]},\"colorway\":[\"#636efa\",\"#EF553B\",\"#00cc96\",\"#ab63fa\",\"#FFA15A\",\"#19d3f3\",\"#FF6692\",\"#B6E880\",\"#FF97FF\",\"#FECB52\"],\"font\":{\"color\":\"#2a3f5f\"},\"geo\":{\"bgcolor\":\"white\",\"lakecolor\":\"white\",\"landcolor\":\"#E5ECF6\",\"showlakes\":true,\"showland\":true,\"subunitcolor\":\"white\"},\"hoverlabel\":{\"align\":\"left\"},\"hovermode\":\"closest\",\"mapbox\":{\"style\":\"light\"},\"paper_bgcolor\":\"white\",\"plot_bgcolor\":\"#E5ECF6\",\"polar\":{\"angularaxis\":{\"gridcolor\":\"white\",\"linecolor\":\"white\",\"ticks\":\"\"},\"bgcolor\":\"#E5ECF6\",\"radialaxis\":{\"gridcolor\":\"white\",\"linecolor\":\"white\",\"ticks\":\"\"}},\"scene\":{\"xaxis\":{\"backgroundcolor\":\"#E5ECF6\",\"gridcolor\":\"white\",\"gridwidth\":2,\"linecolor\":\"white\",\"showbackground\":true,\"ticks\":\"\",\"zerolinecolor\":\"white\"},\"yaxis\":{\"backgroundcolor\":\"#E5ECF6\",\"gridcolor\":\"white\",\"gridwidth\":2,\"linecolor\":\"white\",\"showbackground\":true,\"ticks\":\"\",\"zerolinecolor\":\"white\"},\"zaxis\":{\"backgroundcolor\":\"#E5ECF6\",\"gridcolor\":\"white\",\"gridwidth\":2,\"linecolor\":\"white\",\"showbackground\":true,\"ticks\":\"\",\"zerolinecolor\":\"white\"}},\"shapedefaults\":{\"line\":{\"color\":\"#2a3f5f\"}},\"ternary\":{\"aaxis\":{\"gridcolor\":\"white\",\"linecolor\":\"white\",\"ticks\":\"\"},\"baxis\":{\"gridcolor\":\"white\",\"linecolor\":\"white\",\"ticks\":\"\"},\"bgcolor\":\"#E5ECF6\",\"caxis\":{\"gridcolor\":\"white\",\"linecolor\":\"white\",\"ticks\":\"\"}},\"title\":{\"x\":0.05},\"xaxis\":{\"automargin\":true,\"gridcolor\":\"white\",\"linecolor\":\"white\",\"ticks\":\"\",\"title\":{\"standoff\":15},\"zerolinecolor\":\"white\",\"zerolinewidth\":2},\"yaxis\":{\"automargin\":true,\"gridcolor\":\"white\",\"linecolor\":\"white\",\"ticks\":\"\",\"title\":{\"standoff\":15},\"zerolinecolor\":\"white\",\"zerolinewidth\":2}}},\"xaxis\":{\"anchor\":\"y\",\"domain\":[0.0,1.0],\"title\":{\"text\":\"value\"}},\"yaxis\":{\"anchor\":\"x\",\"domain\":[0.0,1.0],\"title\":{\"text\":\"count\"}},\"legend\":{\"title\":{\"text\":\"variable\"},\"tracegroupgap\":0},\"title\":{\"text\":\"Word counts in Perguntas \"},\"barmode\":\"relative\",\"height\":500,\"width\":900},                        {\"responsive\": true}                    ).then(function(){\n",
       "                            \n",
       "var gd = document.getElementById('2577e09b-afaa-4352-b2ff-38cc6d58bfdd');\n",
       "var x = new MutationObserver(function (mutations, observer) {{\n",
       "        var display = window.getComputedStyle(gd).display;\n",
       "        if (!display || display === 'none') {{\n",
       "            console.log([gd, 'removed!']);\n",
       "            Plotly.purge(gd);\n",
       "            observer.disconnect();\n",
       "        }}\n",
       "}});\n",
       "\n",
       "// Listen for the removal of the full notebook cells\n",
       "var notebookContainer = gd.closest('#notebook-container');\n",
       "if (notebookContainer) {{\n",
       "    x.observe(notebookContainer, {childList: true});\n",
       "}}\n",
       "\n",
       "// Listen for the clearing of the current output cell\n",
       "var outputEl = gd.closest('.output');\n",
       "if (outputEl) {{\n",
       "    x.observe(outputEl, {childList: true});\n",
       "}}\n",
       "\n",
       "                        })                };                });            </script>        </div>"
      ]
     },
     "metadata": {},
     "output_type": "display_data"
    }
   ],
   "source": [
    "fig = px.histogram(\n",
    "    df.Perguntas.str.len(),\n",
    "    nbins=1000, height=500, width=900, \n",
    "    color_discrete_sequence=URBAN_PALETTE_CATEGORICAL.loc['hex_code'],\n",
    "    title='Word counts in Perguntas ')\n",
    "fig.show();"
   ]
  },
  {
   "cell_type": "markdown",
   "id": "135c7be7",
   "metadata": {},
   "source": [
    "## Machine learning"
   ]
  },
  {
   "cell_type": "code",
   "execution_count": 263,
   "id": "dc0f3649",
   "metadata": {
    "ExecuteTime": {
     "end_time": "2022-05-27T04:44:38.719001Z",
     "start_time": "2022-05-27T04:44:38.707980Z"
    }
   },
   "outputs": [],
   "source": [
    "def run_pipeline(transformer, estimator, df=df, **t_params):\n",
    "    \n",
    "    # Train/test split\n",
    "    X = df['Perguntas']\n",
    "    y = df['Tags'].apply(str.split)\n",
    "    X_train, X_test, y_train, y_test = train_test_split(X, y, test_size=0.2, random_state=42)\n",
    "    \n",
    "    # Preprocessing target labels\n",
    "    mlb = MultiLabelBinarizer()\n",
    "    y_train = mlb.fit_transform(y_train)\n",
    "    y_test = mlb.fit_transform(y_test)\n",
    "    \n",
    "    # Create Pipeline and fit model\n",
    "    pipeline = Pipeline([\n",
    "        ('tfidf', TfidfVectorizer(\n",
    "            max_features=5000, \n",
    "            max_df=0.85) \n",
    "        ),\n",
    "        ('clf_'+estimator.__name__, transformer(estimator(), **t_params)),\n",
    "    ]).fit(X_train, y_train)\n",
    "    \n",
    "    # Make predictions\n",
    "    y_pred_train = pipeline.predict(X_train)\n",
    "    y_pred_test = pipeline.predict(X_test)\n",
    "\n",
    "    # Model accuracy\n",
    "    train_acc = pipeline.score(X_train, y_train)\n",
    "    test_acc = pipeline.score(X_test, y_test)\n",
    "    print(f'Accuracy score for Train dataset: {train_acc*100:.2f}%')\n",
    "    print(f'Accuracy score for Test dataset:  {test_acc*100:.2f}%')\n",
    "    \n",
    "    # Hamming Loss metrics\n",
    "    hl_score_train = hamming_loss(y_train, y_pred_train)\n",
    "    hl_score_test = hamming_loss(y_test, y_pred_test)\n",
    "    print(f'Train dataset Hamming-loss: {hl_score_train:.2f}')\n",
    "    print(f'Test dataset Hamming-loss:  {hl_score_test:.2f}')\n",
    "    \n",
    "    return {\n",
    "        'pipeline'  : pipeline,\n",
    "        'accuracy'  : [train_acc, test_acc],\n",
    "        'hamm-loss' : [hl_score_train, hl_score_test]\n",
    "    }"
   ]
  },
  {
   "cell_type": "markdown",
   "id": "5f746fde",
   "metadata": {
    "heading_collapsed": true
   },
   "source": [
    "### Split data and Preprocessing"
   ]
  },
  {
   "cell_type": "code",
   "execution_count": 118,
   "id": "df317f73",
   "metadata": {
    "ExecuteTime": {
     "end_time": "2022-05-27T03:14:05.809344Z",
     "start_time": "2022-05-27T03:14:05.785820Z"
    },
    "hidden": true
   },
   "outputs": [],
   "source": [
    "# Train/test split\n",
    "from sklearn.model_selection import train_test_split\n",
    "X = df['Perguntas']\n",
    "y = df['Tags'].apply(str.split)\n",
    "X_train, X_test, y_train, y_test = train_test_split(X, y, test_size=0.2, random_state=42)\n",
    "\n",
    "# Preprocessing target labels\n",
    "from sklearn.preprocessing import MultiLabelBinarizer\n",
    "mlb = MultiLabelBinarizer()\n",
    "y_train = mlb.fit_transform(y_train)\n",
    "y_test = mlb.fit_transform(y_test)"
   ]
  },
  {
   "cell_type": "markdown",
   "id": "f9236248",
   "metadata": {
    "heading_collapsed": true
   },
   "source": [
    "### Multinomial Naive Bayes"
   ]
  },
  {
   "cell_type": "code",
   "execution_count": 122,
   "id": "0d2e6574",
   "metadata": {
    "ExecuteTime": {
     "end_time": "2022-05-27T03:16:00.294889Z",
     "start_time": "2022-05-27T03:15:59.517132Z"
    },
    "hidden": true
   },
   "outputs": [
    {
     "name": "stdout",
     "output_type": "stream",
     "text": [
      "Score for Train dataset: 47.39%\n",
      "Score for Test dataset:  28.84%\n"
     ]
    }
   ],
   "source": [
    "from sklearn.pipeline import Pipeline\n",
    "from sklearn.naive_bayes import MultinomialNB\n",
    "from sklearn.multiclass import OneVsRestClassifier\n",
    "\n",
    "# Instance estimator\n",
    "mnb = MultinomialNB()\n",
    "# Create Pipeline and fit model\n",
    "mnb_pipeline = Pipeline([\n",
    "    ('tfidf', TfidfVectorizer(\n",
    "        max_features=5000,\n",
    "        max_df=0.85,)\n",
    "    ),\n",
    "    ('clf_ovr', OneVsRestClassifier(mnb)),\n",
    "]).fit(X_train, y_train)\n",
    "# Model score\n",
    "print(f'Score for Train dataset: {mnb_pipeline.score(X_train, y_train)*100:.2f}%')\n",
    "print(f'Score for Test dataset:  {mnb_pipeline.score(X_test, y_test)*100:.2f}%')"
   ]
  },
  {
   "cell_type": "markdown",
   "id": "2e1a646a",
   "metadata": {
    "ExecuteTime": {
     "end_time": "2022-05-27T03:09:38.762572Z",
     "start_time": "2022-05-27T03:09:37.970038Z"
    },
    "heading_collapsed": true
   },
   "source": [
    "### Logistic Regression"
   ]
  },
  {
   "cell_type": "code",
   "execution_count": 138,
   "id": "d848fb2a",
   "metadata": {
    "ExecuteTime": {
     "end_time": "2022-05-27T03:19:17.195881Z",
     "start_time": "2022-05-27T03:19:15.976637Z"
    },
    "hidden": true
   },
   "outputs": [
    {
     "name": "stdout",
     "output_type": "stream",
     "text": [
      "Score for Train dataset: 59.04%\n",
      "Score for Test dataset:  40.39%\n"
     ]
    }
   ],
   "source": [
    "from sklearn.linear_model import LogisticRegression\n",
    "# Instance estimator\n",
    "lr = LogisticRegression()\n",
    "# Create Pipeline and fit model\n",
    "lr_pipeline = Pipeline([\n",
    "    ('tfidf', TfidfVectorizer(\n",
    "        max_features=5000, \n",
    "        max_df=0.85) \n",
    "    ),\n",
    "    ('clf_ovr', OneVsRestClassifier(lr)),\n",
    "]).fit(X_train, y_train)\n",
    "# Model score\n",
    "print(f'Score for Train dataset: {lr_pipeline.score(X_train, y_train)*100:.2f}%')\n",
    "print(f'Score for Test dataset:  {lr_pipeline.score(X_test, y_test)*100:.2f}%')"
   ]
  },
  {
   "cell_type": "markdown",
   "id": "94868841",
   "metadata": {
    "heading_collapsed": true
   },
   "source": [
    "### Hamming-loss metrics for Multilabel problem"
   ]
  },
  {
   "cell_type": "code",
   "execution_count": 148,
   "id": "58afdebf",
   "metadata": {
    "ExecuteTime": {
     "end_time": "2022-05-27T03:40:46.157695Z",
     "start_time": "2022-05-27T03:40:45.718884Z"
    },
    "hidden": true
   },
   "outputs": [
    {
     "name": "stdout",
     "output_type": "stream",
     "text": [
      "Train dataset Hamming-loss: 0.12\n",
      "Test dataset Hamming-loss:  0.19\n"
     ]
    }
   ],
   "source": [
    "from sklearn.metrics import hamming_loss\n",
    "# Make predictions\n",
    "y_pred_train = lr_pipeline.predict(X_train)\n",
    "y_pred_test = lr_pipeline.predict(X_test)\n",
    "# Hamming Loss metrics\n",
    "hl_score_train = hamming_loss(y_train, y_pred_train)\n",
    "hl_score_test = hamming_loss(y_test, y_pred_test)\n",
    "\n",
    "print(f'Train dataset Hamming-loss: {hl_score_train:.2f}')\n",
    "print(f'Test dataset Hamming-loss:  {hl_score_test:.2f}')"
   ]
  },
  {
   "cell_type": "markdown",
   "id": "ef8dfd50",
   "metadata": {
    "heading_collapsed": true
   },
   "source": [
    "### Classifier Chain"
   ]
  },
  {
   "cell_type": "code",
   "execution_count": 248,
   "id": "a792dc7b",
   "metadata": {
    "ExecuteTime": {
     "end_time": "2022-05-27T04:27:26.920995Z",
     "start_time": "2022-05-27T04:27:19.427410Z"
    },
    "hidden": true
   },
   "outputs": [
    {
     "name": "stdout",
     "output_type": "stream",
     "text": [
      "Collecting scikit-multilearn\n",
      "  Downloading scikit_multilearn-0.2.0-py3-none-any.whl (89 kB)\n",
      "\u001b[2K     \u001b[90m━━━━━━━━━━━━━━━━━━━━━━━━━━━━━━━━━━━━━━━━\u001b[0m \u001b[32m89.4/89.4 kB\u001b[0m \u001b[31m1.2 MB/s\u001b[0m eta \u001b[36m0:00:00\u001b[0mta \u001b[36m0:00:01\u001b[0m\n",
      "\u001b[?25hInstalling collected packages: scikit-multilearn\n",
      "Successfully installed scikit-multilearn-0.2.0\n",
      "\u001b[33mWARNING: There was an error checking the latest version of pip.\u001b[0m\u001b[33m\n",
      "\u001b[0m"
     ]
    }
   ],
   "source": [
    "!pip install scikit-multilearn;"
   ]
  },
  {
   "cell_type": "code",
   "execution_count": 251,
   "id": "7f18fd68",
   "metadata": {
    "ExecuteTime": {
     "end_time": "2022-05-27T04:30:37.059805Z",
     "start_time": "2022-05-27T04:30:26.212542Z"
    },
    "hidden": true
   },
   "outputs": [
    {
     "name": "stdout",
     "output_type": "stream",
     "text": [
      "Accuracy score for Train dataset: 65.35%\n",
      "Accuracy score for Test dataset:  49.54%\n",
      "Train dataset Hamming-loss: 0.14\n",
      "Test dataset Hamming-loss:  0.21\n"
     ]
    }
   ],
   "source": [
    "from skmultilearn.problem_transform import ClassifierChain\n",
    "\n",
    "# Create Pipeline and fit model\n",
    "chain_pipeline = Pipeline([\n",
    "    ('tfidf', TfidfVectorizer(\n",
    "        max_features=5000, \n",
    "        max_df=0.85) \n",
    "    ),\n",
    "    ('clf_chain', ClassifierChain(lr)),\n",
    "]).fit(X_train, y_train)\n",
    "\n",
    "# Model score\n",
    "print(f'Accuracy score for Train dataset: {chain_pipeline.score(X_train, y_train)*100:.2f}%')\n",
    "print(f'Accuracy score for Test dataset:  {chain_pipeline.score(X_test, y_test)*100:.2f}%')\n",
    "\n",
    "# Make predictions\n",
    "y_pred_train = chain_pipeline.predict(X_train)\n",
    "y_pred_test = chain_pipeline.predict(X_test)\n",
    "# Hamming Loss metrics\n",
    "hl_score_train = hamming_loss(y_train, y_pred_train)\n",
    "hl_score_test = hamming_loss(y_test, y_pred_test)\n",
    "\n",
    "print(f'Train dataset Hamming-loss: {hl_score_train:.2f}')\n",
    "print(f'Test dataset Hamming-loss:  {hl_score_test:.2f}')"
   ]
  },
  {
   "cell_type": "markdown",
   "id": "683c10a0",
   "metadata": {},
   "source": [
    "### Binary Relevance"
   ]
  },
  {
   "cell_type": "code",
   "execution_count": 264,
   "id": "577c2c77",
   "metadata": {
    "ExecuteTime": {
     "end_time": "2022-05-27T04:44:51.426085Z",
     "start_time": "2022-05-27T04:44:43.947832Z"
    }
   },
   "outputs": [
    {
     "name": "stdout",
     "output_type": "stream",
     "text": [
      "Accuracy score for Train dataset: 59.04%\n",
      "Accuracy score for Test dataset:  40.39%\n",
      "Train dataset Hamming-loss: 0.12\n",
      "Test dataset Hamming-loss:  0.19\n"
     ]
    }
   ],
   "source": [
    "from skmultilearn.problem_transform import BinaryRelevance\n",
    "\n",
    "br_clf = run_pipeline(transformer=BinaryRelevance, estimator=LogisticRegression)"
   ]
  },
  {
   "cell_type": "markdown",
   "id": "deb1d2a3",
   "metadata": {},
   "source": [
    "### ML-KNN"
   ]
  },
  {
   "cell_type": "code",
   "execution_count": 268,
   "id": "d34156aa",
   "metadata": {
    "ExecuteTime": {
     "end_time": "2022-05-27T04:54:59.487100Z",
     "start_time": "2022-05-27T04:54:59.078480Z"
    }
   },
   "outputs": [
    {
     "ename": "TypeError",
     "evalue": "__init__() takes 1 positional argument but 2 were given",
     "output_type": "error",
     "traceback": [
      "\u001b[0;31m---------------------------------------------------------------------------\u001b[0m",
      "\u001b[0;31mTypeError\u001b[0m                                 Traceback (most recent call last)",
      "Input \u001b[0;32mIn [268]\u001b[0m, in \u001b[0;36m<cell line: 11>\u001b[0;34m()\u001b[0m\n\u001b[1;32m      3\u001b[0m \u001b[38;5;66;03m# Create Pipeline and fit model\u001b[39;00m\n\u001b[1;32m      4\u001b[0m knn_pipeline \u001b[38;5;241m=\u001b[39m Pipeline([\n\u001b[1;32m      5\u001b[0m     (\u001b[38;5;124m'\u001b[39m\u001b[38;5;124mtfidf\u001b[39m\u001b[38;5;124m'\u001b[39m, TfidfVectorizer(\n\u001b[1;32m      6\u001b[0m         max_features\u001b[38;5;241m=\u001b[39m\u001b[38;5;241m5000\u001b[39m, \n\u001b[0;32m   (...)\u001b[0m\n\u001b[1;32m      9\u001b[0m     (\u001b[38;5;124m'\u001b[39m\u001b[38;5;124mmlknn\u001b[39m\u001b[38;5;124m'\u001b[39m, MLkNN()),\n\u001b[1;32m     10\u001b[0m ])\n\u001b[0;32m---> 11\u001b[0m \u001b[43mknn_pipeline\u001b[49m\u001b[38;5;241;43m.\u001b[39;49m\u001b[43mfit\u001b[49m\u001b[43m(\u001b[49m\u001b[43mX_train\u001b[49m\u001b[43m,\u001b[49m\u001b[43m \u001b[49m\u001b[43my_train\u001b[49m\u001b[43m)\u001b[49m\n\u001b[1;32m     12\u001b[0m \u001b[38;5;66;03m# Make predictions\u001b[39;00m\n\u001b[1;32m     13\u001b[0m y_pred_train \u001b[38;5;241m=\u001b[39m knn_pipeline\u001b[38;5;241m.\u001b[39mpredict(X_train)\n",
      "File \u001b[0;32m~/opt/anaconda3/lib/python3.9/site-packages/sklearn/pipeline.py:394\u001b[0m, in \u001b[0;36mPipeline.fit\u001b[0;34m(self, X, y, **fit_params)\u001b[0m\n\u001b[1;32m    392\u001b[0m     \u001b[38;5;28;01mif\u001b[39;00m \u001b[38;5;28mself\u001b[39m\u001b[38;5;241m.\u001b[39m_final_estimator \u001b[38;5;241m!=\u001b[39m \u001b[38;5;124m\"\u001b[39m\u001b[38;5;124mpassthrough\u001b[39m\u001b[38;5;124m\"\u001b[39m:\n\u001b[1;32m    393\u001b[0m         fit_params_last_step \u001b[38;5;241m=\u001b[39m fit_params_steps[\u001b[38;5;28mself\u001b[39m\u001b[38;5;241m.\u001b[39msteps[\u001b[38;5;241m-\u001b[39m\u001b[38;5;241m1\u001b[39m][\u001b[38;5;241m0\u001b[39m]]\n\u001b[0;32m--> 394\u001b[0m         \u001b[38;5;28;43mself\u001b[39;49m\u001b[38;5;241;43m.\u001b[39;49m\u001b[43m_final_estimator\u001b[49m\u001b[38;5;241;43m.\u001b[39;49m\u001b[43mfit\u001b[49m\u001b[43m(\u001b[49m\u001b[43mXt\u001b[49m\u001b[43m,\u001b[49m\u001b[43m \u001b[49m\u001b[43my\u001b[49m\u001b[43m,\u001b[49m\u001b[43m \u001b[49m\u001b[38;5;241;43m*\u001b[39;49m\u001b[38;5;241;43m*\u001b[39;49m\u001b[43mfit_params_last_step\u001b[49m\u001b[43m)\u001b[49m\n\u001b[1;32m    396\u001b[0m \u001b[38;5;28;01mreturn\u001b[39;00m \u001b[38;5;28mself\u001b[39m\n",
      "File \u001b[0;32m~/opt/anaconda3/lib/python3.9/site-packages/skmultilearn/adapt/mlknn.py:218\u001b[0m, in \u001b[0;36mMLkNN.fit\u001b[0;34m(self, X, y)\u001b[0m\n\u001b[1;32m    216\u001b[0m \u001b[38;5;28mself\u001b[39m\u001b[38;5;241m.\u001b[39m_prior_prob_true, \u001b[38;5;28mself\u001b[39m\u001b[38;5;241m.\u001b[39m_prior_prob_false \u001b[38;5;241m=\u001b[39m \u001b[38;5;28mself\u001b[39m\u001b[38;5;241m.\u001b[39m_compute_prior(\u001b[38;5;28mself\u001b[39m\u001b[38;5;241m.\u001b[39m_label_cache)\n\u001b[1;32m    217\u001b[0m \u001b[38;5;66;03m# Computing the posterior probabilities\u001b[39;00m\n\u001b[0;32m--> 218\u001b[0m \u001b[38;5;28mself\u001b[39m\u001b[38;5;241m.\u001b[39m_cond_prob_true, \u001b[38;5;28mself\u001b[39m\u001b[38;5;241m.\u001b[39m_cond_prob_false \u001b[38;5;241m=\u001b[39m \u001b[38;5;28;43mself\u001b[39;49m\u001b[38;5;241;43m.\u001b[39;49m\u001b[43m_compute_cond\u001b[49m\u001b[43m(\u001b[49m\u001b[43mX\u001b[49m\u001b[43m,\u001b[49m\u001b[43m \u001b[49m\u001b[38;5;28;43mself\u001b[39;49m\u001b[38;5;241;43m.\u001b[39;49m\u001b[43m_label_cache\u001b[49m\u001b[43m)\u001b[49m\n\u001b[1;32m    219\u001b[0m \u001b[38;5;28;01mreturn\u001b[39;00m \u001b[38;5;28mself\u001b[39m\n",
      "File \u001b[0;32m~/opt/anaconda3/lib/python3.9/site-packages/skmultilearn/adapt/mlknn.py:165\u001b[0m, in \u001b[0;36mMLkNN._compute_cond\u001b[0;34m(self, X, y)\u001b[0m\n\u001b[1;32m    146\u001b[0m \u001b[38;5;28;01mdef\u001b[39;00m \u001b[38;5;21m_compute_cond\u001b[39m(\u001b[38;5;28mself\u001b[39m, X, y):\n\u001b[1;32m    147\u001b[0m     \u001b[38;5;124;03m\"\"\"Helper function to compute for the posterior probabilities\u001b[39;00m\n\u001b[1;32m    148\u001b[0m \n\u001b[1;32m    149\u001b[0m \u001b[38;5;124;03m    Parameters\u001b[39;00m\n\u001b[0;32m   (...)\u001b[0m\n\u001b[1;32m    162\u001b[0m \u001b[38;5;124;03m        the posterior probability given false\u001b[39;00m\n\u001b[1;32m    163\u001b[0m \u001b[38;5;124;03m    \"\"\"\u001b[39;00m\n\u001b[0;32m--> 165\u001b[0m     \u001b[38;5;28mself\u001b[39m\u001b[38;5;241m.\u001b[39mknn_ \u001b[38;5;241m=\u001b[39m \u001b[43mNearestNeighbors\u001b[49m\u001b[43m(\u001b[49m\u001b[38;5;28;43mself\u001b[39;49m\u001b[38;5;241;43m.\u001b[39;49m\u001b[43mk\u001b[49m\u001b[43m)\u001b[49m\u001b[38;5;241m.\u001b[39mfit(X)\n\u001b[1;32m    166\u001b[0m     c \u001b[38;5;241m=\u001b[39m sparse\u001b[38;5;241m.\u001b[39mlil_matrix((\u001b[38;5;28mself\u001b[39m\u001b[38;5;241m.\u001b[39m_num_labels, \u001b[38;5;28mself\u001b[39m\u001b[38;5;241m.\u001b[39mk \u001b[38;5;241m+\u001b[39m \u001b[38;5;241m1\u001b[39m), dtype\u001b[38;5;241m=\u001b[39m\u001b[38;5;124m'\u001b[39m\u001b[38;5;124mi8\u001b[39m\u001b[38;5;124m'\u001b[39m)\n\u001b[1;32m    167\u001b[0m     cn \u001b[38;5;241m=\u001b[39m sparse\u001b[38;5;241m.\u001b[39mlil_matrix((\u001b[38;5;28mself\u001b[39m\u001b[38;5;241m.\u001b[39m_num_labels, \u001b[38;5;28mself\u001b[39m\u001b[38;5;241m.\u001b[39mk \u001b[38;5;241m+\u001b[39m \u001b[38;5;241m1\u001b[39m), dtype\u001b[38;5;241m=\u001b[39m\u001b[38;5;124m'\u001b[39m\u001b[38;5;124mi8\u001b[39m\u001b[38;5;124m'\u001b[39m)\n",
      "\u001b[0;31mTypeError\u001b[0m: __init__() takes 1 positional argument but 2 were given"
     ]
    }
   ],
   "source": [
    "from skmultilearn.adapt import MLkNN\n",
    "\n",
    "# Create Pipeline and fit model\n",
    "knn_pipeline = Pipeline([\n",
    "    ('tfidf', TfidfVectorizer(\n",
    "        max_features=5000, \n",
    "        max_df=0.85) \n",
    "    ),\n",
    "    ('mlknn', MLkNN()),\n",
    "])\n",
    "knn_pipeline.fit(X_train, y_train)\n",
    "# Make predictions\n",
    "y_pred_train = knn_pipeline.predict(X_train)\n",
    "y_pred_test = knn_pipeline.predict(X_test)\n",
    "# Model accuracy\n",
    "train_acc = knn_pipeline.score(X_train, y_train)\n",
    "test_acc = knn_pipeline.score(X_test, y_test)\n",
    "print(f'Accuracy score for Train dataset: {train_acc*100:.2f}%')\n",
    "print(f'Accuracy score for Test dataset:  {test_acc*100:.2f}%')\n",
    "# Hamming Loss metrics\n",
    "hl_score_train = hamming_loss(y_train, y_pred_train)\n",
    "hl_score_test = hamming_loss(y_test, y_pred_test)\n",
    "print(f'Train dataset Hamming-loss: {hl_score_train:.2f}')\n",
    "print(f'Test dataset Hamming-loss:  {hl_score_test:.2f}')"
   ]
  },
  {
   "cell_type": "markdown",
   "id": "cdc2815e",
   "metadata": {},
   "source": [
    "# Discussion"
   ]
  },
  {
   "cell_type": "markdown",
   "id": "4a993601",
   "metadata": {},
   "source": []
  },
  {
   "cell_type": "code",
   "execution_count": null,
   "id": "20fb8c0f",
   "metadata": {},
   "outputs": [],
   "source": []
  },
  {
   "cell_type": "code",
   "execution_count": null,
   "id": "1bca7252",
   "metadata": {},
   "outputs": [],
   "source": []
  }
 ],
 "metadata": {
  "kernelspec": {
   "display_name": "Python 3 (ipykernel)",
   "language": "python",
   "name": "python3"
  },
  "language_info": {
   "codemirror_mode": {
    "name": "ipython",
    "version": 3
   },
   "file_extension": ".py",
   "mimetype": "text/x-python",
   "name": "python",
   "nbconvert_exporter": "python",
   "pygments_lexer": "ipython3",
   "version": "3.9.12"
  },
  "toc": {
   "base_numbering": 1,
   "nav_menu": {},
   "number_sections": true,
   "sideBar": true,
   "skip_h1_title": false,
   "title_cell": "Table of Contents",
   "title_sidebar": "Contents",
   "toc_cell": false,
   "toc_position": {},
   "toc_section_display": true,
   "toc_window_display": false
  }
 },
 "nbformat": 4,
 "nbformat_minor": 5
}
