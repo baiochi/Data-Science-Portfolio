{
 "cells": [
  {
   "cell_type": "markdown",
   "metadata": {},
   "source": [
    "# <span style='font-family:Lato,sans-serif;color:#55b748;font-size: 1em;'> [Project Name] Exploratory Data Analysis\n",
    "\n",
    "<font color='#78c26d'>author</font> João Baiochi  \n",
    "<font color='#78c26d'>github</font> <a href='https://github.com/baiochi'>@baiochi</a>  \n",
    "<font color='#78c26d'>dataset source</font> <a href='https://www.kaggle.com'>Kaggle</a>\n"
   ]
  },
  {
   "cell_type": "markdown",
   "metadata": {},
   "source": [
    "# <a id='imports' style='font-family:Lato,sans-serif;color:#fdbf11;font-size: 0.8em;'> Libraries and Configurations"
   ]
  },
  {
   "cell_type": "code",
   "execution_count": 7,
   "metadata": {},
   "outputs": [
    {
     "name": "stdout",
     "output_type": "stream",
     "text": [
      "Numpy: 1.20.3\n",
      "Pandas: 1.3.4\n",
      "Sklearn: 1.0.2\n",
      "Matplotlib: 3.4.3\n",
      "Seaborn: 0.11.2\n",
      "Last run on 22/03/2022 at 14:40:06\n"
     ]
    }
   ],
   "source": [
    "# Aesthetics and utils\n",
    "import os\n",
    "from IPython.core.display import display\n",
    "\n",
    "# Data maniputalion\n",
    "from datetime import datetime\n",
    "import re\n",
    "import numpy as np\n",
    "import pandas as pd\n",
    "\n",
    "# Pandas config\n",
    "pd.set_option('display.float_format', lambda x: '%.2f' % x) # supress scientific notation\n",
    "pd.set_option('display.max_columns', 100)                   # increase max columns displayed\n",
    "\n",
    "# Saving binary files\n",
    "import pickle\n",
    "\n",
    "# Data visualization\n",
    "import matplotlib\n",
    "import matplotlib.pyplot as plt\n",
    "import seaborn as sns; sns.set()\n",
    "import plotly.express as px\n",
    "import plotly.graph_objects as go\n",
    "\n",
    "# Machine Learning\n",
    "import sklearn\n",
    "\n",
    "# Disable warnings - useless most of the time\n",
    "import warnings\n",
    "warnings.filterwarnings('ignore')\n",
    "\n",
    "# Terminal colors\n",
    "WHITE = '\\033[39m'\n",
    "CYAN = '\\033[36m'\n",
    "GREEN = '\\033[32m'\n",
    "RED = '\\033[31m'\n",
    "\n",
    "# Color pallete for plotting\n",
    "colors = {\n",
    "    'cyan': '#1696d2',\n",
    "    'gray': '#5c5859',\n",
    "    'black': '#000000',\n",
    "    'yellow': '#fdbf11',\n",
    "    'orange': '#ca5800',\n",
    "    'magenta': '#af1f6b',\n",
    "    'green': '#408941',\n",
    "    'red': '#a4201d'\n",
    "}\n",
    "\n",
    "# Check Libraries version\n",
    "print(f'Numpy: {np.__version__}')\n",
    "print(f'Pandas: {pd.__version__}')\n",
    "print(f'Sklearn: {sklearn.__version__}')\n",
    "print(f'Matplotlib: {matplotlib.__version__}')\n",
    "print(f'Seaborn: {sns.__version__}')\n",
    "print(datetime.now().strftime('Last run on %d/%m/%Y at %H:%M:%S'))\n",
    "\n",
    "\n",
    "# Markdown styling\n",
    "# header 1 - yellow \n",
    "# <a style='font-family:Lato,sans-serif;color:#fdbf11;font-size: 1em;'>\n",
    "# header 2 - blue #46abdb\n",
    "## <a style='font-family:Lato,sans-serif;color:#1696d2;font-size: 1em;'>"
   ]
  },
  {
   "cell_type": "markdown",
   "metadata": {},
   "source": [
    "# <span style='font-family:Lato,sans-serif;color:#fdbf11;font-size: 0.8em;'>Table of Contents\n",
    "\n",
    "1. [Data Overview](#overview)\n",
    "2. [Reading Data](#read)  \n",
    "3. [Checking Null Values](#na)  \n",
    "4. [Features Types](#ftypes)  \n",
    "\t- [Numerical Features](#num_features)\n",
    "\t- [Categorical Features](#cat_features)\n",
    "5. [Data Correlation](#corr)\n",
    "6. [Target Distribuition](#target)\n",
    "7. [Domain Knowledge Questions](#dkq)\n",
    "8. [Feature Engineering](#feat_eng)"
   ]
  },
  {
   "cell_type": "markdown",
   "metadata": {},
   "source": [
    "# <a id='overview' style='font-family:Lato,sans-serif;color:#fdbf11;font-size: 0.8em;'>1. Data Overview"
   ]
  },
  {
   "cell_type": "markdown",
   "metadata": {},
   "source": []
  },
  {
   "cell_type": "markdown",
   "metadata": {},
   "source": [
    "# <a id='read' style='font-family:Lato,sans-serif;color:#fdbf11;font-size: 0.8em;'>2. Reading Data"
   ]
  },
  {
   "cell_type": "markdown",
   "metadata": {},
   "source": []
  },
  {
   "cell_type": "markdown",
   "metadata": {},
   "source": [
    "# <a id='na' style='font-family:Lato,sans-serif;color:#fdbf11;font-size: 0.8em;'>3. Checking Null Values"
   ]
  },
  {
   "cell_type": "markdown",
   "metadata": {},
   "source": []
  },
  {
   "cell_type": "markdown",
   "metadata": {},
   "source": [
    "# <a id='ftypes' style='font-family:Lato,sans-serif;color:#fdbf11;font-size: 0.8em;'>4.Features Types"
   ]
  },
  {
   "cell_type": "markdown",
   "metadata": {},
   "source": [
    "## <a id='num_features' style='font-family:Lato,sans-serif;color:#1696d2;font-size: 0.8em;'> Numerical Features"
   ]
  },
  {
   "cell_type": "markdown",
   "metadata": {},
   "source": [
    "## <a id='cat_features' style='font-family:Lato,sans-serif;color:#1696d2;font-size: 0.8em;'> Categorical Features"
   ]
  },
  {
   "cell_type": "markdown",
   "metadata": {},
   "source": [
    "# <a id='corr' style='font-family:Lato,sans-serif;color:#fdbf11;font-size: 0.8em;'>5. Data Correlation"
   ]
  },
  {
   "cell_type": "markdown",
   "metadata": {},
   "source": []
  },
  {
   "cell_type": "markdown",
   "metadata": {},
   "source": [
    "# <a id='target' style='font-family:Lato,sans-serif;color:#fdbf11;font-size: 0.8em;'>6. Target Distribuition"
   ]
  },
  {
   "cell_type": "markdown",
   "metadata": {},
   "source": []
  },
  {
   "cell_type": "markdown",
   "metadata": {},
   "source": [
    "# <a id='dkq' style='font-family:Lato,sans-serif;color:#fdbf11;font-size: 0.8em;'>7. Domain Knowledge Questions"
   ]
  },
  {
   "cell_type": "markdown",
   "metadata": {},
   "source": []
  },
  {
   "cell_type": "markdown",
   "metadata": {},
   "source": [
    "# <a id='feat_eng' style='font-family:Lato,sans-serif;color:#fdbf11;font-size: 0.8em;'>8. Feature Engineering"
   ]
  },
  {
   "cell_type": "markdown",
   "metadata": {},
   "source": []
  }
 ],
 "metadata": {
  "interpreter": {
   "hash": "4cc37c5bde6f2c4a9abbb0f88e1ba241d8320ce9d430498035b829e5a00e7fb9"
  },
  "kernelspec": {
   "display_name": "Python 3.9.7 ('base')",
   "language": "python",
   "name": "python3"
  },
  "language_info": {
   "codemirror_mode": {
    "name": "ipython",
    "version": 3
   },
   "file_extension": ".py",
   "mimetype": "text/x-python",
   "name": "python",
   "nbconvert_exporter": "python",
   "pygments_lexer": "ipython3",
   "version": "3.9.7"
  },
  "orig_nbformat": 4
 },
 "nbformat": 4,
 "nbformat_minor": 2
}
